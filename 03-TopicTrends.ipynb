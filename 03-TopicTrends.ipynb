{
 "cells": [
  {
   "cell_type": "markdown",
   "metadata": {},
   "source": [
    "# Topic Model Trends &mdash; Demo \n",
    "\n",
    "In this notebook we visualize a previously generated topic model. We use data exported from a Constellate search on the term `hyperparameter`."
   ]
  },
  {
   "cell_type": "markdown",
   "metadata": {},
   "source": [
    "# Set Up"
   ]
  },
  {
   "cell_type": "markdown",
   "metadata": {},
   "source": [
    "## Imports"
   ]
  },
  {
   "cell_type": "code",
   "execution_count": 23,
   "metadata": {},
   "outputs": [],
   "source": [
    "import pandas as pd\n",
    "import numpy as np"
   ]
  },
  {
   "cell_type": "markdown",
   "metadata": {},
   "source": [
    "## Configuration"
   ]
  },
  {
   "cell_type": "code",
   "execution_count": 98,
   "metadata": {},
   "outputs": [],
   "source": [
    "data_prefix = 'jstor_hyperparameter_demo'\n",
    "db_dir = './db'"
   ]
  },
  {
   "cell_type": "code",
   "execution_count": 25,
   "metadata": {},
   "outputs": [
    {
     "data": {
      "text/plain": [
       "'jstor_hyperparameter'"
      ]
     },
     "execution_count": 25,
     "metadata": {},
     "output_type": "execute_result"
    }
   ],
   "source": [
    "data_prefix"
   ]
  },
  {
   "cell_type": "markdown",
   "metadata": {},
   "source": [
    "## Import Topic Data\n",
    "\n",
    "We import our previously generated model."
   ]
  },
  {
   "cell_type": "code",
   "execution_count": 26,
   "metadata": {},
   "outputs": [],
   "source": [
    "topic_model_suffix = '_NMF'\n",
    "# topic_model_suffix = ''"
   ]
  },
  {
   "cell_type": "code",
   "execution_count": 27,
   "metadata": {},
   "outputs": [],
   "source": [
    "LABELS = pd.read_csv(f\"{db_dir}/{data_prefix}-LABELS.csv\").set_index('doc_id')\n",
    "VOCAB = pd.read_csv(f\"{db_dir}/{data_prefix}-VOCAB.csv\").set_index('term_str')\n",
    "BOW = pd.read_csv(f\"{db_dir}/{data_prefix}-BOW.csv\").set_index(['doc_id','term_str'])\n",
    "TOPICS = pd.read_csv(f\"{db_dir}/{data_prefix}-TOPICS{topic_model_suffix}.csv\").set_index('topic_id')\n",
    "THETA = pd.read_csv(f\"{db_dir}/{data_prefix}-THETA{topic_model_suffix}.csv\").set_index('doc_id')\n",
    "THETA.columns.name = 'topic_id'\n",
    "THETA.columns = [int(col) for col in THETA.columns] # Should change columns to strings\n",
    "PHI = pd.read_csv(f\"{db_dir}/{data_prefix}-PHI{topic_model_suffix}.csv\").set_index('topic_id')\n",
    "PHI.columns.name = 'term_str'"
   ]
  },
  {
   "cell_type": "code",
   "execution_count": 28,
   "metadata": {},
   "outputs": [],
   "source": [
    "n_topics = len(TOPICS)\n",
    "topic_cols = [t for t in range(n_topics)]"
   ]
  },
  {
   "cell_type": "markdown",
   "metadata": {},
   "source": [
    "# Show Graphs"
   ]
  },
  {
   "cell_type": "code",
   "execution_count": 57,
   "metadata": {},
   "outputs": [],
   "source": [
    "TOPICS['gloss'] = ['Bayesian models', 'French', 'MCMC', 'priors', 'economics', 'random effects', 'variable selection',\n",
    "                 'empirical Bayes', 'env biology', 'genetics']"
   ]
  },
  {
   "cell_type": "code",
   "execution_count": 36,
   "metadata": {},
   "outputs": [],
   "source": [
    "THETA['label'] = LABELS['doc_year']"
   ]
  },
  {
   "cell_type": "code",
   "execution_count": 71,
   "metadata": {},
   "outputs": [],
   "source": [
    "TRENDS = THETA.groupby('label').mean()\n",
    "# TRENDS.columns = TOPICS.topwords.str.extract(r'^(.{20})')[0]\n",
    "TRENDS.columns = TOPICS.gloss"
   ]
  },
  {
   "cell_type": "code",
   "execution_count": 72,
   "metadata": {
    "scrolled": false
   },
   "outputs": [
    {
     "data": {
      "text/html": [
       "<style  type=\"text/css\" >\n",
       "#T_06d1d_row0_col0,#T_06d1d_row0_col1,#T_06d1d_row0_col2,#T_06d1d_row0_col3,#T_06d1d_row0_col4,#T_06d1d_row0_col5,#T_06d1d_row0_col6,#T_06d1d_row0_col8,#T_06d1d_row0_col9,#T_06d1d_row1_col1,#T_06d1d_row1_col2,#T_06d1d_row1_col3,#T_06d1d_row1_col4,#T_06d1d_row1_col5,#T_06d1d_row1_col7,#T_06d1d_row1_col8,#T_06d1d_row1_col9,#T_06d1d_row2_col1,#T_06d1d_row2_col2,#T_06d1d_row2_col4,#T_06d1d_row2_col5,#T_06d1d_row2_col6,#T_06d1d_row2_col8,#T_06d1d_row2_col9,#T_06d1d_row3_col1,#T_06d1d_row3_col2,#T_06d1d_row3_col4,#T_06d1d_row3_col5,#T_06d1d_row3_col6,#T_06d1d_row3_col8,#T_06d1d_row3_col9,#T_06d1d_row4_col1,#T_06d1d_row4_col2,#T_06d1d_row4_col4,#T_06d1d_row4_col5,#T_06d1d_row4_col8,#T_06d1d_row4_col9,#T_06d1d_row5_col1,#T_06d1d_row5_col4,#T_06d1d_row5_col5,#T_06d1d_row5_col7,#T_06d1d_row5_col8,#T_06d1d_row5_col9,#T_06d1d_row6_col1,#T_06d1d_row6_col2,#T_06d1d_row6_col4,#T_06d1d_row6_col5,#T_06d1d_row6_col7,#T_06d1d_row6_col8,#T_06d1d_row6_col9,#T_06d1d_row7_col1,#T_06d1d_row7_col4,#T_06d1d_row7_col7,#T_06d1d_row7_col8,#T_06d1d_row7_col9,#T_06d1d_row8_col1,#T_06d1d_row8_col2,#T_06d1d_row8_col4,#T_06d1d_row8_col5,#T_06d1d_row8_col6,#T_06d1d_row8_col8,#T_06d1d_row8_col9,#T_06d1d_row9_col1,#T_06d1d_row9_col2,#T_06d1d_row9_col4,#T_06d1d_row9_col6,#T_06d1d_row9_col9,#T_06d1d_row10_col1,#T_06d1d_row10_col2,#T_06d1d_row10_col4,#T_06d1d_row10_col5,#T_06d1d_row10_col6,#T_06d1d_row10_col7,#T_06d1d_row10_col8,#T_06d1d_row10_col9,#T_06d1d_row11_col1,#T_06d1d_row11_col2,#T_06d1d_row11_col9,#T_06d1d_row12_col1,#T_06d1d_row12_col2,#T_06d1d_row12_col3,#T_06d1d_row12_col4,#T_06d1d_row12_col5,#T_06d1d_row12_col6,#T_06d1d_row12_col7,#T_06d1d_row12_col8,#T_06d1d_row12_col9,#T_06d1d_row13_col1,#T_06d1d_row13_col2,#T_06d1d_row13_col3,#T_06d1d_row13_col4,#T_06d1d_row13_col5,#T_06d1d_row13_col8,#T_06d1d_row13_col9,#T_06d1d_row14_col5,#T_06d1d_row14_col8,#T_06d1d_row14_col9,#T_06d1d_row15_col6,#T_06d1d_row15_col8,#T_06d1d_row15_col9,#T_06d1d_row16_col2,#T_06d1d_row16_col4,#T_06d1d_row16_col8,#T_06d1d_row16_col9,#T_06d1d_row17_col2,#T_06d1d_row17_col4,#T_06d1d_row17_col5,#T_06d1d_row17_col6,#T_06d1d_row17_col9,#T_06d1d_row18_col1,#T_06d1d_row18_col6,#T_06d1d_row18_col8,#T_06d1d_row18_col9,#T_06d1d_row19_col8,#T_06d1d_row19_col9,#T_06d1d_row20_col8,#T_06d1d_row21_col1,#T_06d1d_row21_col5,#T_06d1d_row21_col8,#T_06d1d_row21_col9,#T_06d1d_row22_col4,#T_06d1d_row22_col8,#T_06d1d_row22_col9,#T_06d1d_row23_col1,#T_06d1d_row23_col9,#T_06d1d_row25_col9,#T_06d1d_row26_col8,#T_06d1d_row26_col9,#T_06d1d_row27_col9,#T_06d1d_row28_col9,#T_06d1d_row29_col8,#T_06d1d_row31_col4,#T_06d1d_row39_col1,#T_06d1d_row40_col1,#T_06d1d_row43_col1,#T_06d1d_row44_col4,#T_06d1d_row44_col5{\n",
       "            background-color:  #fff7fb;\n",
       "            color:  #000000;\n",
       "        }#T_06d1d_row0_col7,#T_06d1d_row1_col0,#T_06d1d_row2_col3,#T_06d1d_row6_col6,#T_06d1d_row15_col1,#T_06d1d_row15_col4,#T_06d1d_row19_col5,#T_06d1d_row26_col2,#T_06d1d_row34_col9,#T_06d1d_row44_col8{\n",
       "            background-color:  #023858;\n",
       "            color:  #f1f1f1;\n",
       "        }#T_06d1d_row1_col6,#T_06d1d_row18_col7,#T_06d1d_row20_col6,#T_06d1d_row43_col4{\n",
       "            background-color:  #ede8f3;\n",
       "            color:  #000000;\n",
       "        }#T_06d1d_row2_col0,#T_06d1d_row5_col3,#T_06d1d_row16_col3,#T_06d1d_row41_col9{\n",
       "            background-color:  #bfc9e1;\n",
       "            color:  #000000;\n",
       "        }#T_06d1d_row2_col7,#T_06d1d_row16_col6,#T_06d1d_row28_col7,#T_06d1d_row28_col8,#T_06d1d_row32_col4,#T_06d1d_row44_col3{\n",
       "            background-color:  #faf2f8;\n",
       "            color:  #000000;\n",
       "        }#T_06d1d_row3_col0{\n",
       "            background-color:  #5ea0ca;\n",
       "            color:  #000000;\n",
       "        }#T_06d1d_row3_col3,#T_06d1d_row9_col8,#T_06d1d_row26_col7,#T_06d1d_row27_col6,#T_06d1d_row27_col8{\n",
       "            background-color:  #f9f2f8;\n",
       "            color:  #000000;\n",
       "        }#T_06d1d_row3_col7,#T_06d1d_row11_col8,#T_06d1d_row20_col2,#T_06d1d_row25_col4,#T_06d1d_row41_col3{\n",
       "            background-color:  #f2ecf5;\n",
       "            color:  #000000;\n",
       "        }#T_06d1d_row4_col0,#T_06d1d_row14_col7,#T_06d1d_row42_col2{\n",
       "            background-color:  #cdd0e5;\n",
       "            color:  #000000;\n",
       "        }#T_06d1d_row4_col3{\n",
       "            background-color:  #2081b9;\n",
       "            color:  #000000;\n",
       "        }#T_06d1d_row4_col6,#T_06d1d_row9_col7,#T_06d1d_row27_col7,#T_06d1d_row30_col6,#T_06d1d_row31_col1{\n",
       "            background-color:  #f8f1f8;\n",
       "            color:  #000000;\n",
       "        }#T_06d1d_row4_col7,#T_06d1d_row20_col4,#T_06d1d_row24_col9,#T_06d1d_row31_col8{\n",
       "            background-color:  #ece7f2;\n",
       "            color:  #000000;\n",
       "        }#T_06d1d_row5_col0,#T_06d1d_row25_col2{\n",
       "            background-color:  #3991c1;\n",
       "            color:  #000000;\n",
       "        }#T_06d1d_row5_col2,#T_06d1d_row19_col6,#T_06d1d_row21_col4,#T_06d1d_row22_col7,#T_06d1d_row23_col7,#T_06d1d_row25_col8,#T_06d1d_row31_col7,#T_06d1d_row34_col8,#T_06d1d_row39_col7,#T_06d1d_row40_col7,#T_06d1d_row42_col7{\n",
       "            background-color:  #fdf5fa;\n",
       "            color:  #000000;\n",
       "        }#T_06d1d_row5_col6,#T_06d1d_row15_col7,#T_06d1d_row21_col6,#T_06d1d_row23_col8,#T_06d1d_row28_col4,#T_06d1d_row29_col7{\n",
       "            background-color:  #fef6fb;\n",
       "            color:  #000000;\n",
       "        }#T_06d1d_row6_col0,#T_06d1d_row39_col4{\n",
       "            background-color:  #73a9cf;\n",
       "            color:  #000000;\n",
       "        }#T_06d1d_row6_col3{\n",
       "            background-color:  #045f95;\n",
       "            color:  #f1f1f1;\n",
       "        }#T_06d1d_row7_col0{\n",
       "            background-color:  #79abd0;\n",
       "            color:  #000000;\n",
       "        }#T_06d1d_row7_col2,#T_06d1d_row14_col0,#T_06d1d_row15_col3,#T_06d1d_row28_col6,#T_06d1d_row31_col3,#T_06d1d_row36_col3{\n",
       "            background-color:  #e7e3f0;\n",
       "            color:  #000000;\n",
       "        }#T_06d1d_row7_col3{\n",
       "            background-color:  #045585;\n",
       "            color:  #f1f1f1;\n",
       "        }#T_06d1d_row7_col5,#T_06d1d_row24_col2,#T_06d1d_row35_col1{\n",
       "            background-color:  #cccfe5;\n",
       "            color:  #000000;\n",
       "        }#T_06d1d_row7_col6,#T_06d1d_row9_col3{\n",
       "            background-color:  #8bb2d4;\n",
       "            color:  #000000;\n",
       "        }#T_06d1d_row8_col0{\n",
       "            background-color:  #83afd3;\n",
       "            color:  #000000;\n",
       "        }#T_06d1d_row8_col3,#T_06d1d_row21_col7,#T_06d1d_row26_col6,#T_06d1d_row29_col9,#T_06d1d_row37_col7,#T_06d1d_row38_col7{\n",
       "            background-color:  #fbf4f9;\n",
       "            color:  #000000;\n",
       "        }#T_06d1d_row8_col7,#T_06d1d_row19_col3,#T_06d1d_row27_col4{\n",
       "            background-color:  #eae6f1;\n",
       "            color:  #000000;\n",
       "        }#T_06d1d_row9_col0{\n",
       "            background-color:  #056ba9;\n",
       "            color:  #f1f1f1;\n",
       "        }#T_06d1d_row9_col5,#T_06d1d_row42_col6{\n",
       "            background-color:  #e0dded;\n",
       "            color:  #000000;\n",
       "        }#T_06d1d_row10_col0{\n",
       "            background-color:  #034165;\n",
       "            color:  #f1f1f1;\n",
       "        }#T_06d1d_row10_col3,#T_06d1d_row11_col5,#T_06d1d_row17_col7,#T_06d1d_row30_col4,#T_06d1d_row32_col7,#T_06d1d_row41_col1,#T_06d1d_row42_col1,#T_06d1d_row43_col7,#T_06d1d_row44_col7{\n",
       "            background-color:  #fbf3f9;\n",
       "            color:  #000000;\n",
       "        }#T_06d1d_row11_col0{\n",
       "            background-color:  #7dacd1;\n",
       "            color:  #000000;\n",
       "        }#T_06d1d_row11_col3{\n",
       "            background-color:  #4e9ac6;\n",
       "            color:  #000000;\n",
       "        }#T_06d1d_row11_col4,#T_06d1d_row11_col6,#T_06d1d_row18_col4,#T_06d1d_row24_col8,#T_06d1d_row32_col3,#T_06d1d_row33_col1,#T_06d1d_row37_col1,#T_06d1d_row38_col1{\n",
       "            background-color:  #f7f0f7;\n",
       "            color:  #000000;\n",
       "        }#T_06d1d_row11_col7,#T_06d1d_row18_col2,#T_06d1d_row33_col7,#T_06d1d_row34_col7,#T_06d1d_row36_col7{\n",
       "            background-color:  #faf3f9;\n",
       "            color:  #000000;\n",
       "        }#T_06d1d_row12_col0,#T_06d1d_row31_col0{\n",
       "            background-color:  #045a8d;\n",
       "            color:  #f1f1f1;\n",
       "        }#T_06d1d_row13_col0{\n",
       "            background-color:  #056aa6;\n",
       "            color:  #f1f1f1;\n",
       "        }#T_06d1d_row13_col6,#T_06d1d_row17_col8,#T_06d1d_row32_col1{\n",
       "            background-color:  #f6eff7;\n",
       "            color:  #000000;\n",
       "        }#T_06d1d_row13_col7,#T_06d1d_row14_col2,#T_06d1d_row39_col3,#T_06d1d_row42_col3{\n",
       "            background-color:  #efe9f3;\n",
       "            color:  #000000;\n",
       "        }#T_06d1d_row14_col1,#T_06d1d_row35_col4,#T_06d1d_row36_col1,#T_06d1d_row38_col2,#T_06d1d_row43_col8{\n",
       "            background-color:  #ced0e6;\n",
       "            color:  #000000;\n",
       "        }#T_06d1d_row14_col3{\n",
       "            background-color:  #e6e2ef;\n",
       "            color:  #000000;\n",
       "        }#T_06d1d_row14_col4,#T_06d1d_row33_col0{\n",
       "            background-color:  #04639b;\n",
       "            color:  #f1f1f1;\n",
       "        }#T_06d1d_row14_col6,#T_06d1d_row22_col6,#T_06d1d_row23_col6{\n",
       "            background-color:  #f5eef6;\n",
       "            color:  #000000;\n",
       "        }#T_06d1d_row15_col0{\n",
       "            background-color:  #6da6cd;\n",
       "            color:  #000000;\n",
       "        }#T_06d1d_row15_col2,#T_06d1d_row16_col7,#T_06d1d_row20_col1{\n",
       "            background-color:  #e0deed;\n",
       "            color:  #000000;\n",
       "        }#T_06d1d_row15_col5{\n",
       "            background-color:  #d0d1e6;\n",
       "            color:  #000000;\n",
       "        }#T_06d1d_row16_col0,#T_06d1d_row18_col0{\n",
       "            background-color:  #2f8bbe;\n",
       "            color:  #000000;\n",
       "        }#T_06d1d_row16_col1,#T_06d1d_row21_col2{\n",
       "            background-color:  #c2cbe2;\n",
       "            color:  #000000;\n",
       "        }#T_06d1d_row16_col5{\n",
       "            background-color:  #034973;\n",
       "            color:  #f1f1f1;\n",
       "        }#T_06d1d_row17_col0{\n",
       "            background-color:  #4697c4;\n",
       "            color:  #000000;\n",
       "        }#T_06d1d_row17_col1,#T_06d1d_row43_col5{\n",
       "            background-color:  #c0c9e2;\n",
       "            color:  #000000;\n",
       "        }#T_06d1d_row17_col3,#T_06d1d_row25_col1,#T_06d1d_row34_col4{\n",
       "            background-color:  #b1c2de;\n",
       "            color:  #000000;\n",
       "        }#T_06d1d_row18_col3{\n",
       "            background-color:  #abbfdc;\n",
       "            color:  #000000;\n",
       "        }#T_06d1d_row18_col5,#T_06d1d_row32_col8,#T_06d1d_row43_col3{\n",
       "            background-color:  #f4eef6;\n",
       "            color:  #000000;\n",
       "        }#T_06d1d_row19_col0{\n",
       "            background-color:  #157ab5;\n",
       "            color:  #000000;\n",
       "        }#T_06d1d_row19_col1,#T_06d1d_row28_col3,#T_06d1d_row41_col6{\n",
       "            background-color:  #d2d2e7;\n",
       "            color:  #000000;\n",
       "        }#T_06d1d_row19_col2,#T_06d1d_row29_col3,#T_06d1d_row43_col6{\n",
       "            background-color:  #e1dfed;\n",
       "            color:  #000000;\n",
       "        }#T_06d1d_row19_col4{\n",
       "            background-color:  #4496c3;\n",
       "            color:  #000000;\n",
       "        }#T_06d1d_row19_col7,#T_06d1d_row27_col3,#T_06d1d_row40_col3{\n",
       "            background-color:  #ede7f2;\n",
       "            color:  #000000;\n",
       "        }#T_06d1d_row20_col0{\n",
       "            background-color:  #045687;\n",
       "            color:  #f1f1f1;\n",
       "        }#T_06d1d_row20_col3,#T_06d1d_row37_col6{\n",
       "            background-color:  #e4e1ef;\n",
       "            color:  #000000;\n",
       "        }#T_06d1d_row20_col5,#T_06d1d_row41_col0,#T_06d1d_row42_col0,#T_06d1d_row44_col9{\n",
       "            background-color:  #034871;\n",
       "            color:  #f1f1f1;\n",
       "        }#T_06d1d_row20_col7{\n",
       "            background-color:  #e9e5f1;\n",
       "            color:  #000000;\n",
       "        }#T_06d1d_row20_col9,#T_06d1d_row24_col1,#T_06d1d_row30_col3,#T_06d1d_row38_col5{\n",
       "            background-color:  #e2dfee;\n",
       "            color:  #000000;\n",
       "        }#T_06d1d_row21_col0{\n",
       "            background-color:  #0a73b2;\n",
       "            color:  #f1f1f1;\n",
       "        }#T_06d1d_row21_col3,#T_06d1d_row38_col9{\n",
       "            background-color:  #a8bedc;\n",
       "            color:  #000000;\n",
       "        }#T_06d1d_row22_col0,#T_06d1d_row41_col4{\n",
       "            background-color:  #2786bb;\n",
       "            color:  #000000;\n",
       "        }#T_06d1d_row22_col1,#T_06d1d_row35_col3,#T_06d1d_row38_col8{\n",
       "            background-color:  #f0eaf4;\n",
       "            color:  #000000;\n",
       "        }#T_06d1d_row22_col2{\n",
       "            background-color:  #d9d8ea;\n",
       "            color:  #000000;\n",
       "        }#T_06d1d_row22_col3{\n",
       "            background-color:  #b8c6e0;\n",
       "            color:  #000000;\n",
       "        }#T_06d1d_row22_col5{\n",
       "            background-color:  #d7d6e9;\n",
       "            color:  #000000;\n",
       "        }#T_06d1d_row23_col0,#T_06d1d_row24_col0{\n",
       "            background-color:  #05659f;\n",
       "            color:  #f1f1f1;\n",
       "        }#T_06d1d_row23_col2,#T_06d1d_row34_col0,#T_06d1d_row39_col0{\n",
       "            background-color:  #04588a;\n",
       "            color:  #f1f1f1;\n",
       "        }#T_06d1d_row23_col3{\n",
       "            background-color:  #ebe6f2;\n",
       "            color:  #000000;\n",
       "        }#T_06d1d_row23_col4,#T_06d1d_row29_col2,#T_06d1d_row40_col2{\n",
       "            background-color:  #a7bddb;\n",
       "            color:  #000000;\n",
       "        }#T_06d1d_row23_col5,#T_06d1d_row42_col9{\n",
       "            background-color:  #0c74b2;\n",
       "            color:  #f1f1f1;\n",
       "        }#T_06d1d_row24_col3{\n",
       "            background-color:  #d3d4e7;\n",
       "            color:  #000000;\n",
       "        }#T_06d1d_row24_col4,#T_06d1d_row32_col6,#T_06d1d_row44_col1{\n",
       "            background-color:  #f3edf5;\n",
       "            color:  #000000;\n",
       "        }#T_06d1d_row24_col5,#T_06d1d_row35_col8{\n",
       "            background-color:  #dbdaeb;\n",
       "            color:  #000000;\n",
       "        }#T_06d1d_row24_col6,#T_06d1d_row28_col1{\n",
       "            background-color:  #f1ebf4;\n",
       "            color:  #000000;\n",
       "        }#T_06d1d_row24_col7,#T_06d1d_row27_col1,#T_06d1d_row37_col3{\n",
       "            background-color:  #f4edf6;\n",
       "            color:  #000000;\n",
       "        }#T_06d1d_row25_col0,#T_06d1d_row25_col5{\n",
       "            background-color:  #1e80b8;\n",
       "            color:  #000000;\n",
       "        }#T_06d1d_row25_col3,#T_06d1d_row38_col4,#T_06d1d_row38_col6,#T_06d1d_row40_col6{\n",
       "            background-color:  #dddbec;\n",
       "            color:  #000000;\n",
       "        }#T_06d1d_row25_col6,#T_06d1d_row30_col1,#T_06d1d_row36_col8{\n",
       "            background-color:  #e3e0ee;\n",
       "            color:  #000000;\n",
       "        }#T_06d1d_row25_col7{\n",
       "            background-color:  #e5e1ef;\n",
       "            color:  #000000;\n",
       "        }#T_06d1d_row26_col0,#T_06d1d_row32_col2,#T_06d1d_row36_col0,#T_06d1d_row40_col4{\n",
       "            background-color:  #197db7;\n",
       "            color:  #000000;\n",
       "        }#T_06d1d_row26_col1,#T_06d1d_row34_col1,#T_06d1d_row38_col3{\n",
       "            background-color:  #f5eff6;\n",
       "            color:  #000000;\n",
       "        }#T_06d1d_row26_col3{\n",
       "            background-color:  #a2bcda;\n",
       "            color:  #000000;\n",
       "        }#T_06d1d_row26_col4{\n",
       "            background-color:  #b9c6e0;\n",
       "            color:  #000000;\n",
       "        }#T_06d1d_row26_col5{\n",
       "            background-color:  #348ebf;\n",
       "            color:  #000000;\n",
       "        }#T_06d1d_row27_col0{\n",
       "            background-color:  #045483;\n",
       "            color:  #f1f1f1;\n",
       "        }#T_06d1d_row27_col2{\n",
       "            background-color:  #69a5cc;\n",
       "            color:  #000000;\n",
       "        }#T_06d1d_row27_col5{\n",
       "            background-color:  #8fb4d6;\n",
       "            color:  #000000;\n",
       "        }#T_06d1d_row28_col0{\n",
       "            background-color:  #023c5f;\n",
       "            color:  #f1f1f1;\n",
       "        }#T_06d1d_row28_col2,#T_06d1d_row43_col0{\n",
       "            background-color:  #0567a1;\n",
       "            color:  #f1f1f1;\n",
       "        }#T_06d1d_row28_col5,#T_06d1d_row29_col5,#T_06d1d_row39_col5{\n",
       "            background-color:  #78abd0;\n",
       "            color:  #000000;\n",
       "        }#T_06d1d_row29_col0{\n",
       "            background-color:  #046097;\n",
       "            color:  #f1f1f1;\n",
       "        }#T_06d1d_row29_col1,#T_06d1d_row44_col2{\n",
       "            background-color:  #d2d3e7;\n",
       "            color:  #000000;\n",
       "        }#T_06d1d_row29_col4{\n",
       "            background-color:  #7bacd1;\n",
       "            color:  #000000;\n",
       "        }#T_06d1d_row29_col6{\n",
       "            background-color:  #c9cee4;\n",
       "            color:  #000000;\n",
       "        }#T_06d1d_row30_col0{\n",
       "            background-color:  #03446a;\n",
       "            color:  #f1f1f1;\n",
       "        }#T_06d1d_row30_col2{\n",
       "            background-color:  #1c7fb8;\n",
       "            color:  #000000;\n",
       "        }#T_06d1d_row30_col5{\n",
       "            background-color:  #75a9cf;\n",
       "            color:  #000000;\n",
       "        }#T_06d1d_row30_col7,#T_06d1d_row35_col7,#T_06d1d_row41_col7{\n",
       "            background-color:  #fcf4fa;\n",
       "            color:  #000000;\n",
       "        }#T_06d1d_row30_col8,#T_06d1d_row32_col5,#T_06d1d_row42_col5{\n",
       "            background-color:  #dedcec;\n",
       "            color:  #000000;\n",
       "        }#T_06d1d_row30_col9{\n",
       "            background-color:  #0569a5;\n",
       "            color:  #f1f1f1;\n",
       "        }#T_06d1d_row31_col2{\n",
       "            background-color:  #3d93c2;\n",
       "            color:  #000000;\n",
       "        }#T_06d1d_row31_col5{\n",
       "            background-color:  #1b7eb7;\n",
       "            color:  #000000;\n",
       "        }#T_06d1d_row31_col6,#T_06d1d_row33_col3{\n",
       "            background-color:  #e8e4f0;\n",
       "            color:  #000000;\n",
       "        }#T_06d1d_row31_col9{\n",
       "            background-color:  #045e94;\n",
       "            color:  #f1f1f1;\n",
       "        }#T_06d1d_row32_col0{\n",
       "            background-color:  #045b8f;\n",
       "            color:  #f1f1f1;\n",
       "        }#T_06d1d_row32_col9{\n",
       "            background-color:  #86b0d3;\n",
       "            color:  #000000;\n",
       "        }#T_06d1d_row33_col2{\n",
       "            background-color:  #1379b5;\n",
       "            color:  #f1f1f1;\n",
       "        }#T_06d1d_row33_col4{\n",
       "            background-color:  #9ab8d8;\n",
       "            color:  #000000;\n",
       "        }#T_06d1d_row33_col5,#T_06d1d_row35_col5{\n",
       "            background-color:  #a5bddb;\n",
       "            color:  #000000;\n",
       "        }#T_06d1d_row33_col6{\n",
       "            background-color:  #afc1dd;\n",
       "            color:  #000000;\n",
       "        }#T_06d1d_row33_col8{\n",
       "            background-color:  #f1ebf5;\n",
       "            color:  #000000;\n",
       "        }#T_06d1d_row33_col9{\n",
       "            background-color:  #023f64;\n",
       "            color:  #f1f1f1;\n",
       "        }#T_06d1d_row34_col2{\n",
       "            background-color:  #88b1d4;\n",
       "            color:  #000000;\n",
       "        }#T_06d1d_row34_col3,#T_06d1d_row39_col6{\n",
       "            background-color:  #eee9f3;\n",
       "            color:  #000000;\n",
       "        }#T_06d1d_row34_col5{\n",
       "            background-color:  #0567a2;\n",
       "            color:  #f1f1f1;\n",
       "        }#T_06d1d_row34_col6{\n",
       "            background-color:  #9ebad9;\n",
       "            color:  #000000;\n",
       "        }#T_06d1d_row35_col0{\n",
       "            background-color:  #045788;\n",
       "            color:  #f1f1f1;\n",
       "        }#T_06d1d_row35_col2{\n",
       "            background-color:  #6ba5cd;\n",
       "            color:  #000000;\n",
       "        }#T_06d1d_row35_col6{\n",
       "            background-color:  #dfddec;\n",
       "            color:  #000000;\n",
       "        }#T_06d1d_row35_col9,#T_06d1d_row36_col9{\n",
       "            background-color:  #c4cbe3;\n",
       "            color:  #000000;\n",
       "        }#T_06d1d_row36_col2{\n",
       "            background-color:  #60a1ca;\n",
       "            color:  #000000;\n",
       "        }#T_06d1d_row36_col4{\n",
       "            background-color:  #0872b1;\n",
       "            color:  #f1f1f1;\n",
       "        }#T_06d1d_row36_col5{\n",
       "            background-color:  #7eadd1;\n",
       "            color:  #000000;\n",
       "        }#T_06d1d_row36_col6{\n",
       "            background-color:  #d5d5e8;\n",
       "            color:  #000000;\n",
       "        }#T_06d1d_row37_col0{\n",
       "            background-color:  #04649d;\n",
       "            color:  #f1f1f1;\n",
       "        }#T_06d1d_row37_col2{\n",
       "            background-color:  #93b5d6;\n",
       "            color:  #000000;\n",
       "        }#T_06d1d_row37_col4{\n",
       "            background-color:  #056ba7;\n",
       "            color:  #f1f1f1;\n",
       "        }#T_06d1d_row37_col5{\n",
       "            background-color:  #c8cde4;\n",
       "            color:  #000000;\n",
       "        }#T_06d1d_row37_col8,#T_06d1d_row42_col8{\n",
       "            background-color:  #dcdaeb;\n",
       "            color:  #000000;\n",
       "        }#T_06d1d_row37_col9{\n",
       "            background-color:  #71a8ce;\n",
       "            color:  #000000;\n",
       "        }#T_06d1d_row38_col0{\n",
       "            background-color:  #04598c;\n",
       "            color:  #f1f1f1;\n",
       "        }#T_06d1d_row39_col2{\n",
       "            background-color:  #89b1d4;\n",
       "            color:  #000000;\n",
       "        }#T_06d1d_row39_col8,#T_06d1d_row42_col4{\n",
       "            background-color:  #b7c5df;\n",
       "            color:  #000000;\n",
       "        }#T_06d1d_row39_col9{\n",
       "            background-color:  #b0c2de;\n",
       "            color:  #000000;\n",
       "        }#T_06d1d_row40_col0{\n",
       "            background-color:  #046198;\n",
       "            color:  #f1f1f1;\n",
       "        }#T_06d1d_row40_col5{\n",
       "            background-color:  #b5c4df;\n",
       "            color:  #000000;\n",
       "        }#T_06d1d_row40_col8{\n",
       "            background-color:  #bbc7e0;\n",
       "            color:  #000000;\n",
       "        }#T_06d1d_row40_col9{\n",
       "            background-color:  #0569a4;\n",
       "            color:  #f1f1f1;\n",
       "        }#T_06d1d_row41_col2,#T_06d1d_row41_col5{\n",
       "            background-color:  #b3c3de;\n",
       "            color:  #000000;\n",
       "        }#T_06d1d_row41_col8{\n",
       "            background-color:  #d4d4e8;\n",
       "            color:  #000000;\n",
       "        }#T_06d1d_row43_col2{\n",
       "            background-color:  #d8d7e9;\n",
       "            color:  #000000;\n",
       "        }#T_06d1d_row43_col9{\n",
       "            background-color:  #2a88bc;\n",
       "            color:  #000000;\n",
       "        }#T_06d1d_row44_col0{\n",
       "            background-color:  #167bb6;\n",
       "            color:  #000000;\n",
       "        }#T_06d1d_row44_col6{\n",
       "            background-color:  #81aed2;\n",
       "            color:  #000000;\n",
       "        }</style><table id=\"T_06d1d_\" ><thead>    <tr>        <th class=\"index_name level0\" >gloss</th>        <th class=\"col_heading level0 col0\" >Bayesian models</th>        <th class=\"col_heading level0 col1\" >French</th>        <th class=\"col_heading level0 col2\" >MCMC</th>        <th class=\"col_heading level0 col3\" >priors</th>        <th class=\"col_heading level0 col4\" >economics</th>        <th class=\"col_heading level0 col5\" >random effects</th>        <th class=\"col_heading level0 col6\" >variable selection</th>        <th class=\"col_heading level0 col7\" >empirical Bayes</th>        <th class=\"col_heading level0 col8\" >env biology</th>        <th class=\"col_heading level0 col9\" >genetics</th>    </tr>    <tr>        <th class=\"index_name level0\" >label</th>        <th class=\"blank\" ></th>        <th class=\"blank\" ></th>        <th class=\"blank\" ></th>        <th class=\"blank\" ></th>        <th class=\"blank\" ></th>        <th class=\"blank\" ></th>        <th class=\"blank\" ></th>        <th class=\"blank\" ></th>        <th class=\"blank\" ></th>        <th class=\"blank\" ></th>    </tr></thead><tbody>\n",
       "                <tr>\n",
       "                        <th id=\"T_06d1d_level0_row0\" class=\"row_heading level0 row0\" >1969</th>\n",
       "                        <td id=\"T_06d1d_row0_col0\" class=\"data row0 col0\" >0.014073</td>\n",
       "                        <td id=\"T_06d1d_row0_col1\" class=\"data row0 col1\" >0.000000</td>\n",
       "                        <td id=\"T_06d1d_row0_col2\" class=\"data row0 col2\" >0.000000</td>\n",
       "                        <td id=\"T_06d1d_row0_col3\" class=\"data row0 col3\" >0.000000</td>\n",
       "                        <td id=\"T_06d1d_row0_col4\" class=\"data row0 col4\" >0.000000</td>\n",
       "                        <td id=\"T_06d1d_row0_col5\" class=\"data row0 col5\" >0.000000</td>\n",
       "                        <td id=\"T_06d1d_row0_col6\" class=\"data row0 col6\" >0.000000</td>\n",
       "                        <td id=\"T_06d1d_row0_col7\" class=\"data row0 col7\" >0.223419</td>\n",
       "                        <td id=\"T_06d1d_row0_col8\" class=\"data row0 col8\" >0.000000</td>\n",
       "                        <td id=\"T_06d1d_row0_col9\" class=\"data row0 col9\" >0.000000</td>\n",
       "            </tr>\n",
       "            <tr>\n",
       "                        <th id=\"T_06d1d_level0_row1\" class=\"row_heading level0 row1\" >1972</th>\n",
       "                        <td id=\"T_06d1d_row1_col0\" class=\"data row1 col0\" >0.059407</td>\n",
       "                        <td id=\"T_06d1d_row1_col1\" class=\"data row1 col1\" >0.000000</td>\n",
       "                        <td id=\"T_06d1d_row1_col2\" class=\"data row1 col2\" >0.000000</td>\n",
       "                        <td id=\"T_06d1d_row1_col3\" class=\"data row1 col3\" >0.000000</td>\n",
       "                        <td id=\"T_06d1d_row1_col4\" class=\"data row1 col4\" >0.000000</td>\n",
       "                        <td id=\"T_06d1d_row1_col5\" class=\"data row1 col5\" >0.000000</td>\n",
       "                        <td id=\"T_06d1d_row1_col6\" class=\"data row1 col6\" >0.005211</td>\n",
       "                        <td id=\"T_06d1d_row1_col7\" class=\"data row1 col7\" >0.000000</td>\n",
       "                        <td id=\"T_06d1d_row1_col8\" class=\"data row1 col8\" >0.000000</td>\n",
       "                        <td id=\"T_06d1d_row1_col9\" class=\"data row1 col9\" >0.000000</td>\n",
       "            </tr>\n",
       "            <tr>\n",
       "                        <th id=\"T_06d1d_level0_row2\" class=\"row_heading level0 row2\" >1973</th>\n",
       "                        <td id=\"T_06d1d_row2_col0\" class=\"data row2 col0\" >0.027742</td>\n",
       "                        <td id=\"T_06d1d_row2_col1\" class=\"data row2 col1\" >0.000000</td>\n",
       "                        <td id=\"T_06d1d_row2_col2\" class=\"data row2 col2\" >0.000000</td>\n",
       "                        <td id=\"T_06d1d_row2_col3\" class=\"data row2 col3\" >0.088297</td>\n",
       "                        <td id=\"T_06d1d_row2_col4\" class=\"data row2 col4\" >0.000000</td>\n",
       "                        <td id=\"T_06d1d_row2_col5\" class=\"data row2 col5\" >0.000000</td>\n",
       "                        <td id=\"T_06d1d_row2_col6\" class=\"data row2 col6\" >0.000000</td>\n",
       "                        <td id=\"T_06d1d_row2_col7\" class=\"data row2 col7\" >0.008352</td>\n",
       "                        <td id=\"T_06d1d_row2_col8\" class=\"data row2 col8\" >0.000000</td>\n",
       "                        <td id=\"T_06d1d_row2_col9\" class=\"data row2 col9\" >0.000000</td>\n",
       "            </tr>\n",
       "            <tr>\n",
       "                        <th id=\"T_06d1d_level0_row3\" class=\"row_heading level0 row3\" >1974</th>\n",
       "                        <td id=\"T_06d1d_row3_col0\" class=\"data row3 col0\" >0.038775</td>\n",
       "                        <td id=\"T_06d1d_row3_col1\" class=\"data row3 col1\" >0.000000</td>\n",
       "                        <td id=\"T_06d1d_row3_col2\" class=\"data row3 col2\" >0.000000</td>\n",
       "                        <td id=\"T_06d1d_row3_col3\" class=\"data row3 col3\" >0.003789</td>\n",
       "                        <td id=\"T_06d1d_row3_col4\" class=\"data row3 col4\" >0.000000</td>\n",
       "                        <td id=\"T_06d1d_row3_col5\" class=\"data row3 col5\" >0.000000</td>\n",
       "                        <td id=\"T_06d1d_row3_col6\" class=\"data row3 col6\" >0.000000</td>\n",
       "                        <td id=\"T_06d1d_row3_col7\" class=\"data row3 col7\" >0.019652</td>\n",
       "                        <td id=\"T_06d1d_row3_col8\" class=\"data row3 col8\" >0.000000</td>\n",
       "                        <td id=\"T_06d1d_row3_col9\" class=\"data row3 col9\" >0.000000</td>\n",
       "            </tr>\n",
       "            <tr>\n",
       "                        <th id=\"T_06d1d_level0_row4\" class=\"row_heading level0 row4\" >1976</th>\n",
       "                        <td id=\"T_06d1d_row4_col0\" class=\"data row4 col0\" >0.025872</td>\n",
       "                        <td id=\"T_06d1d_row4_col1\" class=\"data row4 col1\" >0.000000</td>\n",
       "                        <td id=\"T_06d1d_row4_col2\" class=\"data row4 col2\" >0.000000</td>\n",
       "                        <td id=\"T_06d1d_row4_col3\" class=\"data row4 col3\" >0.060340</td>\n",
       "                        <td id=\"T_06d1d_row4_col4\" class=\"data row4 col4\" >0.000000</td>\n",
       "                        <td id=\"T_06d1d_row4_col5\" class=\"data row4 col5\" >0.000000</td>\n",
       "                        <td id=\"T_06d1d_row4_col6\" class=\"data row4 col6\" >0.002203</td>\n",
       "                        <td id=\"T_06d1d_row4_col7\" class=\"data row4 col7\" >0.028697</td>\n",
       "                        <td id=\"T_06d1d_row4_col8\" class=\"data row4 col8\" >0.000000</td>\n",
       "                        <td id=\"T_06d1d_row4_col9\" class=\"data row4 col9\" >0.000000</td>\n",
       "            </tr>\n",
       "            <tr>\n",
       "                        <th id=\"T_06d1d_level0_row5\" class=\"row_heading level0 row5\" >1977</th>\n",
       "                        <td id=\"T_06d1d_row5_col0\" class=\"data row5 col0\" >0.042075</td>\n",
       "                        <td id=\"T_06d1d_row5_col1\" class=\"data row5 col1\" >0.000000</td>\n",
       "                        <td id=\"T_06d1d_row5_col2\" class=\"data row5 col2\" >0.000586</td>\n",
       "                        <td id=\"T_06d1d_row5_col3\" class=\"data row5 col3\" >0.026708</td>\n",
       "                        <td id=\"T_06d1d_row5_col4\" class=\"data row5 col4\" >0.000000</td>\n",
       "                        <td id=\"T_06d1d_row5_col5\" class=\"data row5 col5\" >0.000000</td>\n",
       "                        <td id=\"T_06d1d_row5_col6\" class=\"data row5 col6\" >0.000240</td>\n",
       "                        <td id=\"T_06d1d_row5_col7\" class=\"data row5 col7\" >0.000000</td>\n",
       "                        <td id=\"T_06d1d_row5_col8\" class=\"data row5 col8\" >0.000000</td>\n",
       "                        <td id=\"T_06d1d_row5_col9\" class=\"data row5 col9\" >0.000000</td>\n",
       "            </tr>\n",
       "            <tr>\n",
       "                        <th id=\"T_06d1d_level0_row6\" class=\"row_heading level0 row6\" >1978</th>\n",
       "                        <td id=\"T_06d1d_row6_col0\" class=\"data row6 col0\" >0.036793</td>\n",
       "                        <td id=\"T_06d1d_row6_col1\" class=\"data row6 col1\" >0.000000</td>\n",
       "                        <td id=\"T_06d1d_row6_col2\" class=\"data row6 col2\" >0.000000</td>\n",
       "                        <td id=\"T_06d1d_row6_col3\" class=\"data row6 col3\" >0.074521</td>\n",
       "                        <td id=\"T_06d1d_row6_col4\" class=\"data row6 col4\" >0.000000</td>\n",
       "                        <td id=\"T_06d1d_row6_col5\" class=\"data row6 col5\" >0.000000</td>\n",
       "                        <td id=\"T_06d1d_row6_col6\" class=\"data row6 col6\" >0.044416</td>\n",
       "                        <td id=\"T_06d1d_row6_col7\" class=\"data row6 col7\" >0.000780</td>\n",
       "                        <td id=\"T_06d1d_row6_col8\" class=\"data row6 col8\" >0.000000</td>\n",
       "                        <td id=\"T_06d1d_row6_col9\" class=\"data row6 col9\" >0.000000</td>\n",
       "            </tr>\n",
       "            <tr>\n",
       "                        <th id=\"T_06d1d_level0_row7\" class=\"row_heading level0 row7\" >1979</th>\n",
       "                        <td id=\"T_06d1d_row7_col0\" class=\"data row7 col0\" >0.036184</td>\n",
       "                        <td id=\"T_06d1d_row7_col1\" class=\"data row7 col1\" >0.000000</td>\n",
       "                        <td id=\"T_06d1d_row7_col2\" class=\"data row7 col2\" >0.004826</td>\n",
       "                        <td id=\"T_06d1d_row7_col3\" class=\"data row7 col3\" >0.078798</td>\n",
       "                        <td id=\"T_06d1d_row7_col4\" class=\"data row7 col4\" >0.000000</td>\n",
       "                        <td id=\"T_06d1d_row7_col5\" class=\"data row7 col5\" >0.005051</td>\n",
       "                        <td id=\"T_06d1d_row7_col6\" class=\"data row7 col6\" >0.019726</td>\n",
       "                        <td id=\"T_06d1d_row7_col7\" class=\"data row7 col7\" >0.000000</td>\n",
       "                        <td id=\"T_06d1d_row7_col8\" class=\"data row7 col8\" >0.000000</td>\n",
       "                        <td id=\"T_06d1d_row7_col9\" class=\"data row7 col9\" >0.000000</td>\n",
       "            </tr>\n",
       "            <tr>\n",
       "                        <th id=\"T_06d1d_level0_row8\" class=\"row_heading level0 row8\" >1980</th>\n",
       "                        <td id=\"T_06d1d_row8_col0\" class=\"data row8 col0\" >0.035120</td>\n",
       "                        <td id=\"T_06d1d_row8_col1\" class=\"data row8 col1\" >0.000000</td>\n",
       "                        <td id=\"T_06d1d_row8_col2\" class=\"data row8 col2\" >0.000000</td>\n",
       "                        <td id=\"T_06d1d_row8_col3\" class=\"data row8 col3\" >0.002295</td>\n",
       "                        <td id=\"T_06d1d_row8_col4\" class=\"data row8 col4\" >0.000000</td>\n",
       "                        <td id=\"T_06d1d_row8_col5\" class=\"data row8 col5\" >0.000000</td>\n",
       "                        <td id=\"T_06d1d_row8_col6\" class=\"data row8 col6\" >0.000000</td>\n",
       "                        <td id=\"T_06d1d_row8_col7\" class=\"data row8 col7\" >0.030020</td>\n",
       "                        <td id=\"T_06d1d_row8_col8\" class=\"data row8 col8\" >0.000000</td>\n",
       "                        <td id=\"T_06d1d_row8_col9\" class=\"data row8 col9\" >0.000000</td>\n",
       "            </tr>\n",
       "            <tr>\n",
       "                        <th id=\"T_06d1d_level0_row9\" class=\"row_heading level0 row9\" >1981</th>\n",
       "                        <td id=\"T_06d1d_row9_col0\" class=\"data row9 col0\" >0.049266</td>\n",
       "                        <td id=\"T_06d1d_row9_col1\" class=\"data row9 col1\" >0.000000</td>\n",
       "                        <td id=\"T_06d1d_row9_col2\" class=\"data row9 col2\" >0.000000</td>\n",
       "                        <td id=\"T_06d1d_row9_col3\" class=\"data row9 col3\" >0.039286</td>\n",
       "                        <td id=\"T_06d1d_row9_col4\" class=\"data row9 col4\" >0.000000</td>\n",
       "                        <td id=\"T_06d1d_row9_col5\" class=\"data row9 col5\" >0.003477</td>\n",
       "                        <td id=\"T_06d1d_row9_col6\" class=\"data row9 col6\" >0.000000</td>\n",
       "                        <td id=\"T_06d1d_row9_col7\" class=\"data row9 col7\" >0.010247</td>\n",
       "                        <td id=\"T_06d1d_row9_col8\" class=\"data row9 col8\" >0.001753</td>\n",
       "                        <td id=\"T_06d1d_row9_col9\" class=\"data row9 col9\" >0.000000</td>\n",
       "            </tr>\n",
       "            <tr>\n",
       "                        <th id=\"T_06d1d_level0_row10\" class=\"row_heading level0 row10\" >1982</th>\n",
       "                        <td id=\"T_06d1d_row10_col0\" class=\"data row10 col0\" >0.057976</td>\n",
       "                        <td id=\"T_06d1d_row10_col1\" class=\"data row10 col1\" >0.000000</td>\n",
       "                        <td id=\"T_06d1d_row10_col2\" class=\"data row10 col2\" >0.000000</td>\n",
       "                        <td id=\"T_06d1d_row10_col3\" class=\"data row10 col3\" >0.002687</td>\n",
       "                        <td id=\"T_06d1d_row10_col4\" class=\"data row10 col4\" >0.000000</td>\n",
       "                        <td id=\"T_06d1d_row10_col5\" class=\"data row10 col5\" >0.000000</td>\n",
       "                        <td id=\"T_06d1d_row10_col6\" class=\"data row10 col6\" >0.000000</td>\n",
       "                        <td id=\"T_06d1d_row10_col7\" class=\"data row10 col7\" >0.000000</td>\n",
       "                        <td id=\"T_06d1d_row10_col8\" class=\"data row10 col8\" >0.000000</td>\n",
       "                        <td id=\"T_06d1d_row10_col9\" class=\"data row10 col9\" >0.000000</td>\n",
       "            </tr>\n",
       "            <tr>\n",
       "                        <th id=\"T_06d1d_level0_row11\" class=\"row_heading level0 row11\" >1983</th>\n",
       "                        <td id=\"T_06d1d_row11_col0\" class=\"data row11 col0\" >0.035748</td>\n",
       "                        <td id=\"T_06d1d_row11_col1\" class=\"data row11 col1\" >0.000000</td>\n",
       "                        <td id=\"T_06d1d_row11_col2\" class=\"data row11 col2\" >0.000000</td>\n",
       "                        <td id=\"T_06d1d_row11_col3\" class=\"data row11 col3\" >0.050837</td>\n",
       "                        <td id=\"T_06d1d_row11_col4\" class=\"data row11 col4\" >0.001023</td>\n",
       "                        <td id=\"T_06d1d_row11_col5\" class=\"data row11 col5\" >0.000550</td>\n",
       "                        <td id=\"T_06d1d_row11_col6\" class=\"data row11 col6\" >0.002503</td>\n",
       "                        <td id=\"T_06d1d_row11_col7\" class=\"data row11 col7\" >0.007359</td>\n",
       "                        <td id=\"T_06d1d_row11_col8\" class=\"data row11 col8\" >0.003725</td>\n",
       "                        <td id=\"T_06d1d_row11_col9\" class=\"data row11 col9\" >0.000000</td>\n",
       "            </tr>\n",
       "            <tr>\n",
       "                        <th id=\"T_06d1d_level0_row12\" class=\"row_heading level0 row12\" >1984</th>\n",
       "                        <td id=\"T_06d1d_row12_col0\" class=\"data row12 col0\" >0.053686</td>\n",
       "                        <td id=\"T_06d1d_row12_col1\" class=\"data row12 col1\" >0.000000</td>\n",
       "                        <td id=\"T_06d1d_row12_col2\" class=\"data row12 col2\" >0.000000</td>\n",
       "                        <td id=\"T_06d1d_row12_col3\" class=\"data row12 col3\" >0.000212</td>\n",
       "                        <td id=\"T_06d1d_row12_col4\" class=\"data row12 col4\" >0.000000</td>\n",
       "                        <td id=\"T_06d1d_row12_col5\" class=\"data row12 col5\" >0.000000</td>\n",
       "                        <td id=\"T_06d1d_row12_col6\" class=\"data row12 col6\" >0.000000</td>\n",
       "                        <td id=\"T_06d1d_row12_col7\" class=\"data row12 col7\" >0.000000</td>\n",
       "                        <td id=\"T_06d1d_row12_col8\" class=\"data row12 col8\" >0.000000</td>\n",
       "                        <td id=\"T_06d1d_row12_col9\" class=\"data row12 col9\" >0.000000</td>\n",
       "            </tr>\n",
       "            <tr>\n",
       "                        <th id=\"T_06d1d_level0_row13\" class=\"row_heading level0 row13\" >1985</th>\n",
       "                        <td id=\"T_06d1d_row13_col0\" class=\"data row13 col0\" >0.049566</td>\n",
       "                        <td id=\"T_06d1d_row13_col1\" class=\"data row13 col1\" >0.000000</td>\n",
       "                        <td id=\"T_06d1d_row13_col2\" class=\"data row13 col2\" >0.000000</td>\n",
       "                        <td id=\"T_06d1d_row13_col3\" class=\"data row13 col3\" >0.000000</td>\n",
       "                        <td id=\"T_06d1d_row13_col4\" class=\"data row13 col4\" >0.000000</td>\n",
       "                        <td id=\"T_06d1d_row13_col5\" class=\"data row13 col5\" >0.000000</td>\n",
       "                        <td id=\"T_06d1d_row13_col6\" class=\"data row13 col6\" >0.002659</td>\n",
       "                        <td id=\"T_06d1d_row13_col7\" class=\"data row13 col7\" >0.023953</td>\n",
       "                        <td id=\"T_06d1d_row13_col8\" class=\"data row13 col8\" >0.000000</td>\n",
       "                        <td id=\"T_06d1d_row13_col9\" class=\"data row13 col9\" >0.000000</td>\n",
       "            </tr>\n",
       "            <tr>\n",
       "                        <th id=\"T_06d1d_level0_row14\" class=\"row_heading level0 row14\" >1986</th>\n",
       "                        <td id=\"T_06d1d_row14_col0\" class=\"data row14 col0\" >0.020766</td>\n",
       "                        <td id=\"T_06d1d_row14_col1\" class=\"data row14 col1\" >0.029421</td>\n",
       "                        <td id=\"T_06d1d_row14_col2\" class=\"data row14 col2\" >0.003417</td>\n",
       "                        <td id=\"T_06d1d_row14_col3\" class=\"data row14 col3\" >0.013605</td>\n",
       "                        <td id=\"T_06d1d_row14_col4\" class=\"data row14 col4\" >0.015736</td>\n",
       "                        <td id=\"T_06d1d_row14_col5\" class=\"data row14 col5\" >0.000000</td>\n",
       "                        <td id=\"T_06d1d_row14_col6\" class=\"data row14 col6\" >0.003071</td>\n",
       "                        <td id=\"T_06d1d_row14_col7\" class=\"data row14 col7\" >0.058413</td>\n",
       "                        <td id=\"T_06d1d_row14_col8\" class=\"data row14 col8\" >0.000000</td>\n",
       "                        <td id=\"T_06d1d_row14_col9\" class=\"data row14 col9\" >0.000000</td>\n",
       "            </tr>\n",
       "            <tr>\n",
       "                        <th id=\"T_06d1d_level0_row15\" class=\"row_heading level0 row15\" >1987</th>\n",
       "                        <td id=\"T_06d1d_row15_col0\" class=\"data row15 col0\" >0.037448</td>\n",
       "                        <td id=\"T_06d1d_row15_col1\" class=\"data row15 col1\" >0.115099</td>\n",
       "                        <td id=\"T_06d1d_row15_col2\" class=\"data row15 col2\" >0.005667</td>\n",
       "                        <td id=\"T_06d1d_row15_col3\" class=\"data row15 col3\" >0.013062</td>\n",
       "                        <td id=\"T_06d1d_row15_col4\" class=\"data row15 col4\" >0.019122</td>\n",
       "                        <td id=\"T_06d1d_row15_col5\" class=\"data row15 col5\" >0.004805</td>\n",
       "                        <td id=\"T_06d1d_row15_col6\" class=\"data row15 col6\" >0.000000</td>\n",
       "                        <td id=\"T_06d1d_row15_col7\" class=\"data row15 col7\" >0.001551</td>\n",
       "                        <td id=\"T_06d1d_row15_col8\" class=\"data row15 col8\" >0.000000</td>\n",
       "                        <td id=\"T_06d1d_row15_col9\" class=\"data row15 col9\" >0.000000</td>\n",
       "            </tr>\n",
       "            <tr>\n",
       "                        <th id=\"T_06d1d_level0_row16\" class=\"row_heading level0 row16\" >1988</th>\n",
       "                        <td id=\"T_06d1d_row16_col0\" class=\"data row16 col0\" >0.043141</td>\n",
       "                        <td id=\"T_06d1d_row16_col1\" class=\"data row16 col1\" >0.033474</td>\n",
       "                        <td id=\"T_06d1d_row16_col2\" class=\"data row16 col2\" >0.000000</td>\n",
       "                        <td id=\"T_06d1d_row16_col3\" class=\"data row16 col3\" >0.026772</td>\n",
       "                        <td id=\"T_06d1d_row16_col4\" class=\"data row16 col4\" >0.000000</td>\n",
       "                        <td id=\"T_06d1d_row16_col5\" class=\"data row16 col5\" >0.017924</td>\n",
       "                        <td id=\"T_06d1d_row16_col6\" class=\"data row16 col6\" >0.001643</td>\n",
       "                        <td id=\"T_06d1d_row16_col7\" class=\"data row16 col7\" >0.039529</td>\n",
       "                        <td id=\"T_06d1d_row16_col8\" class=\"data row16 col8\" >0.000000</td>\n",
       "                        <td id=\"T_06d1d_row16_col9\" class=\"data row16 col9\" >0.000000</td>\n",
       "            </tr>\n",
       "            <tr>\n",
       "                        <th id=\"T_06d1d_level0_row17\" class=\"row_heading level0 row17\" >1989</th>\n",
       "                        <td id=\"T_06d1d_row17_col0\" class=\"data row17 col0\" >0.040872</td>\n",
       "                        <td id=\"T_06d1d_row17_col1\" class=\"data row17 col1\" >0.034176</td>\n",
       "                        <td id=\"T_06d1d_row17_col2\" class=\"data row17 col2\" >0.000000</td>\n",
       "                        <td id=\"T_06d1d_row17_col3\" class=\"data row17 col3\" >0.030286</td>\n",
       "                        <td id=\"T_06d1d_row17_col4\" class=\"data row17 col4\" >0.000000</td>\n",
       "                        <td id=\"T_06d1d_row17_col5\" class=\"data row17 col5\" >0.000000</td>\n",
       "                        <td id=\"T_06d1d_row17_col6\" class=\"data row17 col6\" >0.000000</td>\n",
       "                        <td id=\"T_06d1d_row17_col7\" class=\"data row17 col7\" >0.006792</td>\n",
       "                        <td id=\"T_06d1d_row17_col8\" class=\"data row17 col8\" >0.002650</td>\n",
       "                        <td id=\"T_06d1d_row17_col9\" class=\"data row17 col9\" >0.000000</td>\n",
       "            </tr>\n",
       "            <tr>\n",
       "                        <th id=\"T_06d1d_level0_row18\" class=\"row_heading level0 row18\" >1990</th>\n",
       "                        <td id=\"T_06d1d_row18_col0\" class=\"data row18 col0\" >0.043116</td>\n",
       "                        <td id=\"T_06d1d_row18_col1\" class=\"data row18 col1\" >0.000000</td>\n",
       "                        <td id=\"T_06d1d_row18_col2\" class=\"data row18 col2\" >0.001120</td>\n",
       "                        <td id=\"T_06d1d_row18_col3\" class=\"data row18 col3\" >0.031904</td>\n",
       "                        <td id=\"T_06d1d_row18_col4\" class=\"data row18 col4\" >0.000974</td>\n",
       "                        <td id=\"T_06d1d_row18_col5\" class=\"data row18 col5\" >0.001393</td>\n",
       "                        <td id=\"T_06d1d_row18_col6\" class=\"data row18 col6\" >0.000000</td>\n",
       "                        <td id=\"T_06d1d_row18_col7\" class=\"data row18 col7\" >0.026922</td>\n",
       "                        <td id=\"T_06d1d_row18_col8\" class=\"data row18 col8\" >0.000000</td>\n",
       "                        <td id=\"T_06d1d_row18_col9\" class=\"data row18 col9\" >0.000000</td>\n",
       "            </tr>\n",
       "            <tr>\n",
       "                        <th id=\"T_06d1d_level0_row19\" class=\"row_heading level0 row19\" >1991</th>\n",
       "                        <td id=\"T_06d1d_row19_col0\" class=\"data row19 col0\" >0.046216</td>\n",
       "                        <td id=\"T_06d1d_row19_col1\" class=\"data row19 col1\" >0.027901</td>\n",
       "                        <td id=\"T_06d1d_row19_col2\" class=\"data row19 col2\" >0.005502</td>\n",
       "                        <td id=\"T_06d1d_row19_col3\" class=\"data row19 col3\" >0.011980</td>\n",
       "                        <td id=\"T_06d1d_row19_col4\" class=\"data row19 col4\" >0.011422</td>\n",
       "                        <td id=\"T_06d1d_row19_col5\" class=\"data row19 col5\" >0.019195</td>\n",
       "                        <td id=\"T_06d1d_row19_col6\" class=\"data row19 col6\" >0.000618</td>\n",
       "                        <td id=\"T_06d1d_row19_col7\" class=\"data row19 col7\" >0.027074</td>\n",
       "                        <td id=\"T_06d1d_row19_col8\" class=\"data row19 col8\" >0.000000</td>\n",
       "                        <td id=\"T_06d1d_row19_col9\" class=\"data row19 col9\" >0.000000</td>\n",
       "            </tr>\n",
       "            <tr>\n",
       "                        <th id=\"T_06d1d_level0_row20\" class=\"row_heading level0 row20\" >1992</th>\n",
       "                        <td id=\"T_06d1d_row20_col0\" class=\"data row20 col0\" >0.054327</td>\n",
       "                        <td id=\"T_06d1d_row20_col1\" class=\"data row20 col1\" >0.020479</td>\n",
       "                        <td id=\"T_06d1d_row20_col2\" class=\"data row20 col2\" >0.002669</td>\n",
       "                        <td id=\"T_06d1d_row20_col3\" class=\"data row20 col3\" >0.014248</td>\n",
       "                        <td id=\"T_06d1d_row20_col4\" class=\"data row20 col4\" >0.002399</td>\n",
       "                        <td id=\"T_06d1d_row20_col5\" class=\"data row20 col5\" >0.018021</td>\n",
       "                        <td id=\"T_06d1d_row20_col6\" class=\"data row20 col6\" >0.005308</td>\n",
       "                        <td id=\"T_06d1d_row20_col7\" class=\"data row20 col7\" >0.030932</td>\n",
       "                        <td id=\"T_06d1d_row20_col8\" class=\"data row20 col8\" >0.000000</td>\n",
       "                        <td id=\"T_06d1d_row20_col9\" class=\"data row20 col9\" >0.002437</td>\n",
       "            </tr>\n",
       "            <tr>\n",
       "                        <th id=\"T_06d1d_level0_row21\" class=\"row_heading level0 row21\" >1993</th>\n",
       "                        <td id=\"T_06d1d_row21_col0\" class=\"data row21 col0\" >0.047451</td>\n",
       "                        <td id=\"T_06d1d_row21_col1\" class=\"data row21 col1\" >0.000000</td>\n",
       "                        <td id=\"T_06d1d_row21_col2\" class=\"data row21 col2\" >0.009228</td>\n",
       "                        <td id=\"T_06d1d_row21_col3\" class=\"data row21 col3\" >0.032608</td>\n",
       "                        <td id=\"T_06d1d_row21_col4\" class=\"data row21 col4\" >0.000243</td>\n",
       "                        <td id=\"T_06d1d_row21_col5\" class=\"data row21 col5\" >0.000058</td>\n",
       "                        <td id=\"T_06d1d_row21_col6\" class=\"data row21 col6\" >0.000295</td>\n",
       "                        <td id=\"T_06d1d_row21_col7\" class=\"data row21 col7\" >0.006005</td>\n",
       "                        <td id=\"T_06d1d_row21_col8\" class=\"data row21 col8\" >0.000000</td>\n",
       "                        <td id=\"T_06d1d_row21_col9\" class=\"data row21 col9\" >0.000000</td>\n",
       "            </tr>\n",
       "            <tr>\n",
       "                        <th id=\"T_06d1d_level0_row22\" class=\"row_heading level0 row22\" >1994</th>\n",
       "                        <td id=\"T_06d1d_row22_col0\" class=\"data row22 col0\" >0.044128</td>\n",
       "                        <td id=\"T_06d1d_row22_col1\" class=\"data row22 col1\" >0.011795</td>\n",
       "                        <td id=\"T_06d1d_row22_col2\" class=\"data row22 col2\" >0.006808</td>\n",
       "                        <td id=\"T_06d1d_row22_col3\" class=\"data row22 col3\" >0.028564</td>\n",
       "                        <td id=\"T_06d1d_row22_col4\" class=\"data row22 col4\" >0.000036</td>\n",
       "                        <td id=\"T_06d1d_row22_col5\" class=\"data row22 col5\" >0.004267</td>\n",
       "                        <td id=\"T_06d1d_row22_col6\" class=\"data row22 col6\" >0.002961</td>\n",
       "                        <td id=\"T_06d1d_row22_col7\" class=\"data row22 col7\" >0.004288</td>\n",
       "                        <td id=\"T_06d1d_row22_col8\" class=\"data row22 col8\" >0.000000</td>\n",
       "                        <td id=\"T_06d1d_row22_col9\" class=\"data row22 col9\" >0.000000</td>\n",
       "            </tr>\n",
       "            <tr>\n",
       "                        <th id=\"T_06d1d_level0_row23\" class=\"row_heading level0 row23\" >1995</th>\n",
       "                        <td id=\"T_06d1d_row23_col0\" class=\"data row23 col0\" >0.050845</td>\n",
       "                        <td id=\"T_06d1d_row23_col1\" class=\"data row23 col1\" >0.000000</td>\n",
       "                        <td id=\"T_06d1d_row23_col2\" class=\"data row23 col2\" >0.028138</td>\n",
       "                        <td id=\"T_06d1d_row23_col3\" class=\"data row23 col3\" >0.011513</td>\n",
       "                        <td id=\"T_06d1d_row23_col4\" class=\"data row23 col4\" >0.007098</td>\n",
       "                        <td id=\"T_06d1d_row23_col5\" class=\"data row23 col5\" >0.014089</td>\n",
       "                        <td id=\"T_06d1d_row23_col6\" class=\"data row23 col6\" >0.003082</td>\n",
       "                        <td id=\"T_06d1d_row23_col7\" class=\"data row23 col7\" >0.003930</td>\n",
       "                        <td id=\"T_06d1d_row23_col8\" class=\"data row23 col8\" >0.000173</td>\n",
       "                        <td id=\"T_06d1d_row23_col9\" class=\"data row23 col9\" >0.000000</td>\n",
       "            </tr>\n",
       "            <tr>\n",
       "                        <th id=\"T_06d1d_level0_row24\" class=\"row_heading level0 row24\" >1996</th>\n",
       "                        <td id=\"T_06d1d_row24_col0\" class=\"data row24 col0\" >0.050796</td>\n",
       "                        <td id=\"T_06d1d_row24_col1\" class=\"data row24 col1\" >0.019689</td>\n",
       "                        <td id=\"T_06d1d_row24_col2\" class=\"data row24 col2\" >0.008416</td>\n",
       "                        <td id=\"T_06d1d_row24_col3\" class=\"data row24 col3\" >0.020697</td>\n",
       "                        <td id=\"T_06d1d_row24_col4\" class=\"data row24 col4\" >0.001525</td>\n",
       "                        <td id=\"T_06d1d_row24_col5\" class=\"data row24 col5\" >0.003893</td>\n",
       "                        <td id=\"T_06d1d_row24_col6\" class=\"data row24 col6\" >0.004204</td>\n",
       "                        <td id=\"T_06d1d_row24_col7\" class=\"data row24 col7\" >0.016807</td>\n",
       "                        <td id=\"T_06d1d_row24_col8\" class=\"data row24 col8\" >0.002181</td>\n",
       "                        <td id=\"T_06d1d_row24_col9\" class=\"data row24 col9\" >0.001808</td>\n",
       "            </tr>\n",
       "            <tr>\n",
       "                        <th id=\"T_06d1d_level0_row25\" class=\"row_heading level0 row25\" >1997</th>\n",
       "                        <td id=\"T_06d1d_row25_col0\" class=\"data row25 col0\" >0.045100</td>\n",
       "                        <td id=\"T_06d1d_row25_col1\" class=\"data row25 col1\" >0.039291</td>\n",
       "                        <td id=\"T_06d1d_row25_col2\" class=\"data row25 col2\" >0.019794</td>\n",
       "                        <td id=\"T_06d1d_row25_col3\" class=\"data row25 col3\" >0.017177</td>\n",
       "                        <td id=\"T_06d1d_row25_col4\" class=\"data row25 col4\" >0.001699</td>\n",
       "                        <td id=\"T_06d1d_row25_col5\" class=\"data row25 col5\" >0.013143</td>\n",
       "                        <td id=\"T_06d1d_row25_col6\" class=\"data row25 col6\" >0.007390</td>\n",
       "                        <td id=\"T_06d1d_row25_col7\" class=\"data row25 col7\" >0.034915</td>\n",
       "                        <td id=\"T_06d1d_row25_col8\" class=\"data row25 col8\" >0.000683</td>\n",
       "                        <td id=\"T_06d1d_row25_col9\" class=\"data row25 col9\" >0.000000</td>\n",
       "            </tr>\n",
       "            <tr>\n",
       "                        <th id=\"T_06d1d_level0_row26\" class=\"row_heading level0 row26\" >1998</th>\n",
       "                        <td id=\"T_06d1d_row26_col0\" class=\"data row26 col0\" >0.045674</td>\n",
       "                        <td id=\"T_06d1d_row26_col1\" class=\"data row26 col1\" >0.007310</td>\n",
       "                        <td id=\"T_06d1d_row26_col2\" class=\"data row26 col2\" >0.031889</td>\n",
       "                        <td id=\"T_06d1d_row26_col3\" class=\"data row26 col3\" >0.034098</td>\n",
       "                        <td id=\"T_06d1d_row26_col4\" class=\"data row26 col4\" >0.006071</td>\n",
       "                        <td id=\"T_06d1d_row26_col5\" class=\"data row26 col5\" >0.012075</td>\n",
       "                        <td id=\"T_06d1d_row26_col6\" class=\"data row26 col6\" >0.001110</td>\n",
       "                        <td id=\"T_06d1d_row26_col7\" class=\"data row26 col7\" >0.009253</td>\n",
       "                        <td id=\"T_06d1d_row26_col8\" class=\"data row26 col8\" >0.000000</td>\n",
       "                        <td id=\"T_06d1d_row26_col9\" class=\"data row26 col9\" >0.000000</td>\n",
       "            </tr>\n",
       "            <tr>\n",
       "                        <th id=\"T_06d1d_level0_row27\" class=\"row_heading level0 row27\" >1999</th>\n",
       "                        <td id=\"T_06d1d_row27_col0\" class=\"data row27 col0\" >0.054678</td>\n",
       "                        <td id=\"T_06d1d_row27_col1\" class=\"data row27 col1\" >0.008943</td>\n",
       "                        <td id=\"T_06d1d_row27_col2\" class=\"data row27 col2\" >0.016589</td>\n",
       "                        <td id=\"T_06d1d_row27_col3\" class=\"data row27 col3\" >0.010855</td>\n",
       "                        <td id=\"T_06d1d_row27_col4\" class=\"data row27 col4\" >0.002597</td>\n",
       "                        <td id=\"T_06d1d_row27_col5\" class=\"data row27 col5\" >0.008279</td>\n",
       "                        <td id=\"T_06d1d_row27_col6\" class=\"data row27 col6\" >0.001809</td>\n",
       "                        <td id=\"T_06d1d_row27_col7\" class=\"data row27 col7\" >0.010073</td>\n",
       "                        <td id=\"T_06d1d_row27_col8\" class=\"data row27 col8\" >0.001814</td>\n",
       "                        <td id=\"T_06d1d_row27_col9\" class=\"data row27 col9\" >0.000000</td>\n",
       "            </tr>\n",
       "            <tr>\n",
       "                        <th id=\"T_06d1d_level0_row28\" class=\"row_heading level0 row28\" >2000</th>\n",
       "                        <td id=\"T_06d1d_row28_col0\" class=\"data row28 col0\" >0.058697</td>\n",
       "                        <td id=\"T_06d1d_row28_col1\" class=\"data row28 col1\" >0.011217</td>\n",
       "                        <td id=\"T_06d1d_row28_col2\" class=\"data row28 col2\" >0.025636</td>\n",
       "                        <td id=\"T_06d1d_row28_col3\" class=\"data row28 col3\" >0.021620</td>\n",
       "                        <td id=\"T_06d1d_row28_col4\" class=\"data row28 col4\" >0.000141</td>\n",
       "                        <td id=\"T_06d1d_row28_col5\" class=\"data row28 col5\" >0.009438</td>\n",
       "                        <td id=\"T_06d1d_row28_col6\" class=\"data row28 col6\" >0.006527</td>\n",
       "                        <td id=\"T_06d1d_row28_col7\" class=\"data row28 col7\" >0.008054</td>\n",
       "                        <td id=\"T_06d1d_row28_col8\" class=\"data row28 col8\" >0.001654</td>\n",
       "                        <td id=\"T_06d1d_row28_col9\" class=\"data row28 col9\" >0.000000</td>\n",
       "            </tr>\n",
       "            <tr>\n",
       "                        <th id=\"T_06d1d_level0_row29\" class=\"row_heading level0 row29\" >2001</th>\n",
       "                        <td id=\"T_06d1d_row29_col0\" class=\"data row29 col0\" >0.052053</td>\n",
       "                        <td id=\"T_06d1d_row29_col1\" class=\"data row29 col1\" >0.027489</td>\n",
       "                        <td id=\"T_06d1d_row29_col2\" class=\"data row29 col2\" >0.011854</td>\n",
       "                        <td id=\"T_06d1d_row29_col3\" class=\"data row29 col3\" >0.015207</td>\n",
       "                        <td id=\"T_06d1d_row29_col4\" class=\"data row29 col4\" >0.009215</td>\n",
       "                        <td id=\"T_06d1d_row29_col5\" class=\"data row29 col5\" >0.009427</td>\n",
       "                        <td id=\"T_06d1d_row29_col6\" class=\"data row29 col6\" >0.012082</td>\n",
       "                        <td id=\"T_06d1d_row29_col7\" class=\"data row29 col7\" >0.001643</td>\n",
       "                        <td id=\"T_06d1d_row29_col8\" class=\"data row29 col8\" >0.000075</td>\n",
       "                        <td id=\"T_06d1d_row29_col9\" class=\"data row29 col9\" >0.000383</td>\n",
       "            </tr>\n",
       "            <tr>\n",
       "                        <th id=\"T_06d1d_level0_row30\" class=\"row_heading level0 row30\" >2002</th>\n",
       "                        <td id=\"T_06d1d_row30_col0\" class=\"data row30 col0\" >0.057362</td>\n",
       "                        <td id=\"T_06d1d_row30_col1\" class=\"data row30 col1\" >0.018938</td>\n",
       "                        <td id=\"T_06d1d_row30_col2\" class=\"data row30 col2\" >0.021949</td>\n",
       "                        <td id=\"T_06d1d_row30_col3\" class=\"data row30 col3\" >0.015084</td>\n",
       "                        <td id=\"T_06d1d_row30_col4\" class=\"data row30 col4\" >0.000569</td>\n",
       "                        <td id=\"T_06d1d_row30_col5\" class=\"data row30 col5\" >0.009577</td>\n",
       "                        <td id=\"T_06d1d_row30_col6\" class=\"data row30 col6\" >0.002219</td>\n",
       "                        <td id=\"T_06d1d_row30_col7\" class=\"data row30 col7\" >0.004964</td>\n",
       "                        <td id=\"T_06d1d_row30_col8\" class=\"data row30 col8\" >0.008068</td>\n",
       "                        <td id=\"T_06d1d_row30_col9\" class=\"data row30 col9\" >0.011238</td>\n",
       "            </tr>\n",
       "            <tr>\n",
       "                        <th id=\"T_06d1d_level0_row31\" class=\"row_heading level0 row31\" >2003</th>\n",
       "                        <td id=\"T_06d1d_row31_col0\" class=\"data row31 col0\" >0.053728</td>\n",
       "                        <td id=\"T_06d1d_row31_col1\" class=\"data row31 col1\" >0.005631</td>\n",
       "                        <td id=\"T_06d1d_row31_col2\" class=\"data row31 col2\" >0.019462</td>\n",
       "                        <td id=\"T_06d1d_row31_col3\" class=\"data row31 col3\" >0.012871</td>\n",
       "                        <td id=\"T_06d1d_row31_col4\" class=\"data row31 col4\" >0.000000</td>\n",
       "                        <td id=\"T_06d1d_row31_col5\" class=\"data row31 col5\" >0.013278</td>\n",
       "                        <td id=\"T_06d1d_row31_col6\" class=\"data row31 col6\" >0.006410</td>\n",
       "                        <td id=\"T_06d1d_row31_col7\" class=\"data row31 col7\" >0.002891</td>\n",
       "                        <td id=\"T_06d1d_row31_col8\" class=\"data row31 col8\" >0.005351</td>\n",
       "                        <td id=\"T_06d1d_row31_col9\" class=\"data row31 col9\" >0.012143</td>\n",
       "            </tr>\n",
       "            <tr>\n",
       "                        <th id=\"T_06d1d_level0_row32\" class=\"row_heading level0 row32\" >2004</th>\n",
       "                        <td id=\"T_06d1d_row32_col0\" class=\"data row32 col0\" >0.053284</td>\n",
       "                        <td id=\"T_06d1d_row32_col1\" class=\"data row32 col1\" >0.006816</td>\n",
       "                        <td id=\"T_06d1d_row32_col2\" class=\"data row32 col2\" >0.022245</td>\n",
       "                        <td id=\"T_06d1d_row32_col3\" class=\"data row32 col3\" >0.004802</td>\n",
       "                        <td id=\"T_06d1d_row32_col4\" class=\"data row32 col4\" >0.000740</td>\n",
       "                        <td id=\"T_06d1d_row32_col5\" class=\"data row32 col5\" >0.003665</td>\n",
       "                        <td id=\"T_06d1d_row32_col6\" class=\"data row32 col6\" >0.003631</td>\n",
       "                        <td id=\"T_06d1d_row32_col7\" class=\"data row32 col7\" >0.006434</td>\n",
       "                        <td id=\"T_06d1d_row32_col8\" class=\"data row32 col8\" >0.003106</td>\n",
       "                        <td id=\"T_06d1d_row32_col9\" class=\"data row32 col9\" >0.006470</td>\n",
       "            </tr>\n",
       "            <tr>\n",
       "                        <th id=\"T_06d1d_level0_row33\" class=\"row_heading level0 row33\" >2005</th>\n",
       "                        <td id=\"T_06d1d_row33_col0\" class=\"data row33 col0\" >0.051433</td>\n",
       "                        <td id=\"T_06d1d_row33_col1\" class=\"data row33 col1\" >0.006404</td>\n",
       "                        <td id=\"T_06d1d_row33_col2\" class=\"data row33 col2\" >0.022782</td>\n",
       "                        <td id=\"T_06d1d_row33_col3\" class=\"data row33 col3\" >0.012571</td>\n",
       "                        <td id=\"T_06d1d_row33_col4\" class=\"data row33 col4\" >0.007761</td>\n",
       "                        <td id=\"T_06d1d_row33_col5\" class=\"data row33 col5\" >0.007252</td>\n",
       "                        <td id=\"T_06d1d_row33_col6\" class=\"data row33 col6\" >0.015492</td>\n",
       "                        <td id=\"T_06d1d_row33_col7\" class=\"data row33 col7\" >0.007511</td>\n",
       "                        <td id=\"T_06d1d_row33_col8\" class=\"data row33 col8\" >0.003989</td>\n",
       "                        <td id=\"T_06d1d_row33_col9\" class=\"data row33 col9\" >0.013836</td>\n",
       "            </tr>\n",
       "            <tr>\n",
       "                        <th id=\"T_06d1d_level0_row34\" class=\"row_heading level0 row34\" >2006</th>\n",
       "                        <td id=\"T_06d1d_row34_col0\" class=\"data row34 col0\" >0.053937</td>\n",
       "                        <td id=\"T_06d1d_row34_col1\" class=\"data row34 col1\" >0.007313</td>\n",
       "                        <td id=\"T_06d1d_row34_col2\" class=\"data row34 col2\" >0.014386</td>\n",
       "                        <td id=\"T_06d1d_row34_col3\" class=\"data row34 col3\" >0.009722</td>\n",
       "                        <td id=\"T_06d1d_row34_col4\" class=\"data row34 col4\" >0.006563</td>\n",
       "                        <td id=\"T_06d1d_row34_col5\" class=\"data row34 col5\" >0.015370</td>\n",
       "                        <td id=\"T_06d1d_row34_col6\" class=\"data row34 col6\" >0.017594</td>\n",
       "                        <td id=\"T_06d1d_row34_col7\" class=\"data row34 col7\" >0.007605</td>\n",
       "                        <td id=\"T_06d1d_row34_col8\" class=\"data row34 col8\" >0.000807</td>\n",
       "                        <td id=\"T_06d1d_row34_col9\" class=\"data row34 col9\" >0.014269</td>\n",
       "            </tr>\n",
       "            <tr>\n",
       "                        <th id=\"T_06d1d_level0_row35\" class=\"row_heading level0 row35\" >2007</th>\n",
       "                        <td id=\"T_06d1d_row35_col0\" class=\"data row35 col0\" >0.054105</td>\n",
       "                        <td id=\"T_06d1d_row35_col1\" class=\"data row35 col1\" >0.030185</td>\n",
       "                        <td id=\"T_06d1d_row35_col2\" class=\"data row35 col2\" >0.016497</td>\n",
       "                        <td id=\"T_06d1d_row35_col3\" class=\"data row35 col3\" >0.009223</td>\n",
       "                        <td id=\"T_06d1d_row35_col4\" class=\"data row35 col4\" >0.004887</td>\n",
       "                        <td id=\"T_06d1d_row35_col5\" class=\"data row35 col5\" >0.007260</td>\n",
       "                        <td id=\"T_06d1d_row35_col6\" class=\"data row35 col6\" >0.008240</td>\n",
       "                        <td id=\"T_06d1d_row35_col7\" class=\"data row35 col7\" >0.004990</td>\n",
       "                        <td id=\"T_06d1d_row35_col8\" class=\"data row35 col8\" >0.008492</td>\n",
       "                        <td id=\"T_06d1d_row35_col9\" class=\"data row35 col9\" >0.004079</td>\n",
       "            </tr>\n",
       "            <tr>\n",
       "                        <th id=\"T_06d1d_level0_row36\" class=\"row_heading level0 row36\" >2008</th>\n",
       "                        <td id=\"T_06d1d_row36_col0\" class=\"data row36 col0\" >0.045666</td>\n",
       "                        <td id=\"T_06d1d_row36_col1\" class=\"data row36 col1\" >0.029433</td>\n",
       "                        <td id=\"T_06d1d_row36_col2\" class=\"data row36 col2\" >0.017215</td>\n",
       "                        <td id=\"T_06d1d_row36_col3\" class=\"data row36 col3\" >0.013383</td>\n",
       "                        <td id=\"T_06d1d_row36_col4\" class=\"data row36 col4\" >0.014127</td>\n",
       "                        <td id=\"T_06d1d_row36_col5\" class=\"data row36 col5\" >0.009132</td>\n",
       "                        <td id=\"T_06d1d_row36_col6\" class=\"data row36 col6\" >0.010166</td>\n",
       "                        <td id=\"T_06d1d_row36_col7\" class=\"data row36 col7\" >0.007568</td>\n",
       "                        <td id=\"T_06d1d_row36_col8\" class=\"data row36 col8\" >0.007096</td>\n",
       "                        <td id=\"T_06d1d_row36_col9\" class=\"data row36 col9\" >0.004116</td>\n",
       "            </tr>\n",
       "            <tr>\n",
       "                        <th id=\"T_06d1d_level0_row37\" class=\"row_heading level0 row37\" >2009</th>\n",
       "                        <td id=\"T_06d1d_row37_col0\" class=\"data row37 col0\" >0.051176</td>\n",
       "                        <td id=\"T_06d1d_row37_col1\" class=\"data row37 col1\" >0.006686</td>\n",
       "                        <td id=\"T_06d1d_row37_col2\" class=\"data row37 col2\" >0.013544</td>\n",
       "                        <td id=\"T_06d1d_row37_col3\" class=\"data row37 col3\" >0.006686</td>\n",
       "                        <td id=\"T_06d1d_row37_col4\" class=\"data row37 col4\" >0.014904</td>\n",
       "                        <td id=\"T_06d1d_row37_col5\" class=\"data row37 col5\" >0.005271</td>\n",
       "                        <td id=\"T_06d1d_row37_col6\" class=\"data row37 col6\" >0.007128</td>\n",
       "                        <td id=\"T_06d1d_row37_col7\" class=\"data row37 col7\" >0.005916</td>\n",
       "                        <td id=\"T_06d1d_row37_col8\" class=\"data row37 col8\" >0.008387</td>\n",
       "                        <td id=\"T_06d1d_row37_col9\" class=\"data row37 col9\" >0.007197</td>\n",
       "            </tr>\n",
       "            <tr>\n",
       "                        <th id=\"T_06d1d_level0_row38\" class=\"row_heading level0 row38\" >2010</th>\n",
       "                        <td id=\"T_06d1d_row38_col0\" class=\"data row38 col0\" >0.053750</td>\n",
       "                        <td id=\"T_06d1d_row38_col1\" class=\"data row38 col1\" >0.005876</td>\n",
       "                        <td id=\"T_06d1d_row38_col2\" class=\"data row38 col2\" >0.008201</td>\n",
       "                        <td id=\"T_06d1d_row38_col3\" class=\"data row38 col3\" >0.005596</td>\n",
       "                        <td id=\"T_06d1d_row38_col4\" class=\"data row38 col4\" >0.003665</td>\n",
       "                        <td id=\"T_06d1d_row38_col5\" class=\"data row38 col5\" >0.003241</td>\n",
       "                        <td id=\"T_06d1d_row38_col6\" class=\"data row38 col6\" >0.008648</td>\n",
       "                        <td id=\"T_06d1d_row38_col7\" class=\"data row38 col7\" >0.006056</td>\n",
       "                        <td id=\"T_06d1d_row38_col8\" class=\"data row38 col8\" >0.004444</td>\n",
       "                        <td id=\"T_06d1d_row38_col9\" class=\"data row38 col9\" >0.005282</td>\n",
       "            </tr>\n",
       "            <tr>\n",
       "                        <th id=\"T_06d1d_level0_row39\" class=\"row_heading level0 row39\" >2011</th>\n",
       "                        <td id=\"T_06d1d_row39_col0\" class=\"data row39 col0\" >0.053950</td>\n",
       "                        <td id=\"T_06d1d_row39_col1\" class=\"data row39 col1\" >0.000000</td>\n",
       "                        <td id=\"T_06d1d_row39_col2\" class=\"data row39 col2\" >0.014242</td>\n",
       "                        <td id=\"T_06d1d_row39_col3\" class=\"data row39 col3\" >0.009654</td>\n",
       "                        <td id=\"T_06d1d_row39_col4\" class=\"data row39 col4\" >0.009592</td>\n",
       "                        <td id=\"T_06d1d_row39_col5\" class=\"data row39 col5\" >0.009414</td>\n",
       "                        <td id=\"T_06d1d_row39_col6\" class=\"data row39 col6\" >0.004892</td>\n",
       "                        <td id=\"T_06d1d_row39_col7\" class=\"data row39 col7\" >0.004046</td>\n",
       "                        <td id=\"T_06d1d_row39_col8\" class=\"data row39 col8\" >0.013951</td>\n",
       "                        <td id=\"T_06d1d_row39_col9\" class=\"data row39 col9\" >0.004959</td>\n",
       "            </tr>\n",
       "            <tr>\n",
       "                        <th id=\"T_06d1d_level0_row40\" class=\"row_heading level0 row40\" >2012</th>\n",
       "                        <td id=\"T_06d1d_row40_col0\" class=\"data row40 col0\" >0.051874</td>\n",
       "                        <td id=\"T_06d1d_row40_col1\" class=\"data row40 col1\" >0.000024</td>\n",
       "                        <td id=\"T_06d1d_row40_col2\" class=\"data row40 col2\" >0.011958</td>\n",
       "                        <td id=\"T_06d1d_row40_col3\" class=\"data row40 col3\" >0.010711</td>\n",
       "                        <td id=\"T_06d1d_row40_col4\" class=\"data row40 col4\" >0.013302</td>\n",
       "                        <td id=\"T_06d1d_row40_col5\" class=\"data row40 col5\" >0.006307</td>\n",
       "                        <td id=\"T_06d1d_row40_col6\" class=\"data row40 col6\" >0.008528</td>\n",
       "                        <td id=\"T_06d1d_row40_col7\" class=\"data row40 col7\" >0.003270</td>\n",
       "                        <td id=\"T_06d1d_row40_col8\" class=\"data row40 col8\" >0.013335</td>\n",
       "                        <td id=\"T_06d1d_row40_col9\" class=\"data row40 col9\" >0.011280</td>\n",
       "            </tr>\n",
       "            <tr>\n",
       "                        <th id=\"T_06d1d_level0_row41\" class=\"row_heading level0 row41\" >2013</th>\n",
       "                        <td id=\"T_06d1d_row41_col0\" class=\"data row41 col0\" >0.056612</td>\n",
       "                        <td id=\"T_06d1d_row41_col1\" class=\"data row41 col1\" >0.003464</td>\n",
       "                        <td id=\"T_06d1d_row41_col2\" class=\"data row41 col2\" >0.010790</td>\n",
       "                        <td id=\"T_06d1d_row41_col3\" class=\"data row41 col3\" >0.007634</td>\n",
       "                        <td id=\"T_06d1d_row41_col4\" class=\"data row41 col4\" >0.012675</td>\n",
       "                        <td id=\"T_06d1d_row41_col5\" class=\"data row41 col5\" >0.006487</td>\n",
       "                        <td id=\"T_06d1d_row41_col6\" class=\"data row41 col6\" >0.010880</td>\n",
       "                        <td id=\"T_06d1d_row41_col7\" class=\"data row41 col7\" >0.005225</td>\n",
       "                        <td id=\"T_06d1d_row41_col8\" class=\"data row41 col8\" >0.009885</td>\n",
       "                        <td id=\"T_06d1d_row41_col9\" class=\"data row41 col9\" >0.004325</td>\n",
       "            </tr>\n",
       "            <tr>\n",
       "                        <th id=\"T_06d1d_level0_row42\" class=\"row_heading level0 row42\" >2014</th>\n",
       "                        <td id=\"T_06d1d_row42_col0\" class=\"data row42 col0\" >0.056720</td>\n",
       "                        <td id=\"T_06d1d_row42_col1\" class=\"data row42 col1\" >0.003375</td>\n",
       "                        <td id=\"T_06d1d_row42_col2\" class=\"data row42 col2\" >0.008346</td>\n",
       "                        <td id=\"T_06d1d_row42_col3\" class=\"data row42 col3\" >0.009571</td>\n",
       "                        <td id=\"T_06d1d_row42_col4\" class=\"data row42 col4\" >0.006236</td>\n",
       "                        <td id=\"T_06d1d_row42_col5\" class=\"data row42 col5\" >0.003631</td>\n",
       "                        <td id=\"T_06d1d_row42_col6\" class=\"data row42 col6\" >0.007994</td>\n",
       "                        <td id=\"T_06d1d_row42_col7\" class=\"data row42 col7\" >0.004112</td>\n",
       "                        <td id=\"T_06d1d_row42_col8\" class=\"data row42 col8\" >0.008406</td>\n",
       "                        <td id=\"T_06d1d_row42_col9\" class=\"data row42 col9\" >0.010449</td>\n",
       "            </tr>\n",
       "            <tr>\n",
       "                        <th id=\"T_06d1d_level0_row43\" class=\"row_heading level0 row43\" >2015</th>\n",
       "                        <td id=\"T_06d1d_row43_col0\" class=\"data row43 col0\" >0.050428</td>\n",
       "                        <td id=\"T_06d1d_row43_col1\" class=\"data row43 col1\" >0.000000</td>\n",
       "                        <td id=\"T_06d1d_row43_col2\" class=\"data row43 col2\" >0.006944</td>\n",
       "                        <td id=\"T_06d1d_row43_col3\" class=\"data row43 col3\" >0.006466</td>\n",
       "                        <td id=\"T_06d1d_row43_col4\" class=\"data row43 col4\" >0.002269</td>\n",
       "                        <td id=\"T_06d1d_row43_col5\" class=\"data row43 col5\" >0.005746</td>\n",
       "                        <td id=\"T_06d1d_row43_col6\" class=\"data row43 col6\" >0.007636</td>\n",
       "                        <td id=\"T_06d1d_row43_col7\" class=\"data row43 col7\" >0.006211</td>\n",
       "                        <td id=\"T_06d1d_row43_col8\" class=\"data row43 col8\" >0.010903</td>\n",
       "                        <td id=\"T_06d1d_row43_col9\" class=\"data row43 col9\" >0.009338</td>\n",
       "            </tr>\n",
       "            <tr>\n",
       "                        <th id=\"T_06d1d_level0_row44\" class=\"row_heading level0 row44\" >2016</th>\n",
       "                        <td id=\"T_06d1d_row44_col0\" class=\"data row44 col0\" >0.046029</td>\n",
       "                        <td id=\"T_06d1d_row44_col1\" class=\"data row44 col1\" >0.009255</td>\n",
       "                        <td id=\"T_06d1d_row44_col2\" class=\"data row44 col2\" >0.007664</td>\n",
       "                        <td id=\"T_06d1d_row44_col3\" class=\"data row44 col3\" >0.003255</td>\n",
       "                        <td id=\"T_06d1d_row44_col4\" class=\"data row44 col4\" >0.000000</td>\n",
       "                        <td id=\"T_06d1d_row44_col5\" class=\"data row44 col5\" >0.000052</td>\n",
       "                        <td id=\"T_06d1d_row44_col6\" class=\"data row44 col6\" >0.020814</td>\n",
       "                        <td id=\"T_06d1d_row44_col7\" class=\"data row44 col7\" >0.006585</td>\n",
       "                        <td id=\"T_06d1d_row44_col8\" class=\"data row44 col8\" >0.042592</td>\n",
       "                        <td id=\"T_06d1d_row44_col9\" class=\"data row44 col9\" >0.013397</td>\n",
       "            </tr>\n",
       "    </tbody></table>"
      ],
      "text/plain": [
       "<pandas.io.formats.style.Styler at 0x7f894bf146d0>"
      ]
     },
     "execution_count": 72,
     "metadata": {},
     "output_type": "execute_result"
    }
   ],
   "source": [
    "TRENDS.style.background_gradient()"
   ]
  },
  {
   "cell_type": "code",
   "execution_count": 68,
   "metadata": {},
   "outputs": [],
   "source": [
    "import matplotlib.pyplot as plt"
   ]
  },
  {
   "cell_type": "code",
   "execution_count": 87,
   "metadata": {},
   "outputs": [],
   "source": [
    "def show_trend(topic_id, kind='bar', h=3, w=12):\n",
    "    gloss = TOPICS.loc[topic_id, 'gloss']\n",
    "    TRENDS[gloss].plot(kind=kind, figsize=(w, h), rot=45, \n",
    "                       title= gloss.upper() + '\\n' + TOPICS.loc[topic_id].topwords);"
   ]
  },
  {
   "cell_type": "code",
   "execution_count": 88,
   "metadata": {
    "scrolled": true
   },
   "outputs": [
    {
     "data": {
      "image/png": "[encoded data removed]",
      "text/plain": [
       "<Figure size 864x216 with 1 Axes>"
      ]
     },
     "metadata": {
      "needs_background": "light"
     },
     "output_type": "display_data"
    }
   ],
   "source": [
    "show_trend(0,'line')"
   ]
  },
  {
   "cell_type": "code",
   "execution_count": 89,
   "metadata": {
    "scrolled": true
   },
   "outputs": [
    {
     "data": {
      "image/png": "[encoded data removed]",
      "text/plain": [
       "<Figure size 864x216 with 1 Axes>"
      ]
     },
     "metadata": {
      "needs_background": "light"
     },
     "output_type": "display_data"
    }
   ],
   "source": [
    "show_trend(2,'line')"
   ]
  },
  {
   "cell_type": "code",
   "execution_count": 90,
   "metadata": {
    "scrolled": true
   },
   "outputs": [
    {
     "data": {
      "image/png": "[encoded data removed]",
      "text/plain": [
       "<Figure size 864x216 with 1 Axes>"
      ]
     },
     "metadata": {
      "needs_background": "light"
     },
     "output_type": "display_data"
    }
   ],
   "source": [
    "show_trend(3,'line')"
   ]
  },
  {
   "cell_type": "code",
   "execution_count": 91,
   "metadata": {
    "scrolled": false
   },
   "outputs": [
    {
     "data": {
      "image/png": "[encoded data removed]",
      "text/plain": [
       "<Figure size 864x216 with 1 Axes>"
      ]
     },
     "metadata": {
      "needs_background": "light"
     },
     "output_type": "display_data"
    }
   ],
   "source": [
    "show_trend(5,'line')"
   ]
  },
  {
   "cell_type": "code",
   "execution_count": 92,
   "metadata": {
    "scrolled": false
   },
   "outputs": [
    {
     "data": {
      "image/png": "[encoded data removed]",
      "text/plain": [
       "<Figure size 864x216 with 1 Axes>"
      ]
     },
     "metadata": {
      "needs_background": "light"
     },
     "output_type": "display_data"
    }
   ],
   "source": [
    "show_trend(6,'line')"
   ]
  },
  {
   "cell_type": "code",
   "execution_count": 93,
   "metadata": {
    "scrolled": false
   },
   "outputs": [
    {
     "data": {
      "image/png": "[encoded data removed]",
      "text/plain": [
       "<Figure size 864x216 with 1 Axes>"
      ]
     },
     "metadata": {
      "needs_background": "light"
     },
     "output_type": "display_data"
    }
   ],
   "source": [
    "show_trend(7,'line')"
   ]
  },
  {
   "cell_type": "code",
   "execution_count": 94,
   "metadata": {},
   "outputs": [
    {
     "data": {
      "image/png": "[encoded data removed]",
      "text/plain": [
       "<Figure size 864x360 with 1 Axes>"
      ]
     },
     "metadata": {
      "needs_background": "light"
     },
     "output_type": "display_data"
    }
   ],
   "source": [
    "TRENDS.plot(figsize=(12, 5));"
   ]
  },
  {
   "cell_type": "code",
   "execution_count": 33,
   "metadata": {},
   "outputs": [],
   "source": [
    "import plotly_express as px"
   ]
  },
  {
   "cell_type": "code",
   "execution_count": 96,
   "metadata": {},
   "outputs": [
    {
     "data": {
      "application/vnd.plotly.v1+json": {
       "config": {
        "plotlyServerURL": "https://plot.ly"
       },
       "data": [
        {
         "hovertemplate": "gloss=Bayesian models<br>label=%{x}<br>value=%{y}<extra></extra>",
         "legendgroup": "Bayesian models",
         "line": {
          "color": "#636efa",
          "dash": "solid"
         },
         "mode": "lines",
         "name": "Bayesian models",
         "orientation": "v",
         "showlegend": true,
         "type": "scatter",
         "x": [
          1969,
          1972,
          1973,
          1974,
          1976,
          1977,
          1978,
          1979,
          1980,
          1981,
          1982,
          1983,
          1984,
          1985,
          1986,
          1987,
          1988,
          1989,
          1990,
          1991,
          1992,
          1993,
          1994,
          1995,
          1996,
          1997,
          1998,
          1999,
          2000,
          2001,
          2002,
          2003,
          2004,
          2005,
          2006,
          2007,
          2008,
          2009,
          2010,
          2011,
          2012,
          2013,
          2014,
          2015,
          2016
         ],
         "xaxis": "x",
         "y": [
          0.0140730303483394,
          0.0594070595878307,
          0.027741908899869,
          0.0387748552273331,
          0.025872191851589333,
          0.04207475805701,
          0.03679310353733225,
          0.03618382023751425,
          0.03512010534011031,
          0.04926551328633378,
          0.057976412958682555,
          0.03574802167992206,
          0.05368553103008315,
          0.0495661784188466,
          0.02076617508652584,
          0.03744814023477221,
          0.04314060143102479,
          0.04087234752225017,
          0.04311553006718342,
          0.04621644976658937,
          0.05432673804108496,
          0.04745080812947397,
          0.044128241194967104,
          0.05084464668630282,
          0.05079648772405521,
          0.04509957638489939,
          0.04567411493576546,
          0.054678039443055604,
          0.05869727381249302,
          0.05205256933755716,
          0.057362047260527335,
          0.05372778759349982,
          0.053283619331716534,
          0.051432642822233365,
          0.05393680812514259,
          0.054105156566952466,
          0.045665862580164696,
          0.051175821283847185,
          0.05375013225171865,
          0.05394964858143147,
          0.0518739557308894,
          0.056612249287812194,
          0.056720301527206175,
          0.05042810921826303,
          0.046029349426333604
         ],
         "yaxis": "y"
        },
        {
         "hovertemplate": "gloss=French<br>label=%{x}<br>value=%{y}<extra></extra>",
         "legendgroup": "French",
         "line": {
          "color": "#EF553B",
          "dash": "solid"
         },
         "mode": "lines",
         "name": "French",
         "orientation": "v",
         "showlegend": true,
         "type": "scatter",
         "x": [
          1969,
          1972,
          1973,
          1974,
          1976,
          1977,
          1978,
          1979,
          1980,
          1981,
          1982,
          1983,
          1984,
          1985,
          1986,
          1987,
          1988,
          1989,
          1990,
          1991,
          1992,
          1993,
          1994,
          1995,
          1996,
          1997,
          1998,
          1999,
          2000,
          2001,
          2002,
          2003,
          2004,
          2005,
          2006,
          2007,
          2008,
          2009,
          2010,
          2011,
          2012,
          2013,
          2014,
          2015,
          2016
         ],
         "xaxis": "x",
         "y": [
          0,
          0,
          0,
          0,
          0,
          0,
          0,
          0,
          0,
          0,
          0,
          0,
          0,
          0,
          0.029421313629685357,
          0.11509911607749311,
          0.03347355289925739,
          0.03417633795977131,
          0,
          0.027900643542825978,
          0.020479359409181854,
          0,
          0.011795144770329476,
          0,
          0.019689445859254886,
          0.03929123074900257,
          0.007309585920479554,
          0.008942509074418382,
          0.011217303741386509,
          0.027489231970261478,
          0.018937864762076855,
          0.005630511770679102,
          0.006815783347924798,
          0.00640378656793428,
          0.007312798662996534,
          0.030185143965275534,
          0.029433006833090306,
          0.006686283884480871,
          0.005875554558755058,
          0,
          2.4011294960147057e-05,
          0.003464421790700612,
          0.003374991872579066,
          0,
          0.009255405454612137
         ],
         "yaxis": "y"
        },
        {
         "hovertemplate": "gloss=MCMC<br>label=%{x}<br>value=%{y}<extra></extra>",
         "legendgroup": "MCMC",
         "line": {
          "color": "#00cc96",
          "dash": "solid"
         },
         "mode": "lines",
         "name": "MCMC",
         "orientation": "v",
         "showlegend": true,
         "type": "scatter",
         "x": [
          1969,
          1972,
          1973,
          1974,
          1976,
          1977,
          1978,
          1979,
          1980,
          1981,
          1982,
          1983,
          1984,
          1985,
          1986,
          1987,
          1988,
          1989,
          1990,
          1991,
          1992,
          1993,
          1994,
          1995,
          1996,
          1997,
          1998,
          1999,
          2000,
          2001,
          2002,
          2003,
          2004,
          2005,
          2006,
          2007,
          2008,
          2009,
          2010,
          2011,
          2012,
          2013,
          2014,
          2015,
          2016
         ],
         "xaxis": "x",
         "y": [
          0,
          0,
          0,
          0,
          0,
          0.000585519268307725,
          0,
          0.0048257170868196,
          0,
          0,
          0,
          0,
          0,
          0,
          0.00341737101017186,
          0.005666543273842556,
          0,
          0,
          0.0011200728402062374,
          0.00550209741853232,
          0.0026685132011313004,
          0.009228109336316561,
          0.006807887079151874,
          0.028138366396598658,
          0.008415597809142254,
          0.01979367195131869,
          0.031888758544292385,
          0.016589308648917625,
          0.02563634730904212,
          0.01185364198449293,
          0.021949072547348205,
          0.019462240076052663,
          0.022244920037153924,
          0.022782244028377058,
          0.014385536132965214,
          0.016496865724477606,
          0.017215324529935672,
          0.013544290107894933,
          0.00820143101238527,
          0.014242218318347342,
          0.01195826653281728,
          0.010790240786267445,
          0.00834550191078593,
          0.006943753646620449,
          0.007663999571112064
         ],
         "yaxis": "y"
        },
        {
         "hovertemplate": "gloss=priors<br>label=%{x}<br>value=%{y}<extra></extra>",
         "legendgroup": "priors",
         "line": {
          "color": "#ab63fa",
          "dash": "solid"
         },
         "mode": "lines",
         "name": "priors",
         "orientation": "v",
         "showlegend": true,
         "type": "scatter",
         "x": [
          1969,
          1972,
          1973,
          1974,
          1976,
          1977,
          1978,
          1979,
          1980,
          1981,
          1982,
          1983,
          1984,
          1985,
          1986,
          1987,
          1988,
          1989,
          1990,
          1991,
          1992,
          1993,
          1994,
          1995,
          1996,
          1997,
          1998,
          1999,
          2000,
          2001,
          2002,
          2003,
          2004,
          2005,
          2006,
          2007,
          2008,
          2009,
          2010,
          2011,
          2012,
          2013,
          2014,
          2015,
          2016
         ],
         "xaxis": "x",
         "y": [
          0,
          0,
          0.0882973848812008,
          0.0037886468502679,
          0.06034026979705209,
          0.026707918813455453,
          0.07452123092859855,
          0.07879843719733318,
          0.0022952927959337334,
          0.03928618855633142,
          0.00268719771532575,
          0.0508371344600602,
          0.0002123403172397,
          0,
          0.01360470294971092,
          0.013062093847035612,
          0.026771612462976355,
          0.030286141252028356,
          0.03190438517909361,
          0.011980220557532607,
          0.014247837160802669,
          0.03260797899857486,
          0.02856449332377564,
          0.011513059867471715,
          0.02069684249315272,
          0.017177423740092897,
          0.034098153790517886,
          0.010854788509733357,
          0.0216196592658584,
          0.015206912994196508,
          0.015084378153407796,
          0.012870909376012913,
          0.004802232976317139,
          0.012571122888206731,
          0.009722011852531376,
          0.009223394306955846,
          0.013383279177703844,
          0.006685655352161796,
          0.005595912133210633,
          0.009654265715715624,
          0.010711480353445862,
          0.007634235301562601,
          0.009570522231739867,
          0.006465819390174535,
          0.0032554695333967616
         ],
         "yaxis": "y"
        },
        {
         "hovertemplate": "gloss=economics<br>label=%{x}<br>value=%{y}<extra></extra>",
         "legendgroup": "economics",
         "line": {
          "color": "#FFA15A",
          "dash": "solid"
         },
         "mode": "lines",
         "name": "economics",
         "orientation": "v",
         "showlegend": true,
         "type": "scatter",
         "x": [
          1969,
          1972,
          1973,
          1974,
          1976,
          1977,
          1978,
          1979,
          1980,
          1981,
          1982,
          1983,
          1984,
          1985,
          1986,
          1987,
          1988,
          1989,
          1990,
          1991,
          1992,
          1993,
          1994,
          1995,
          1996,
          1997,
          1998,
          1999,
          2000,
          2001,
          2002,
          2003,
          2004,
          2005,
          2006,
          2007,
          2008,
          2009,
          2010,
          2011,
          2012,
          2013,
          2014,
          2015,
          2016
         ],
         "xaxis": "x",
         "y": [
          0,
          0,
          0,
          0,
          0,
          0,
          0,
          0,
          0,
          0,
          0,
          0.0010234445803589374,
          0,
          0,
          0.01573637618466886,
          0.019122076949199523,
          0,
          0,
          0.0009742187075654625,
          0.011422274721381893,
          0.0023985676216840618,
          0.00024270628828468888,
          3.6200242255834614e-05,
          0.00709792409377194,
          0.001525324104346353,
          0.0016994323800707792,
          0.006071027816743357,
          0.0025967749370619324,
          0.00014068178404122274,
          0.009215197628734427,
          0.0005691385718387553,
          0,
          0.0007398556172909283,
          0.007761375109993369,
          0.006562526286824248,
          0.004887384862342802,
          0.014127409776336242,
          0.014903934090708454,
          0.003665072619888766,
          0.0095915784940785,
          0.013301507260917935,
          0.012674894088753146,
          0.006236246426339947,
          0.0022688981784045508,
          0
         ],
         "yaxis": "y"
        },
        {
         "hovertemplate": "gloss=random effects<br>label=%{x}<br>value=%{y}<extra></extra>",
         "legendgroup": "random effects",
         "line": {
          "color": "#19d3f3",
          "dash": "solid"
         },
         "mode": "lines",
         "name": "random effects",
         "orientation": "v",
         "showlegend": true,
         "type": "scatter",
         "x": [
          1969,
          1972,
          1973,
          1974,
          1976,
          1977,
          1978,
          1979,
          1980,
          1981,
          1982,
          1983,
          1984,
          1985,
          1986,
          1987,
          1988,
          1989,
          1990,
          1991,
          1992,
          1993,
          1994,
          1995,
          1996,
          1997,
          1998,
          1999,
          2000,
          2001,
          2002,
          2003,
          2004,
          2005,
          2006,
          2007,
          2008,
          2009,
          2010,
          2011,
          2012,
          2013,
          2014,
          2015,
          2016
         ],
         "xaxis": "x",
         "y": [
          0,
          0,
          0,
          0,
          0,
          0,
          0,
          0.0050513750224828,
          0,
          0.00347724520858666,
          0,
          0.000550046352249475,
          0,
          0,
          0,
          0.004804847578181078,
          0.017924255381261286,
          0,
          0.0013933986142619626,
          0.019195492073974273,
          0.018021399531183046,
          5.7944417493605564e-05,
          0.00426749337488702,
          0.014088771341576461,
          0.0038929325294129262,
          0.013142900989729612,
          0.012075033915494544,
          0.008279043072600793,
          0.00943796393198411,
          0.009426610761377224,
          0.009577134153752944,
          0.013277944392319491,
          0.003665049130562714,
          0.007252113010635465,
          0.015369651497063498,
          0.007259946984083866,
          0.00913203255589079,
          0.005270737917642383,
          0.0032411528842538674,
          0.00941433791151279,
          0.0063067964735413614,
          0.006486604310600394,
          0.0036306273719876802,
          0.005746131948806644,
          5.219645642411177e-05
         ],
         "yaxis": "y"
        },
        {
         "hovertemplate": "gloss=variable selection<br>label=%{x}<br>value=%{y}<extra></extra>",
         "legendgroup": "variable selection",
         "line": {
          "color": "#FF6692",
          "dash": "solid"
         },
         "mode": "lines",
         "name": "variable selection",
         "orientation": "v",
         "showlegend": true,
         "type": "scatter",
         "x": [
          1969,
          1972,
          1973,
          1974,
          1976,
          1977,
          1978,
          1979,
          1980,
          1981,
          1982,
          1983,
          1984,
          1985,
          1986,
          1987,
          1988,
          1989,
          1990,
          1991,
          1992,
          1993,
          1994,
          1995,
          1996,
          1997,
          1998,
          1999,
          2000,
          2001,
          2002,
          2003,
          2004,
          2005,
          2006,
          2007,
          2008,
          2009,
          2010,
          2011,
          2012,
          2013,
          2014,
          2015,
          2016
         ],
         "xaxis": "x",
         "y": [
          0,
          0.0052107908550319,
          0,
          0,
          0.0022034144472361334,
          0.000239967855496525,
          0.04441575308315353,
          0.01972607215618625,
          0,
          0,
          0,
          0.0025029800924480376,
          0,
          0.0026590668376931,
          0.00307055851339968,
          0,
          0.0016430909664495001,
          0,
          0,
          0.0006177363882141199,
          0.005308359888529823,
          0.0002949093243174445,
          0.002960723917772277,
          0.003081519783885513,
          0.0042036124766507525,
          0.007389887027878108,
          0.0011097043018261784,
          0.00180856779473535,
          0.006526762969015218,
          0.012081841093852378,
          0.002219356016434604,
          0.006409670561774089,
          0.0036305086281339946,
          0.015491885450529713,
          0.017593865356358696,
          0.008239920715782842,
          0.010165849419028794,
          0.0071282630360367995,
          0.00864848505671464,
          0.0048924743151441364,
          0.0085280166511281,
          0.010879557042652028,
          0.007993794851592066,
          0.007635711756259397,
          0.02081409438184237
         ],
         "yaxis": "y"
        },
        {
         "hovertemplate": "gloss=empirical Bayes<br>label=%{x}<br>value=%{y}<extra></extra>",
         "legendgroup": "empirical Bayes",
         "line": {
          "color": "#B6E880",
          "dash": "solid"
         },
         "mode": "lines",
         "name": "empirical Bayes",
         "orientation": "v",
         "showlegend": true,
         "type": "scatter",
         "x": [
          1969,
          1972,
          1973,
          1974,
          1976,
          1977,
          1978,
          1979,
          1980,
          1981,
          1982,
          1983,
          1984,
          1985,
          1986,
          1987,
          1988,
          1989,
          1990,
          1991,
          1992,
          1993,
          1994,
          1995,
          1996,
          1997,
          1998,
          1999,
          2000,
          2001,
          2002,
          2003,
          2004,
          2005,
          2006,
          2007,
          2008,
          2009,
          2010,
          2011,
          2012,
          2013,
          2014,
          2015,
          2016
         ],
         "xaxis": "x",
         "y": [
          0.2234193614279548,
          0,
          0.00835205755513205,
          0.019652277389923,
          0.0286969039866648,
          0,
          0.0007799825578013,
          0,
          0.030019824590677733,
          0.01024725607864256,
          0,
          0.007359285892496113,
          0,
          0.0239528082332438,
          0.05841292661175558,
          0.0015513992705500888,
          0.039529112040825175,
          0.0067921582124343145,
          0.026921629714289227,
          0.02707400851506114,
          0.030932352432565983,
          0.00600475549620005,
          0.004288389165804281,
          0.003930246837105306,
          0.016806683647471753,
          0.034914981338220547,
          0.009253215743145663,
          0.01007250198701468,
          0.008053734726082938,
          0.0016428191662694047,
          0.004963574617724528,
          0.00289053966657994,
          0.006433843152018506,
          0.007511240918436258,
          0.007604581048092302,
          0.0049904468947688544,
          0.0075683446261249196,
          0.005915594015313371,
          0.006055591573330039,
          0.004045690494828649,
          0.0032702601911574975,
          0.005224995041267269,
          0.004111697570349771,
          0.006210555121870866,
          0.006585351839159455
         ],
         "yaxis": "y"
        },
        {
         "hovertemplate": "gloss=env biology<br>label=%{x}<br>value=%{y}<extra></extra>",
         "legendgroup": "env biology",
         "line": {
          "color": "#FF97FF",
          "dash": "solid"
         },
         "mode": "lines",
         "name": "env biology",
         "orientation": "v",
         "showlegend": true,
         "type": "scatter",
         "x": [
          1969,
          1972,
          1973,
          1974,
          1976,
          1977,
          1978,
          1979,
          1980,
          1981,
          1982,
          1983,
          1984,
          1985,
          1986,
          1987,
          1988,
          1989,
          1990,
          1991,
          1992,
          1993,
          1994,
          1995,
          1996,
          1997,
          1998,
          1999,
          2000,
          2001,
          2002,
          2003,
          2004,
          2005,
          2006,
          2007,
          2008,
          2009,
          2010,
          2011,
          2012,
          2013,
          2014,
          2015,
          2016
         ],
         "xaxis": "x",
         "y": [
          0,
          0,
          0,
          0,
          0,
          0,
          0,
          0,
          0,
          0.00175251065136064,
          0,
          0.003725336045278725,
          0,
          0,
          0,
          0,
          0,
          0.0026501417575087575,
          0,
          0,
          0,
          0,
          0,
          0.00017272452108278,
          0.0021813134064488145,
          0.0006825665099010792,
          0,
          0.0018140620498359177,
          0.0016539966580642342,
          7.510642796547441e-05,
          0.008068268733834788,
          0.005350811709895934,
          0.0031059268982471383,
          0.003988799353916818,
          0.0008066063534948946,
          0.00849181679922997,
          0.007095778475019174,
          0.008386978142249446,
          0.004443719824441401,
          0.013951057894831746,
          0.013335142442279102,
          0.009884691712608107,
          0.008405635853320735,
          0.010902522778242076,
          0.042591711809117194
         ],
         "yaxis": "y"
        },
        {
         "hovertemplate": "gloss=genetics<br>label=%{x}<br>value=%{y}<extra></extra>",
         "legendgroup": "genetics",
         "line": {
          "color": "#FECB52",
          "dash": "solid"
         },
         "mode": "lines",
         "name": "genetics",
         "orientation": "v",
         "showlegend": true,
         "type": "scatter",
         "x": [
          1969,
          1972,
          1973,
          1974,
          1976,
          1977,
          1978,
          1979,
          1980,
          1981,
          1982,
          1983,
          1984,
          1985,
          1986,
          1987,
          1988,
          1989,
          1990,
          1991,
          1992,
          1993,
          1994,
          1995,
          1996,
          1997,
          1998,
          1999,
          2000,
          2001,
          2002,
          2003,
          2004,
          2005,
          2006,
          2007,
          2008,
          2009,
          2010,
          2011,
          2012,
          2013,
          2014,
          2015,
          2016
         ],
         "xaxis": "x",
         "y": [
          0,
          0,
          0,
          0,
          0,
          0,
          0,
          0,
          0,
          0,
          0,
          0,
          0,
          0,
          0,
          0,
          0,
          0,
          0,
          0,
          0.002437091180042254,
          0,
          0,
          0,
          0.0018080776858170559,
          0,
          0,
          0,
          0,
          0.0003830188412840442,
          0.011238319223814576,
          0.012142580583008189,
          0.006470224157660389,
          0.013836122499873895,
          0.014269154784975318,
          0.004078552218124483,
          0.004116168987613823,
          0.007197300659608593,
          0.005282133891019314,
          0.0049588714016390424,
          0.011279940135611042,
          0.004324903192489612,
          0.010448883874307261,
          0.009338259101124631,
          0.013397480976244642
         ],
         "yaxis": "y"
        }
       ],
       "layout": {
        "legend": {
         "title": {
          "text": "gloss"
         },
         "tracegroupgap": 0
        },
        "margin": {
         "t": 60
        },
        "template": {
         "data": {
          "bar": [
           {
            "error_x": {
             "color": "#2a3f5f"
            },
            "error_y": {
             "color": "#2a3f5f"
            },
            "marker": {
             "line": {
              "color": "#E5ECF6",
              "width": 0.5
             }
            },
            "type": "bar"
           }
          ],
          "barpolar": [
           {
            "marker": {
             "line": {
              "color": "#E5ECF6",
              "width": 0.5
             }
            },
            "type": "barpolar"
           }
          ],
          "carpet": [
           {
            "aaxis": {
             "endlinecolor": "#2a3f5f",
             "gridcolor": "white",
             "linecolor": "white",
             "minorgridcolor": "white",
             "startlinecolor": "#2a3f5f"
            },
            "baxis": {
             "endlinecolor": "#2a3f5f",
             "gridcolor": "white",
             "linecolor": "white",
             "minorgridcolor": "white",
             "startlinecolor": "#2a3f5f"
            },
            "type": "carpet"
           }
          ],
          "choropleth": [
           {
            "colorbar": {
             "outlinewidth": 0,
             "ticks": ""
            },
            "type": "choropleth"
           }
          ],
          "contour": [
           {
            "colorbar": {
             "outlinewidth": 0,
             "ticks": ""
            },
            "colorscale": [
             [
              0,
              "#0d0887"
             ],
             [
              0.1111111111111111,
              "#46039f"
             ],
             [
              0.2222222222222222,
              "#7201a8"
             ],
             [
              0.3333333333333333,
              "#9c179e"
             ],
             [
              0.4444444444444444,
              "#bd3786"
             ],
             [
              0.5555555555555556,
              "#d8576b"
             ],
             [
              0.6666666666666666,
              "#ed7953"
             ],
             [
              0.7777777777777778,
              "#fb9f3a"
             ],
             [
              0.8888888888888888,
              "#fdca26"
             ],
             [
              1,
              "#f0f921"
             ]
            ],
            "type": "contour"
           }
          ],
          "contourcarpet": [
           {
            "colorbar": {
             "outlinewidth": 0,
             "ticks": ""
            },
            "type": "contourcarpet"
           }
          ],
          "heatmap": [
           {
            "colorbar": {
             "outlinewidth": 0,
             "ticks": ""
            },
            "colorscale": [
             [
              0,
              "#0d0887"
             ],
             [
              0.1111111111111111,
              "#46039f"
             ],
             [
              0.2222222222222222,
              "#7201a8"
             ],
             [
              0.3333333333333333,
              "#9c179e"
             ],
             [
              0.4444444444444444,
              "#bd3786"
             ],
             [
              0.5555555555555556,
              "#d8576b"
             ],
             [
              0.6666666666666666,
              "#ed7953"
             ],
             [
              0.7777777777777778,
              "#fb9f3a"
             ],
             [
              0.8888888888888888,
              "#fdca26"
             ],
             [
              1,
              "#f0f921"
             ]
            ],
            "type": "heatmap"
           }
          ],
          "heatmapgl": [
           {
            "colorbar": {
             "outlinewidth": 0,
             "ticks": ""
            },
            "colorscale": [
             [
              0,
              "#0d0887"
             ],
             [
              0.1111111111111111,
              "#46039f"
             ],
             [
              0.2222222222222222,
              "#7201a8"
             ],
             [
              0.3333333333333333,
              "#9c179e"
             ],
             [
              0.4444444444444444,
              "#bd3786"
             ],
             [
              0.5555555555555556,
              "#d8576b"
             ],
             [
              0.6666666666666666,
              "#ed7953"
             ],
             [
              0.7777777777777778,
              "#fb9f3a"
             ],
             [
              0.8888888888888888,
              "#fdca26"
             ],
             [
              1,
              "#f0f921"
             ]
            ],
            "type": "heatmapgl"
           }
          ],
          "histogram": [
           {
            "marker": {
             "colorbar": {
              "outlinewidth": 0,
              "ticks": ""
             }
            },
            "type": "histogram"
           }
          ],
          "histogram2d": [
           {
            "colorbar": {
             "outlinewidth": 0,
             "ticks": ""
            },
            "colorscale": [
             [
              0,
              "#0d0887"
             ],
             [
              0.1111111111111111,
              "#46039f"
             ],
             [
              0.2222222222222222,
              "#7201a8"
             ],
             [
              0.3333333333333333,
              "#9c179e"
             ],
             [
              0.4444444444444444,
              "#bd3786"
             ],
             [
              0.5555555555555556,
              "#d8576b"
             ],
             [
              0.6666666666666666,
              "#ed7953"
             ],
             [
              0.7777777777777778,
              "#fb9f3a"
             ],
             [
              0.8888888888888888,
              "#fdca26"
             ],
             [
              1,
              "#f0f921"
             ]
            ],
            "type": "histogram2d"
           }
          ],
          "histogram2dcontour": [
           {
            "colorbar": {
             "outlinewidth": 0,
             "ticks": ""
            },
            "colorscale": [
             [
              0,
              "#0d0887"
             ],
             [
              0.1111111111111111,
              "#46039f"
             ],
             [
              0.2222222222222222,
              "#7201a8"
             ],
             [
              0.3333333333333333,
              "#9c179e"
             ],
             [
              0.4444444444444444,
              "#bd3786"
             ],
             [
              0.5555555555555556,
              "#d8576b"
             ],
             [
              0.6666666666666666,
              "#ed7953"
             ],
             [
              0.7777777777777778,
              "#fb9f3a"
             ],
             [
              0.8888888888888888,
              "#fdca26"
             ],
             [
              1,
              "#f0f921"
             ]
            ],
            "type": "histogram2dcontour"
           }
          ],
          "mesh3d": [
           {
            "colorbar": {
             "outlinewidth": 0,
             "ticks": ""
            },
            "type": "mesh3d"
           }
          ],
          "parcoords": [
           {
            "line": {
             "colorbar": {
              "outlinewidth": 0,
              "ticks": ""
             }
            },
            "type": "parcoords"
           }
          ],
          "pie": [
           {
            "automargin": true,
            "type": "pie"
           }
          ],
          "scatter": [
           {
            "marker": {
             "colorbar": {
              "outlinewidth": 0,
              "ticks": ""
             }
            },
            "type": "scatter"
           }
          ],
          "scatter3d": [
           {
            "line": {
             "colorbar": {
              "outlinewidth": 0,
              "ticks": ""
             }
            },
            "marker": {
             "colorbar": {
              "outlinewidth": 0,
              "ticks": ""
             }
            },
            "type": "scatter3d"
           }
          ],
          "scattercarpet": [
           {
            "marker": {
             "colorbar": {
              "outlinewidth": 0,
              "ticks": ""
             }
            },
            "type": "scattercarpet"
           }
          ],
          "scattergeo": [
           {
            "marker": {
             "colorbar": {
              "outlinewidth": 0,
              "ticks": ""
             }
            },
            "type": "scattergeo"
           }
          ],
          "scattergl": [
           {
            "marker": {
             "colorbar": {
              "outlinewidth": 0,
              "ticks": ""
             }
            },
            "type": "scattergl"
           }
          ],
          "scattermapbox": [
           {
            "marker": {
             "colorbar": {
              "outlinewidth": 0,
              "ticks": ""
             }
            },
            "type": "scattermapbox"
           }
          ],
          "scatterpolar": [
           {
            "marker": {
             "colorbar": {
              "outlinewidth": 0,
              "ticks": ""
             }
            },
            "type": "scatterpolar"
           }
          ],
          "scatterpolargl": [
           {
            "marker": {
             "colorbar": {
              "outlinewidth": 0,
              "ticks": ""
             }
            },
            "type": "scatterpolargl"
           }
          ],
          "scatterternary": [
           {
            "marker": {
             "colorbar": {
              "outlinewidth": 0,
              "ticks": ""
             }
            },
            "type": "scatterternary"
           }
          ],
          "surface": [
           {
            "colorbar": {
             "outlinewidth": 0,
             "ticks": ""
            },
            "colorscale": [
             [
              0,
              "#0d0887"
             ],
             [
              0.1111111111111111,
              "#46039f"
             ],
             [
              0.2222222222222222,
              "#7201a8"
             ],
             [
              0.3333333333333333,
              "#9c179e"
             ],
             [
              0.4444444444444444,
              "#bd3786"
             ],
             [
              0.5555555555555556,
              "#d8576b"
             ],
             [
              0.6666666666666666,
              "#ed7953"
             ],
             [
              0.7777777777777778,
              "#fb9f3a"
             ],
             [
              0.8888888888888888,
              "#fdca26"
             ],
             [
              1,
              "#f0f921"
             ]
            ],
            "type": "surface"
           }
          ],
          "table": [
           {
            "cells": {
             "fill": {
              "color": "#EBF0F8"
             },
             "line": {
              "color": "white"
             }
            },
            "header": {
             "fill": {
              "color": "#C8D4E3"
             },
             "line": {
              "color": "white"
             }
            },
            "type": "table"
           }
          ]
         },
         "layout": {
          "annotationdefaults": {
           "arrowcolor": "#2a3f5f",
           "arrowhead": 0,
           "arrowwidth": 1
          },
          "autotypenumbers": "strict",
          "coloraxis": {
           "colorbar": {
            "outlinewidth": 0,
            "ticks": ""
           }
          },
          "colorscale": {
           "diverging": [
            [
             0,
             "#8e0152"
            ],
            [
             0.1,
             "#c51b7d"
            ],
            [
             0.2,
             "#de77ae"
            ],
            [
             0.3,
             "#f1b6da"
            ],
            [
             0.4,
             "#fde0ef"
            ],
            [
             0.5,
             "#f7f7f7"
            ],
            [
             0.6,
             "#e6f5d0"
            ],
            [
             0.7,
             "#b8e186"
            ],
            [
             0.8,
             "#7fbc41"
            ],
            [
             0.9,
             "#4d9221"
            ],
            [
             1,
             "#276419"
            ]
           ],
           "sequential": [
            [
             0,
             "#0d0887"
            ],
            [
             0.1111111111111111,
             "#46039f"
            ],
            [
             0.2222222222222222,
             "#7201a8"
            ],
            [
             0.3333333333333333,
             "#9c179e"
            ],
            [
             0.4444444444444444,
             "#bd3786"
            ],
            [
             0.5555555555555556,
             "#d8576b"
            ],
            [
             0.6666666666666666,
             "#ed7953"
            ],
            [
             0.7777777777777778,
             "#fb9f3a"
            ],
            [
             0.8888888888888888,
             "#fdca26"
            ],
            [
             1,
             "#f0f921"
            ]
           ],
           "sequentialminus": [
            [
             0,
             "#0d0887"
            ],
            [
             0.1111111111111111,
             "#46039f"
            ],
            [
             0.2222222222222222,
             "#7201a8"
            ],
            [
             0.3333333333333333,
             "#9c179e"
            ],
            [
             0.4444444444444444,
             "#bd3786"
            ],
            [
             0.5555555555555556,
             "#d8576b"
            ],
            [
             0.6666666666666666,
             "#ed7953"
            ],
            [
             0.7777777777777778,
             "#fb9f3a"
            ],
            [
             0.8888888888888888,
             "#fdca26"
            ],
            [
             1,
             "#f0f921"
            ]
           ]
          },
          "colorway": [
           "#636efa",
           "#EF553B",
           "#00cc96",
           "#ab63fa",
           "#FFA15A",
           "#19d3f3",
           "#FF6692",
           "#B6E880",
           "#FF97FF",
           "#FECB52"
          ],
          "font": {
           "color": "#2a3f5f"
          },
          "geo": {
           "bgcolor": "white",
           "lakecolor": "white",
           "landcolor": "#E5ECF6",
           "showlakes": true,
           "showland": true,
           "subunitcolor": "white"
          },
          "hoverlabel": {
           "align": "left"
          },
          "hovermode": "closest",
          "mapbox": {
           "style": "light"
          },
          "paper_bgcolor": "white",
          "plot_bgcolor": "#E5ECF6",
          "polar": {
           "angularaxis": {
            "gridcolor": "white",
            "linecolor": "white",
            "ticks": ""
           },
           "bgcolor": "#E5ECF6",
           "radialaxis": {
            "gridcolor": "white",
            "linecolor": "white",
            "ticks": ""
           }
          },
          "scene": {
           "xaxis": {
            "backgroundcolor": "#E5ECF6",
            "gridcolor": "white",
            "gridwidth": 2,
            "linecolor": "white",
            "showbackground": true,
            "ticks": "",
            "zerolinecolor": "white"
           },
           "yaxis": {
            "backgroundcolor": "#E5ECF6",
            "gridcolor": "white",
            "gridwidth": 2,
            "linecolor": "white",
            "showbackground": true,
            "ticks": "",
            "zerolinecolor": "white"
           },
           "zaxis": {
            "backgroundcolor": "#E5ECF6",
            "gridcolor": "white",
            "gridwidth": 2,
            "linecolor": "white",
            "showbackground": true,
            "ticks": "",
            "zerolinecolor": "white"
           }
          },
          "shapedefaults": {
           "line": {
            "color": "#2a3f5f"
           }
          },
          "ternary": {
           "aaxis": {
            "gridcolor": "white",
            "linecolor": "white",
            "ticks": ""
           },
           "baxis": {
            "gridcolor": "white",
            "linecolor": "white",
            "ticks": ""
           },
           "bgcolor": "#E5ECF6",
           "caxis": {
            "gridcolor": "white",
            "linecolor": "white",
            "ticks": ""
           }
          },
          "title": {
           "x": 0.05
          },
          "xaxis": {
           "automargin": true,
           "gridcolor": "white",
           "linecolor": "white",
           "ticks": "",
           "title": {
            "standoff": 15
           },
           "zerolinecolor": "white",
           "zerolinewidth": 2
          },
          "yaxis": {
           "automargin": true,
           "gridcolor": "white",
           "linecolor": "white",
           "ticks": "",
           "title": {
            "standoff": 15
           },
           "zerolinecolor": "white",
           "zerolinewidth": 2
          }
         }
        },
        "xaxis": {
         "anchor": "y",
         "domain": [
          0,
          1
         ],
         "title": {
          "text": "label"
         }
        },
        "yaxis": {
         "anchor": "x",
         "domain": [
          0,
          1
         ],
         "title": {
          "text": "value"
         }
        }
       }
      },
      "text/html": [
       "<div>                            <div id=\"fdfde6c0-ba66-4db4-ab4c-2c318910b19b\" class=\"plotly-graph-div\" style=\"height:525px; width:100%;\"></div>            <script type=\"text/javascript\">                require([\"plotly\"], function(Plotly) {                    window.PLOTLYENV=window.PLOTLYENV || {};                                    if (document.getElementById(\"fdfde6c0-ba66-4db4-ab4c-2c318910b19b\")) {                    Plotly.newPlot(                        \"fdfde6c0-ba66-4db4-ab4c-2c318910b19b\",                        [{\"hovertemplate\": \"gloss=Bayesian models<br>label=%{x}<br>value=%{y}<extra></extra>\", \"legendgroup\": \"Bayesian models\", \"line\": {\"color\": \"#636efa\", \"dash\": \"solid\"}, \"mode\": \"lines\", \"name\": \"Bayesian models\", \"orientation\": \"v\", \"showlegend\": true, \"type\": \"scatter\", \"x\": [1969, 1972, 1973, 1974, 1976, 1977, 1978, 1979, 1980, 1981, 1982, 1983, 1984, 1985, 1986, 1987, 1988, 1989, 1990, 1991, 1992, 1993, 1994, 1995, 1996, 1997, 1998, 1999, 2000, 2001, 2002, 2003, 2004, 2005, 2006, 2007, 2008, 2009, 2010, 2011, 2012, 2013, 2014, 2015, 2016], \"xaxis\": \"x\", \"y\": [0.0140730303483394, 0.0594070595878307, 0.027741908899869, 0.0387748552273331, 0.025872191851589333, 0.04207475805701, 0.03679310353733225, 0.03618382023751425, 0.03512010534011031, 0.04926551328633378, 0.057976412958682555, 0.03574802167992206, 0.05368553103008315, 0.0495661784188466, 0.02076617508652584, 0.03744814023477221, 0.04314060143102479, 0.04087234752225017, 0.04311553006718342, 0.04621644976658937, 0.05432673804108496, 0.04745080812947397, 0.044128241194967104, 0.05084464668630282, 0.05079648772405521, 0.04509957638489939, 0.04567411493576546, 0.054678039443055604, 0.05869727381249302, 0.05205256933755716, 0.057362047260527335, 0.05372778759349982, 0.053283619331716534, 0.051432642822233365, 0.05393680812514259, 0.054105156566952466, 0.045665862580164696, 0.051175821283847185, 0.05375013225171865, 0.05394964858143147, 0.0518739557308894, 0.056612249287812194, 0.056720301527206175, 0.05042810921826303, 0.046029349426333604], \"yaxis\": \"y\"}, {\"hovertemplate\": \"gloss=French<br>label=%{x}<br>value=%{y}<extra></extra>\", \"legendgroup\": \"French\", \"line\": {\"color\": \"#EF553B\", \"dash\": \"solid\"}, \"mode\": \"lines\", \"name\": \"French\", \"orientation\": \"v\", \"showlegend\": true, \"type\": \"scatter\", \"x\": [1969, 1972, 1973, 1974, 1976, 1977, 1978, 1979, 1980, 1981, 1982, 1983, 1984, 1985, 1986, 1987, 1988, 1989, 1990, 1991, 1992, 1993, 1994, 1995, 1996, 1997, 1998, 1999, 2000, 2001, 2002, 2003, 2004, 2005, 2006, 2007, 2008, 2009, 2010, 2011, 2012, 2013, 2014, 2015, 2016], \"xaxis\": \"x\", \"y\": [0.0, 0.0, 0.0, 0.0, 0.0, 0.0, 0.0, 0.0, 0.0, 0.0, 0.0, 0.0, 0.0, 0.0, 0.029421313629685357, 0.11509911607749311, 0.03347355289925739, 0.03417633795977131, 0.0, 0.027900643542825978, 0.020479359409181854, 0.0, 0.011795144770329476, 0.0, 0.019689445859254886, 0.03929123074900257, 0.007309585920479554, 0.008942509074418382, 0.011217303741386509, 0.027489231970261478, 0.018937864762076855, 0.005630511770679102, 0.006815783347924798, 0.00640378656793428, 0.007312798662996534, 0.030185143965275534, 0.029433006833090306, 0.006686283884480871, 0.005875554558755058, 0.0, 2.4011294960147057e-05, 0.003464421790700612, 0.003374991872579066, 0.0, 0.009255405454612137], \"yaxis\": \"y\"}, {\"hovertemplate\": \"gloss=MCMC<br>label=%{x}<br>value=%{y}<extra></extra>\", \"legendgroup\": \"MCMC\", \"line\": {\"color\": \"#00cc96\", \"dash\": \"solid\"}, \"mode\": \"lines\", \"name\": \"MCMC\", \"orientation\": \"v\", \"showlegend\": true, \"type\": \"scatter\", \"x\": [1969, 1972, 1973, 1974, 1976, 1977, 1978, 1979, 1980, 1981, 1982, 1983, 1984, 1985, 1986, 1987, 1988, 1989, 1990, 1991, 1992, 1993, 1994, 1995, 1996, 1997, 1998, 1999, 2000, 2001, 2002, 2003, 2004, 2005, 2006, 2007, 2008, 2009, 2010, 2011, 2012, 2013, 2014, 2015, 2016], \"xaxis\": \"x\", \"y\": [0.0, 0.0, 0.0, 0.0, 0.0, 0.000585519268307725, 0.0, 0.0048257170868196, 0.0, 0.0, 0.0, 0.0, 0.0, 0.0, 0.00341737101017186, 0.005666543273842556, 0.0, 0.0, 0.0011200728402062374, 0.00550209741853232, 0.0026685132011313004, 0.009228109336316561, 0.006807887079151874, 0.028138366396598658, 0.008415597809142254, 0.01979367195131869, 0.031888758544292385, 0.016589308648917625, 0.02563634730904212, 0.01185364198449293, 0.021949072547348205, 0.019462240076052663, 0.022244920037153924, 0.022782244028377058, 0.014385536132965214, 0.016496865724477606, 0.017215324529935672, 0.013544290107894933, 0.00820143101238527, 0.014242218318347342, 0.01195826653281728, 0.010790240786267445, 0.00834550191078593, 0.006943753646620449, 0.007663999571112064], \"yaxis\": \"y\"}, {\"hovertemplate\": \"gloss=priors<br>label=%{x}<br>value=%{y}<extra></extra>\", \"legendgroup\": \"priors\", \"line\": {\"color\": \"#ab63fa\", \"dash\": \"solid\"}, \"mode\": \"lines\", \"name\": \"priors\", \"orientation\": \"v\", \"showlegend\": true, \"type\": \"scatter\", \"x\": [1969, 1972, 1973, 1974, 1976, 1977, 1978, 1979, 1980, 1981, 1982, 1983, 1984, 1985, 1986, 1987, 1988, 1989, 1990, 1991, 1992, 1993, 1994, 1995, 1996, 1997, 1998, 1999, 2000, 2001, 2002, 2003, 2004, 2005, 2006, 2007, 2008, 2009, 2010, 2011, 2012, 2013, 2014, 2015, 2016], \"xaxis\": \"x\", \"y\": [0.0, 0.0, 0.0882973848812008, 0.0037886468502679, 0.06034026979705209, 0.026707918813455453, 0.07452123092859855, 0.07879843719733318, 0.0022952927959337334, 0.03928618855633142, 0.00268719771532575, 0.0508371344600602, 0.0002123403172397, 0.0, 0.01360470294971092, 0.013062093847035612, 0.026771612462976355, 0.030286141252028356, 0.03190438517909361, 0.011980220557532607, 0.014247837160802669, 0.03260797899857486, 0.02856449332377564, 0.011513059867471715, 0.02069684249315272, 0.017177423740092897, 0.034098153790517886, 0.010854788509733357, 0.0216196592658584, 0.015206912994196508, 0.015084378153407796, 0.012870909376012913, 0.004802232976317139, 0.012571122888206731, 0.009722011852531376, 0.009223394306955846, 0.013383279177703844, 0.006685655352161796, 0.005595912133210633, 0.009654265715715624, 0.010711480353445862, 0.007634235301562601, 0.009570522231739867, 0.006465819390174535, 0.0032554695333967616], \"yaxis\": \"y\"}, {\"hovertemplate\": \"gloss=economics<br>label=%{x}<br>value=%{y}<extra></extra>\", \"legendgroup\": \"economics\", \"line\": {\"color\": \"#FFA15A\", \"dash\": \"solid\"}, \"mode\": \"lines\", \"name\": \"economics\", \"orientation\": \"v\", \"showlegend\": true, \"type\": \"scatter\", \"x\": [1969, 1972, 1973, 1974, 1976, 1977, 1978, 1979, 1980, 1981, 1982, 1983, 1984, 1985, 1986, 1987, 1988, 1989, 1990, 1991, 1992, 1993, 1994, 1995, 1996, 1997, 1998, 1999, 2000, 2001, 2002, 2003, 2004, 2005, 2006, 2007, 2008, 2009, 2010, 2011, 2012, 2013, 2014, 2015, 2016], \"xaxis\": \"x\", \"y\": [0.0, 0.0, 0.0, 0.0, 0.0, 0.0, 0.0, 0.0, 0.0, 0.0, 0.0, 0.0010234445803589374, 0.0, 0.0, 0.01573637618466886, 0.019122076949199523, 0.0, 0.0, 0.0009742187075654625, 0.011422274721381893, 0.0023985676216840618, 0.00024270628828468888, 3.6200242255834614e-05, 0.00709792409377194, 0.001525324104346353, 0.0016994323800707792, 0.006071027816743357, 0.0025967749370619324, 0.00014068178404122274, 0.009215197628734427, 0.0005691385718387553, 0.0, 0.0007398556172909283, 0.007761375109993369, 0.006562526286824248, 0.004887384862342802, 0.014127409776336242, 0.014903934090708454, 0.003665072619888766, 0.0095915784940785, 0.013301507260917935, 0.012674894088753146, 0.006236246426339947, 0.0022688981784045508, 0.0], \"yaxis\": \"y\"}, {\"hovertemplate\": \"gloss=random effects<br>label=%{x}<br>value=%{y}<extra></extra>\", \"legendgroup\": \"random effects\", \"line\": {\"color\": \"#19d3f3\", \"dash\": \"solid\"}, \"mode\": \"lines\", \"name\": \"random effects\", \"orientation\": \"v\", \"showlegend\": true, \"type\": \"scatter\", \"x\": [1969, 1972, 1973, 1974, 1976, 1977, 1978, 1979, 1980, 1981, 1982, 1983, 1984, 1985, 1986, 1987, 1988, 1989, 1990, 1991, 1992, 1993, 1994, 1995, 1996, 1997, 1998, 1999, 2000, 2001, 2002, 2003, 2004, 2005, 2006, 2007, 2008, 2009, 2010, 2011, 2012, 2013, 2014, 2015, 2016], \"xaxis\": \"x\", \"y\": [0.0, 0.0, 0.0, 0.0, 0.0, 0.0, 0.0, 0.0050513750224828, 0.0, 0.00347724520858666, 0.0, 0.000550046352249475, 0.0, 0.0, 0.0, 0.004804847578181078, 0.017924255381261286, 0.0, 0.0013933986142619626, 0.019195492073974273, 0.018021399531183046, 5.7944417493605564e-05, 0.00426749337488702, 0.014088771341576461, 0.0038929325294129262, 0.013142900989729612, 0.012075033915494544, 0.008279043072600793, 0.00943796393198411, 0.009426610761377224, 0.009577134153752944, 0.013277944392319491, 0.003665049130562714, 0.007252113010635465, 0.015369651497063498, 0.007259946984083866, 0.00913203255589079, 0.005270737917642383, 0.0032411528842538674, 0.00941433791151279, 0.0063067964735413614, 0.006486604310600394, 0.0036306273719876802, 0.005746131948806644, 5.219645642411177e-05], \"yaxis\": \"y\"}, {\"hovertemplate\": \"gloss=variable selection<br>label=%{x}<br>value=%{y}<extra></extra>\", \"legendgroup\": \"variable selection\", \"line\": {\"color\": \"#FF6692\", \"dash\": \"solid\"}, \"mode\": \"lines\", \"name\": \"variable selection\", \"orientation\": \"v\", \"showlegend\": true, \"type\": \"scatter\", \"x\": [1969, 1972, 1973, 1974, 1976, 1977, 1978, 1979, 1980, 1981, 1982, 1983, 1984, 1985, 1986, 1987, 1988, 1989, 1990, 1991, 1992, 1993, 1994, 1995, 1996, 1997, 1998, 1999, 2000, 2001, 2002, 2003, 2004, 2005, 2006, 2007, 2008, 2009, 2010, 2011, 2012, 2013, 2014, 2015, 2016], \"xaxis\": \"x\", \"y\": [0.0, 0.0052107908550319, 0.0, 0.0, 0.0022034144472361334, 0.000239967855496525, 0.04441575308315353, 0.01972607215618625, 0.0, 0.0, 0.0, 0.0025029800924480376, 0.0, 0.0026590668376931, 0.00307055851339968, 0.0, 0.0016430909664495001, 0.0, 0.0, 0.0006177363882141199, 0.005308359888529823, 0.0002949093243174445, 0.002960723917772277, 0.003081519783885513, 0.0042036124766507525, 0.007389887027878108, 0.0011097043018261784, 0.00180856779473535, 0.006526762969015218, 0.012081841093852378, 0.002219356016434604, 0.006409670561774089, 0.0036305086281339946, 0.015491885450529713, 0.017593865356358696, 0.008239920715782842, 0.010165849419028794, 0.0071282630360367995, 0.00864848505671464, 0.0048924743151441364, 0.0085280166511281, 0.010879557042652028, 0.007993794851592066, 0.007635711756259397, 0.02081409438184237], \"yaxis\": \"y\"}, {\"hovertemplate\": \"gloss=empirical Bayes<br>label=%{x}<br>value=%{y}<extra></extra>\", \"legendgroup\": \"empirical Bayes\", \"line\": {\"color\": \"#B6E880\", \"dash\": \"solid\"}, \"mode\": \"lines\", \"name\": \"empirical Bayes\", \"orientation\": \"v\", \"showlegend\": true, \"type\": \"scatter\", \"x\": [1969, 1972, 1973, 1974, 1976, 1977, 1978, 1979, 1980, 1981, 1982, 1983, 1984, 1985, 1986, 1987, 1988, 1989, 1990, 1991, 1992, 1993, 1994, 1995, 1996, 1997, 1998, 1999, 2000, 2001, 2002, 2003, 2004, 2005, 2006, 2007, 2008, 2009, 2010, 2011, 2012, 2013, 2014, 2015, 2016], \"xaxis\": \"x\", \"y\": [0.2234193614279548, 0.0, 0.00835205755513205, 0.019652277389923, 0.0286969039866648, 0.0, 0.0007799825578013, 0.0, 0.030019824590677733, 0.01024725607864256, 0.0, 0.007359285892496113, 0.0, 0.0239528082332438, 0.05841292661175558, 0.0015513992705500888, 0.039529112040825175, 0.0067921582124343145, 0.026921629714289227, 0.02707400851506114, 0.030932352432565983, 0.00600475549620005, 0.004288389165804281, 0.003930246837105306, 0.016806683647471753, 0.034914981338220547, 0.009253215743145663, 0.01007250198701468, 0.008053734726082938, 0.0016428191662694047, 0.004963574617724528, 0.00289053966657994, 0.006433843152018506, 0.007511240918436258, 0.007604581048092302, 0.0049904468947688544, 0.0075683446261249196, 0.005915594015313371, 0.006055591573330039, 0.004045690494828649, 0.0032702601911574975, 0.005224995041267269, 0.004111697570349771, 0.006210555121870866, 0.006585351839159455], \"yaxis\": \"y\"}, {\"hovertemplate\": \"gloss=env biology<br>label=%{x}<br>value=%{y}<extra></extra>\", \"legendgroup\": \"env biology\", \"line\": {\"color\": \"#FF97FF\", \"dash\": \"solid\"}, \"mode\": \"lines\", \"name\": \"env biology\", \"orientation\": \"v\", \"showlegend\": true, \"type\": \"scatter\", \"x\": [1969, 1972, 1973, 1974, 1976, 1977, 1978, 1979, 1980, 1981, 1982, 1983, 1984, 1985, 1986, 1987, 1988, 1989, 1990, 1991, 1992, 1993, 1994, 1995, 1996, 1997, 1998, 1999, 2000, 2001, 2002, 2003, 2004, 2005, 2006, 2007, 2008, 2009, 2010, 2011, 2012, 2013, 2014, 2015, 2016], \"xaxis\": \"x\", \"y\": [0.0, 0.0, 0.0, 0.0, 0.0, 0.0, 0.0, 0.0, 0.0, 0.00175251065136064, 0.0, 0.003725336045278725, 0.0, 0.0, 0.0, 0.0, 0.0, 0.0026501417575087575, 0.0, 0.0, 0.0, 0.0, 0.0, 0.00017272452108278, 0.0021813134064488145, 0.0006825665099010792, 0.0, 0.0018140620498359177, 0.0016539966580642342, 7.510642796547441e-05, 0.008068268733834788, 0.005350811709895934, 0.0031059268982471383, 0.003988799353916818, 0.0008066063534948946, 0.00849181679922997, 0.007095778475019174, 0.008386978142249446, 0.004443719824441401, 0.013951057894831746, 0.013335142442279102, 0.009884691712608107, 0.008405635853320735, 0.010902522778242076, 0.042591711809117194], \"yaxis\": \"y\"}, {\"hovertemplate\": \"gloss=genetics<br>label=%{x}<br>value=%{y}<extra></extra>\", \"legendgroup\": \"genetics\", \"line\": {\"color\": \"#FECB52\", \"dash\": \"solid\"}, \"mode\": \"lines\", \"name\": \"genetics\", \"orientation\": \"v\", \"showlegend\": true, \"type\": \"scatter\", \"x\": [1969, 1972, 1973, 1974, 1976, 1977, 1978, 1979, 1980, 1981, 1982, 1983, 1984, 1985, 1986, 1987, 1988, 1989, 1990, 1991, 1992, 1993, 1994, 1995, 1996, 1997, 1998, 1999, 2000, 2001, 2002, 2003, 2004, 2005, 2006, 2007, 2008, 2009, 2010, 2011, 2012, 2013, 2014, 2015, 2016], \"xaxis\": \"x\", \"y\": [0.0, 0.0, 0.0, 0.0, 0.0, 0.0, 0.0, 0.0, 0.0, 0.0, 0.0, 0.0, 0.0, 0.0, 0.0, 0.0, 0.0, 0.0, 0.0, 0.0, 0.002437091180042254, 0.0, 0.0, 0.0, 0.0018080776858170559, 0.0, 0.0, 0.0, 0.0, 0.0003830188412840442, 0.011238319223814576, 0.012142580583008189, 0.006470224157660389, 0.013836122499873895, 0.014269154784975318, 0.004078552218124483, 0.004116168987613823, 0.007197300659608593, 0.005282133891019314, 0.0049588714016390424, 0.011279940135611042, 0.004324903192489612, 0.010448883874307261, 0.009338259101124631, 0.013397480976244642], \"yaxis\": \"y\"}],                        {\"legend\": {\"title\": {\"text\": \"gloss\"}, \"tracegroupgap\": 0}, \"margin\": {\"t\": 60}, \"template\": {\"data\": {\"bar\": [{\"error_x\": {\"color\": \"#2a3f5f\"}, \"error_y\": {\"color\": \"#2a3f5f\"}, \"marker\": {\"line\": {\"color\": \"#E5ECF6\", \"width\": 0.5}}, \"type\": \"bar\"}], \"barpolar\": [{\"marker\": {\"line\": {\"color\": \"#E5ECF6\", \"width\": 0.5}}, \"type\": \"barpolar\"}], \"carpet\": [{\"aaxis\": {\"endlinecolor\": \"#2a3f5f\", \"gridcolor\": \"white\", \"linecolor\": \"white\", \"minorgridcolor\": \"white\", \"startlinecolor\": \"#2a3f5f\"}, \"baxis\": {\"endlinecolor\": \"#2a3f5f\", \"gridcolor\": \"white\", \"linecolor\": \"white\", \"minorgridcolor\": \"white\", \"startlinecolor\": \"#2a3f5f\"}, \"type\": \"carpet\"}], \"choropleth\": [{\"colorbar\": {\"outlinewidth\": 0, \"ticks\": \"\"}, \"type\": \"choropleth\"}], \"contour\": [{\"colorbar\": {\"outlinewidth\": 0, \"ticks\": \"\"}, \"colorscale\": [[0.0, \"#0d0887\"], [0.1111111111111111, \"#46039f\"], [0.2222222222222222, \"#7201a8\"], [0.3333333333333333, \"#9c179e\"], [0.4444444444444444, \"#bd3786\"], [0.5555555555555556, \"#d8576b\"], [0.6666666666666666, \"#ed7953\"], [0.7777777777777778, \"#fb9f3a\"], [0.8888888888888888, \"#fdca26\"], [1.0, \"#f0f921\"]], \"type\": \"contour\"}], \"contourcarpet\": [{\"colorbar\": {\"outlinewidth\": 0, \"ticks\": \"\"}, \"type\": \"contourcarpet\"}], \"heatmap\": [{\"colorbar\": {\"outlinewidth\": 0, \"ticks\": \"\"}, \"colorscale\": [[0.0, \"#0d0887\"], [0.1111111111111111, \"#46039f\"], [0.2222222222222222, \"#7201a8\"], [0.3333333333333333, \"#9c179e\"], [0.4444444444444444, \"#bd3786\"], [0.5555555555555556, \"#d8576b\"], [0.6666666666666666, \"#ed7953\"], [0.7777777777777778, \"#fb9f3a\"], [0.8888888888888888, \"#fdca26\"], [1.0, \"#f0f921\"]], \"type\": \"heatmap\"}], \"heatmapgl\": [{\"colorbar\": {\"outlinewidth\": 0, \"ticks\": \"\"}, \"colorscale\": [[0.0, \"#0d0887\"], [0.1111111111111111, \"#46039f\"], [0.2222222222222222, \"#7201a8\"], [0.3333333333333333, \"#9c179e\"], [0.4444444444444444, \"#bd3786\"], [0.5555555555555556, \"#d8576b\"], [0.6666666666666666, \"#ed7953\"], [0.7777777777777778, \"#fb9f3a\"], [0.8888888888888888, \"#fdca26\"], [1.0, \"#f0f921\"]], \"type\": \"heatmapgl\"}], \"histogram\": [{\"marker\": {\"colorbar\": {\"outlinewidth\": 0, \"ticks\": \"\"}}, \"type\": \"histogram\"}], \"histogram2d\": [{\"colorbar\": {\"outlinewidth\": 0, \"ticks\": \"\"}, \"colorscale\": [[0.0, \"#0d0887\"], [0.1111111111111111, \"#46039f\"], [0.2222222222222222, \"#7201a8\"], [0.3333333333333333, \"#9c179e\"], [0.4444444444444444, \"#bd3786\"], [0.5555555555555556, \"#d8576b\"], [0.6666666666666666, \"#ed7953\"], [0.7777777777777778, \"#fb9f3a\"], [0.8888888888888888, \"#fdca26\"], [1.0, \"#f0f921\"]], \"type\": \"histogram2d\"}], \"histogram2dcontour\": [{\"colorbar\": {\"outlinewidth\": 0, \"ticks\": \"\"}, \"colorscale\": [[0.0, \"#0d0887\"], [0.1111111111111111, \"#46039f\"], [0.2222222222222222, \"#7201a8\"], [0.3333333333333333, \"#9c179e\"], [0.4444444444444444, \"#bd3786\"], [0.5555555555555556, \"#d8576b\"], [0.6666666666666666, \"#ed7953\"], [0.7777777777777778, \"#fb9f3a\"], [0.8888888888888888, \"#fdca26\"], [1.0, \"#f0f921\"]], \"type\": \"histogram2dcontour\"}], \"mesh3d\": [{\"colorbar\": {\"outlinewidth\": 0, \"ticks\": \"\"}, \"type\": \"mesh3d\"}], \"parcoords\": [{\"line\": {\"colorbar\": {\"outlinewidth\": 0, \"ticks\": \"\"}}, \"type\": \"parcoords\"}], \"pie\": [{\"automargin\": true, \"type\": \"pie\"}], \"scatter\": [{\"marker\": {\"colorbar\": {\"outlinewidth\": 0, \"ticks\": \"\"}}, \"type\": \"scatter\"}], \"scatter3d\": [{\"line\": {\"colorbar\": {\"outlinewidth\": 0, \"ticks\": \"\"}}, \"marker\": {\"colorbar\": {\"outlinewidth\": 0, \"ticks\": \"\"}}, \"type\": \"scatter3d\"}], \"scattercarpet\": [{\"marker\": {\"colorbar\": {\"outlinewidth\": 0, \"ticks\": \"\"}}, \"type\": \"scattercarpet\"}], \"scattergeo\": [{\"marker\": {\"colorbar\": {\"outlinewidth\": 0, \"ticks\": \"\"}}, \"type\": \"scattergeo\"}], \"scattergl\": [{\"marker\": {\"colorbar\": {\"outlinewidth\": 0, \"ticks\": \"\"}}, \"type\": \"scattergl\"}], \"scattermapbox\": [{\"marker\": {\"colorbar\": {\"outlinewidth\": 0, \"ticks\": \"\"}}, \"type\": \"scattermapbox\"}], \"scatterpolar\": [{\"marker\": {\"colorbar\": {\"outlinewidth\": 0, \"ticks\": \"\"}}, \"type\": \"scatterpolar\"}], \"scatterpolargl\": [{\"marker\": {\"colorbar\": {\"outlinewidth\": 0, \"ticks\": \"\"}}, \"type\": \"scatterpolargl\"}], \"scatterternary\": [{\"marker\": {\"colorbar\": {\"outlinewidth\": 0, \"ticks\": \"\"}}, \"type\": \"scatterternary\"}], \"surface\": [{\"colorbar\": {\"outlinewidth\": 0, \"ticks\": \"\"}, \"colorscale\": [[0.0, \"#0d0887\"], [0.1111111111111111, \"#46039f\"], [0.2222222222222222, \"#7201a8\"], [0.3333333333333333, \"#9c179e\"], [0.4444444444444444, \"#bd3786\"], [0.5555555555555556, \"#d8576b\"], [0.6666666666666666, \"#ed7953\"], [0.7777777777777778, \"#fb9f3a\"], [0.8888888888888888, \"#fdca26\"], [1.0, \"#f0f921\"]], \"type\": \"surface\"}], \"table\": [{\"cells\": {\"fill\": {\"color\": \"#EBF0F8\"}, \"line\": {\"color\": \"white\"}}, \"header\": {\"fill\": {\"color\": \"#C8D4E3\"}, \"line\": {\"color\": \"white\"}}, \"type\": \"table\"}]}, \"layout\": {\"annotationdefaults\": {\"arrowcolor\": \"#2a3f5f\", \"arrowhead\": 0, \"arrowwidth\": 1}, \"autotypenumbers\": \"strict\", \"coloraxis\": {\"colorbar\": {\"outlinewidth\": 0, \"ticks\": \"\"}}, \"colorscale\": {\"diverging\": [[0, \"#8e0152\"], [0.1, \"#c51b7d\"], [0.2, \"#de77ae\"], [0.3, \"#f1b6da\"], [0.4, \"#fde0ef\"], [0.5, \"#f7f7f7\"], [0.6, \"#e6f5d0\"], [0.7, \"#b8e186\"], [0.8, \"#7fbc41\"], [0.9, \"#4d9221\"], [1, \"#276419\"]], \"sequential\": [[0.0, \"#0d0887\"], [0.1111111111111111, \"#46039f\"], [0.2222222222222222, \"#7201a8\"], [0.3333333333333333, \"#9c179e\"], [0.4444444444444444, \"#bd3786\"], [0.5555555555555556, \"#d8576b\"], [0.6666666666666666, \"#ed7953\"], [0.7777777777777778, \"#fb9f3a\"], [0.8888888888888888, \"#fdca26\"], [1.0, \"#f0f921\"]], \"sequentialminus\": [[0.0, \"#0d0887\"], [0.1111111111111111, \"#46039f\"], [0.2222222222222222, \"#7201a8\"], [0.3333333333333333, \"#9c179e\"], [0.4444444444444444, \"#bd3786\"], [0.5555555555555556, \"#d8576b\"], [0.6666666666666666, \"#ed7953\"], [0.7777777777777778, \"#fb9f3a\"], [0.8888888888888888, \"#fdca26\"], [1.0, \"#f0f921\"]]}, \"colorway\": [\"#636efa\", \"#EF553B\", \"#00cc96\", \"#ab63fa\", \"#FFA15A\", \"#19d3f3\", \"#FF6692\", \"#B6E880\", \"#FF97FF\", \"#FECB52\"], \"font\": {\"color\": \"#2a3f5f\"}, \"geo\": {\"bgcolor\": \"white\", \"lakecolor\": \"white\", \"landcolor\": \"#E5ECF6\", \"showlakes\": true, \"showland\": true, \"subunitcolor\": \"white\"}, \"hoverlabel\": {\"align\": \"left\"}, \"hovermode\": \"closest\", \"mapbox\": {\"style\": \"light\"}, \"paper_bgcolor\": \"white\", \"plot_bgcolor\": \"#E5ECF6\", \"polar\": {\"angularaxis\": {\"gridcolor\": \"white\", \"linecolor\": \"white\", \"ticks\": \"\"}, \"bgcolor\": \"#E5ECF6\", \"radialaxis\": {\"gridcolor\": \"white\", \"linecolor\": \"white\", \"ticks\": \"\"}}, \"scene\": {\"xaxis\": {\"backgroundcolor\": \"#E5ECF6\", \"gridcolor\": \"white\", \"gridwidth\": 2, \"linecolor\": \"white\", \"showbackground\": true, \"ticks\": \"\", \"zerolinecolor\": \"white\"}, \"yaxis\": {\"backgroundcolor\": \"#E5ECF6\", \"gridcolor\": \"white\", \"gridwidth\": 2, \"linecolor\": \"white\", \"showbackground\": true, \"ticks\": \"\", \"zerolinecolor\": \"white\"}, \"zaxis\": {\"backgroundcolor\": \"#E5ECF6\", \"gridcolor\": \"white\", \"gridwidth\": 2, \"linecolor\": \"white\", \"showbackground\": true, \"ticks\": \"\", \"zerolinecolor\": \"white\"}}, \"shapedefaults\": {\"line\": {\"color\": \"#2a3f5f\"}}, \"ternary\": {\"aaxis\": {\"gridcolor\": \"white\", \"linecolor\": \"white\", \"ticks\": \"\"}, \"baxis\": {\"gridcolor\": \"white\", \"linecolor\": \"white\", \"ticks\": \"\"}, \"bgcolor\": \"#E5ECF6\", \"caxis\": {\"gridcolor\": \"white\", \"linecolor\": \"white\", \"ticks\": \"\"}}, \"title\": {\"x\": 0.05}, \"xaxis\": {\"automargin\": true, \"gridcolor\": \"white\", \"linecolor\": \"white\", \"ticks\": \"\", \"title\": {\"standoff\": 15}, \"zerolinecolor\": \"white\", \"zerolinewidth\": 2}, \"yaxis\": {\"automargin\": true, \"gridcolor\": \"white\", \"linecolor\": \"white\", \"ticks\": \"\", \"title\": {\"standoff\": 15}, \"zerolinecolor\": \"white\", \"zerolinewidth\": 2}}}, \"xaxis\": {\"anchor\": \"y\", \"domain\": [0.0, 1.0], \"title\": {\"text\": \"label\"}}, \"yaxis\": {\"anchor\": \"x\", \"domain\": [0.0, 1.0], \"title\": {\"text\": \"value\"}}},                        {\"responsive\": true}                    ).then(function(){\n",
       "                            \n",
       "var gd = document.getElementById('fdfde6c0-ba66-4db4-ab4c-2c318910b19b');\n",
       "var x = new MutationObserver(function (mutations, observer) {{\n",
       "        var display = window.getComputedStyle(gd).display;\n",
       "        if (!display || display === 'none') {{\n",
       "            console.log([gd, 'removed!']);\n",
       "            Plotly.purge(gd);\n",
       "            observer.disconnect();\n",
       "        }}\n",
       "}});\n",
       "\n",
       "// Listen for the removal of the full notebook cells\n",
       "var notebookContainer = gd.closest('#notebook-container');\n",
       "if (notebookContainer) {{\n",
       "    x.observe(notebookContainer, {childList: true});\n",
       "}}\n",
       "\n",
       "// Listen for the clearing of the current output cell\n",
       "var outputEl = gd.closest('.output');\n",
       "if (outputEl) {{\n",
       "    x.observe(outputEl, {childList: true});\n",
       "}}\n",
       "\n",
       "                        })                };                });            </script>        </div>"
      ]
     },
     "metadata": {},
     "output_type": "display_data"
    }
   ],
   "source": [
    "px.line(TRENDS)"
   ]
  },
  {
   "cell_type": "code",
   "execution_count": 97,
   "metadata": {},
   "outputs": [
    {
     "data": {
      "application/vnd.plotly.v1+json": {
       "config": {
        "plotlyServerURL": "https://plot.ly"
       },
       "data": [
        {
         "alignmentgroup": "True",
         "hovertemplate": "gloss=Bayesian models<br>label=%{x}<br>value=%{y}<extra></extra>",
         "legendgroup": "Bayesian models",
         "marker": {
          "color": "#636efa"
         },
         "name": "Bayesian models",
         "offsetgroup": "Bayesian models",
         "orientation": "v",
         "showlegend": true,
         "textposition": "auto",
         "type": "bar",
         "x": [
          1969,
          1972,
          1973,
          1974,
          1976,
          1977,
          1978,
          1979,
          1980,
          1981,
          1982,
          1983,
          1984,
          1985,
          1986,
          1987,
          1988,
          1989,
          1990,
          1991,
          1992,
          1993,
          1994,
          1995,
          1996,
          1997,
          1998,
          1999,
          2000,
          2001,
          2002,
          2003,
          2004,
          2005,
          2006,
          2007,
          2008,
          2009,
          2010,
          2011,
          2012,
          2013,
          2014,
          2015,
          2016
         ],
         "xaxis": "x",
         "y": [
          0.0140730303483394,
          0.0594070595878307,
          0.027741908899869,
          0.0387748552273331,
          0.025872191851589333,
          0.04207475805701,
          0.03679310353733225,
          0.03618382023751425,
          0.03512010534011031,
          0.04926551328633378,
          0.057976412958682555,
          0.03574802167992206,
          0.05368553103008315,
          0.0495661784188466,
          0.02076617508652584,
          0.03744814023477221,
          0.04314060143102479,
          0.04087234752225017,
          0.04311553006718342,
          0.04621644976658937,
          0.05432673804108496,
          0.04745080812947397,
          0.044128241194967104,
          0.05084464668630282,
          0.05079648772405521,
          0.04509957638489939,
          0.04567411493576546,
          0.054678039443055604,
          0.05869727381249302,
          0.05205256933755716,
          0.057362047260527335,
          0.05372778759349982,
          0.053283619331716534,
          0.051432642822233365,
          0.05393680812514259,
          0.054105156566952466,
          0.045665862580164696,
          0.051175821283847185,
          0.05375013225171865,
          0.05394964858143147,
          0.0518739557308894,
          0.056612249287812194,
          0.056720301527206175,
          0.05042810921826303,
          0.046029349426333604
         ],
         "yaxis": "y"
        },
        {
         "alignmentgroup": "True",
         "hovertemplate": "gloss=French<br>label=%{x}<br>value=%{y}<extra></extra>",
         "legendgroup": "French",
         "marker": {
          "color": "#EF553B"
         },
         "name": "French",
         "offsetgroup": "French",
         "orientation": "v",
         "showlegend": true,
         "textposition": "auto",
         "type": "bar",
         "x": [
          1969,
          1972,
          1973,
          1974,
          1976,
          1977,
          1978,
          1979,
          1980,
          1981,
          1982,
          1983,
          1984,
          1985,
          1986,
          1987,
          1988,
          1989,
          1990,
          1991,
          1992,
          1993,
          1994,
          1995,
          1996,
          1997,
          1998,
          1999,
          2000,
          2001,
          2002,
          2003,
          2004,
          2005,
          2006,
          2007,
          2008,
          2009,
          2010,
          2011,
          2012,
          2013,
          2014,
          2015,
          2016
         ],
         "xaxis": "x",
         "y": [
          0,
          0,
          0,
          0,
          0,
          0,
          0,
          0,
          0,
          0,
          0,
          0,
          0,
          0,
          0.029421313629685357,
          0.11509911607749311,
          0.03347355289925739,
          0.03417633795977131,
          0,
          0.027900643542825978,
          0.020479359409181854,
          0,
          0.011795144770329476,
          0,
          0.019689445859254886,
          0.03929123074900257,
          0.007309585920479554,
          0.008942509074418382,
          0.011217303741386509,
          0.027489231970261478,
          0.018937864762076855,
          0.005630511770679102,
          0.006815783347924798,
          0.00640378656793428,
          0.007312798662996534,
          0.030185143965275534,
          0.029433006833090306,
          0.006686283884480871,
          0.005875554558755058,
          0,
          2.4011294960147057e-05,
          0.003464421790700612,
          0.003374991872579066,
          0,
          0.009255405454612137
         ],
         "yaxis": "y"
        },
        {
         "alignmentgroup": "True",
         "hovertemplate": "gloss=MCMC<br>label=%{x}<br>value=%{y}<extra></extra>",
         "legendgroup": "MCMC",
         "marker": {
          "color": "#00cc96"
         },
         "name": "MCMC",
         "offsetgroup": "MCMC",
         "orientation": "v",
         "showlegend": true,
         "textposition": "auto",
         "type": "bar",
         "x": [
          1969,
          1972,
          1973,
          1974,
          1976,
          1977,
          1978,
          1979,
          1980,
          1981,
          1982,
          1983,
          1984,
          1985,
          1986,
          1987,
          1988,
          1989,
          1990,
          1991,
          1992,
          1993,
          1994,
          1995,
          1996,
          1997,
          1998,
          1999,
          2000,
          2001,
          2002,
          2003,
          2004,
          2005,
          2006,
          2007,
          2008,
          2009,
          2010,
          2011,
          2012,
          2013,
          2014,
          2015,
          2016
         ],
         "xaxis": "x",
         "y": [
          0,
          0,
          0,
          0,
          0,
          0.000585519268307725,
          0,
          0.0048257170868196,
          0,
          0,
          0,
          0,
          0,
          0,
          0.00341737101017186,
          0.005666543273842556,
          0,
          0,
          0.0011200728402062374,
          0.00550209741853232,
          0.0026685132011313004,
          0.009228109336316561,
          0.006807887079151874,
          0.028138366396598658,
          0.008415597809142254,
          0.01979367195131869,
          0.031888758544292385,
          0.016589308648917625,
          0.02563634730904212,
          0.01185364198449293,
          0.021949072547348205,
          0.019462240076052663,
          0.022244920037153924,
          0.022782244028377058,
          0.014385536132965214,
          0.016496865724477606,
          0.017215324529935672,
          0.013544290107894933,
          0.00820143101238527,
          0.014242218318347342,
          0.01195826653281728,
          0.010790240786267445,
          0.00834550191078593,
          0.006943753646620449,
          0.007663999571112064
         ],
         "yaxis": "y"
        },
        {
         "alignmentgroup": "True",
         "hovertemplate": "gloss=priors<br>label=%{x}<br>value=%{y}<extra></extra>",
         "legendgroup": "priors",
         "marker": {
          "color": "#ab63fa"
         },
         "name": "priors",
         "offsetgroup": "priors",
         "orientation": "v",
         "showlegend": true,
         "textposition": "auto",
         "type": "bar",
         "x": [
          1969,
          1972,
          1973,
          1974,
          1976,
          1977,
          1978,
          1979,
          1980,
          1981,
          1982,
          1983,
          1984,
          1985,
          1986,
          1987,
          1988,
          1989,
          1990,
          1991,
          1992,
          1993,
          1994,
          1995,
          1996,
          1997,
          1998,
          1999,
          2000,
          2001,
          2002,
          2003,
          2004,
          2005,
          2006,
          2007,
          2008,
          2009,
          2010,
          2011,
          2012,
          2013,
          2014,
          2015,
          2016
         ],
         "xaxis": "x",
         "y": [
          0,
          0,
          0.0882973848812008,
          0.0037886468502679,
          0.06034026979705209,
          0.026707918813455453,
          0.07452123092859855,
          0.07879843719733318,
          0.0022952927959337334,
          0.03928618855633142,
          0.00268719771532575,
          0.0508371344600602,
          0.0002123403172397,
          0,
          0.01360470294971092,
          0.013062093847035612,
          0.026771612462976355,
          0.030286141252028356,
          0.03190438517909361,
          0.011980220557532607,
          0.014247837160802669,
          0.03260797899857486,
          0.02856449332377564,
          0.011513059867471715,
          0.02069684249315272,
          0.017177423740092897,
          0.034098153790517886,
          0.010854788509733357,
          0.0216196592658584,
          0.015206912994196508,
          0.015084378153407796,
          0.012870909376012913,
          0.004802232976317139,
          0.012571122888206731,
          0.009722011852531376,
          0.009223394306955846,
          0.013383279177703844,
          0.006685655352161796,
          0.005595912133210633,
          0.009654265715715624,
          0.010711480353445862,
          0.007634235301562601,
          0.009570522231739867,
          0.006465819390174535,
          0.0032554695333967616
         ],
         "yaxis": "y"
        },
        {
         "alignmentgroup": "True",
         "hovertemplate": "gloss=economics<br>label=%{x}<br>value=%{y}<extra></extra>",
         "legendgroup": "economics",
         "marker": {
          "color": "#FFA15A"
         },
         "name": "economics",
         "offsetgroup": "economics",
         "orientation": "v",
         "showlegend": true,
         "textposition": "auto",
         "type": "bar",
         "x": [
          1969,
          1972,
          1973,
          1974,
          1976,
          1977,
          1978,
          1979,
          1980,
          1981,
          1982,
          1983,
          1984,
          1985,
          1986,
          1987,
          1988,
          1989,
          1990,
          1991,
          1992,
          1993,
          1994,
          1995,
          1996,
          1997,
          1998,
          1999,
          2000,
          2001,
          2002,
          2003,
          2004,
          2005,
          2006,
          2007,
          2008,
          2009,
          2010,
          2011,
          2012,
          2013,
          2014,
          2015,
          2016
         ],
         "xaxis": "x",
         "y": [
          0,
          0,
          0,
          0,
          0,
          0,
          0,
          0,
          0,
          0,
          0,
          0.0010234445803589374,
          0,
          0,
          0.01573637618466886,
          0.019122076949199523,
          0,
          0,
          0.0009742187075654625,
          0.011422274721381893,
          0.0023985676216840618,
          0.00024270628828468888,
          3.6200242255834614e-05,
          0.00709792409377194,
          0.001525324104346353,
          0.0016994323800707792,
          0.006071027816743357,
          0.0025967749370619324,
          0.00014068178404122274,
          0.009215197628734427,
          0.0005691385718387553,
          0,
          0.0007398556172909283,
          0.007761375109993369,
          0.006562526286824248,
          0.004887384862342802,
          0.014127409776336242,
          0.014903934090708454,
          0.003665072619888766,
          0.0095915784940785,
          0.013301507260917935,
          0.012674894088753146,
          0.006236246426339947,
          0.0022688981784045508,
          0
         ],
         "yaxis": "y"
        },
        {
         "alignmentgroup": "True",
         "hovertemplate": "gloss=random effects<br>label=%{x}<br>value=%{y}<extra></extra>",
         "legendgroup": "random effects",
         "marker": {
          "color": "#19d3f3"
         },
         "name": "random effects",
         "offsetgroup": "random effects",
         "orientation": "v",
         "showlegend": true,
         "textposition": "auto",
         "type": "bar",
         "x": [
          1969,
          1972,
          1973,
          1974,
          1976,
          1977,
          1978,
          1979,
          1980,
          1981,
          1982,
          1983,
          1984,
          1985,
          1986,
          1987,
          1988,
          1989,
          1990,
          1991,
          1992,
          1993,
          1994,
          1995,
          1996,
          1997,
          1998,
          1999,
          2000,
          2001,
          2002,
          2003,
          2004,
          2005,
          2006,
          2007,
          2008,
          2009,
          2010,
          2011,
          2012,
          2013,
          2014,
          2015,
          2016
         ],
         "xaxis": "x",
         "y": [
          0,
          0,
          0,
          0,
          0,
          0,
          0,
          0.0050513750224828,
          0,
          0.00347724520858666,
          0,
          0.000550046352249475,
          0,
          0,
          0,
          0.004804847578181078,
          0.017924255381261286,
          0,
          0.0013933986142619626,
          0.019195492073974273,
          0.018021399531183046,
          5.7944417493605564e-05,
          0.00426749337488702,
          0.014088771341576461,
          0.0038929325294129262,
          0.013142900989729612,
          0.012075033915494544,
          0.008279043072600793,
          0.00943796393198411,
          0.009426610761377224,
          0.009577134153752944,
          0.013277944392319491,
          0.003665049130562714,
          0.007252113010635465,
          0.015369651497063498,
          0.007259946984083866,
          0.00913203255589079,
          0.005270737917642383,
          0.0032411528842538674,
          0.00941433791151279,
          0.0063067964735413614,
          0.006486604310600394,
          0.0036306273719876802,
          0.005746131948806644,
          5.219645642411177e-05
         ],
         "yaxis": "y"
        },
        {
         "alignmentgroup": "True",
         "hovertemplate": "gloss=variable selection<br>label=%{x}<br>value=%{y}<extra></extra>",
         "legendgroup": "variable selection",
         "marker": {
          "color": "#FF6692"
         },
         "name": "variable selection",
         "offsetgroup": "variable selection",
         "orientation": "v",
         "showlegend": true,
         "textposition": "auto",
         "type": "bar",
         "x": [
          1969,
          1972,
          1973,
          1974,
          1976,
          1977,
          1978,
          1979,
          1980,
          1981,
          1982,
          1983,
          1984,
          1985,
          1986,
          1987,
          1988,
          1989,
          1990,
          1991,
          1992,
          1993,
          1994,
          1995,
          1996,
          1997,
          1998,
          1999,
          2000,
          2001,
          2002,
          2003,
          2004,
          2005,
          2006,
          2007,
          2008,
          2009,
          2010,
          2011,
          2012,
          2013,
          2014,
          2015,
          2016
         ],
         "xaxis": "x",
         "y": [
          0,
          0.0052107908550319,
          0,
          0,
          0.0022034144472361334,
          0.000239967855496525,
          0.04441575308315353,
          0.01972607215618625,
          0,
          0,
          0,
          0.0025029800924480376,
          0,
          0.0026590668376931,
          0.00307055851339968,
          0,
          0.0016430909664495001,
          0,
          0,
          0.0006177363882141199,
          0.005308359888529823,
          0.0002949093243174445,
          0.002960723917772277,
          0.003081519783885513,
          0.0042036124766507525,
          0.007389887027878108,
          0.0011097043018261784,
          0.00180856779473535,
          0.006526762969015218,
          0.012081841093852378,
          0.002219356016434604,
          0.006409670561774089,
          0.0036305086281339946,
          0.015491885450529713,
          0.017593865356358696,
          0.008239920715782842,
          0.010165849419028794,
          0.0071282630360367995,
          0.00864848505671464,
          0.0048924743151441364,
          0.0085280166511281,
          0.010879557042652028,
          0.007993794851592066,
          0.007635711756259397,
          0.02081409438184237
         ],
         "yaxis": "y"
        },
        {
         "alignmentgroup": "True",
         "hovertemplate": "gloss=empirical Bayes<br>label=%{x}<br>value=%{y}<extra></extra>",
         "legendgroup": "empirical Bayes",
         "marker": {
          "color": "#B6E880"
         },
         "name": "empirical Bayes",
         "offsetgroup": "empirical Bayes",
         "orientation": "v",
         "showlegend": true,
         "textposition": "auto",
         "type": "bar",
         "x": [
          1969,
          1972,
          1973,
          1974,
          1976,
          1977,
          1978,
          1979,
          1980,
          1981,
          1982,
          1983,
          1984,
          1985,
          1986,
          1987,
          1988,
          1989,
          1990,
          1991,
          1992,
          1993,
          1994,
          1995,
          1996,
          1997,
          1998,
          1999,
          2000,
          2001,
          2002,
          2003,
          2004,
          2005,
          2006,
          2007,
          2008,
          2009,
          2010,
          2011,
          2012,
          2013,
          2014,
          2015,
          2016
         ],
         "xaxis": "x",
         "y": [
          0.2234193614279548,
          0,
          0.00835205755513205,
          0.019652277389923,
          0.0286969039866648,
          0,
          0.0007799825578013,
          0,
          0.030019824590677733,
          0.01024725607864256,
          0,
          0.007359285892496113,
          0,
          0.0239528082332438,
          0.05841292661175558,
          0.0015513992705500888,
          0.039529112040825175,
          0.0067921582124343145,
          0.026921629714289227,
          0.02707400851506114,
          0.030932352432565983,
          0.00600475549620005,
          0.004288389165804281,
          0.003930246837105306,
          0.016806683647471753,
          0.034914981338220547,
          0.009253215743145663,
          0.01007250198701468,
          0.008053734726082938,
          0.0016428191662694047,
          0.004963574617724528,
          0.00289053966657994,
          0.006433843152018506,
          0.007511240918436258,
          0.007604581048092302,
          0.0049904468947688544,
          0.0075683446261249196,
          0.005915594015313371,
          0.006055591573330039,
          0.004045690494828649,
          0.0032702601911574975,
          0.005224995041267269,
          0.004111697570349771,
          0.006210555121870866,
          0.006585351839159455
         ],
         "yaxis": "y"
        },
        {
         "alignmentgroup": "True",
         "hovertemplate": "gloss=env biology<br>label=%{x}<br>value=%{y}<extra></extra>",
         "legendgroup": "env biology",
         "marker": {
          "color": "#FF97FF"
         },
         "name": "env biology",
         "offsetgroup": "env biology",
         "orientation": "v",
         "showlegend": true,
         "textposition": "auto",
         "type": "bar",
         "x": [
          1969,
          1972,
          1973,
          1974,
          1976,
          1977,
          1978,
          1979,
          1980,
          1981,
          1982,
          1983,
          1984,
          1985,
          1986,
          1987,
          1988,
          1989,
          1990,
          1991,
          1992,
          1993,
          1994,
          1995,
          1996,
          1997,
          1998,
          1999,
          2000,
          2001,
          2002,
          2003,
          2004,
          2005,
          2006,
          2007,
          2008,
          2009,
          2010,
          2011,
          2012,
          2013,
          2014,
          2015,
          2016
         ],
         "xaxis": "x",
         "y": [
          0,
          0,
          0,
          0,
          0,
          0,
          0,
          0,
          0,
          0.00175251065136064,
          0,
          0.003725336045278725,
          0,
          0,
          0,
          0,
          0,
          0.0026501417575087575,
          0,
          0,
          0,
          0,
          0,
          0.00017272452108278,
          0.0021813134064488145,
          0.0006825665099010792,
          0,
          0.0018140620498359177,
          0.0016539966580642342,
          7.510642796547441e-05,
          0.008068268733834788,
          0.005350811709895934,
          0.0031059268982471383,
          0.003988799353916818,
          0.0008066063534948946,
          0.00849181679922997,
          0.007095778475019174,
          0.008386978142249446,
          0.004443719824441401,
          0.013951057894831746,
          0.013335142442279102,
          0.009884691712608107,
          0.008405635853320735,
          0.010902522778242076,
          0.042591711809117194
         ],
         "yaxis": "y"
        },
        {
         "alignmentgroup": "True",
         "hovertemplate": "gloss=genetics<br>label=%{x}<br>value=%{y}<extra></extra>",
         "legendgroup": "genetics",
         "marker": {
          "color": "#FECB52"
         },
         "name": "genetics",
         "offsetgroup": "genetics",
         "orientation": "v",
         "showlegend": true,
         "textposition": "auto",
         "type": "bar",
         "x": [
          1969,
          1972,
          1973,
          1974,
          1976,
          1977,
          1978,
          1979,
          1980,
          1981,
          1982,
          1983,
          1984,
          1985,
          1986,
          1987,
          1988,
          1989,
          1990,
          1991,
          1992,
          1993,
          1994,
          1995,
          1996,
          1997,
          1998,
          1999,
          2000,
          2001,
          2002,
          2003,
          2004,
          2005,
          2006,
          2007,
          2008,
          2009,
          2010,
          2011,
          2012,
          2013,
          2014,
          2015,
          2016
         ],
         "xaxis": "x",
         "y": [
          0,
          0,
          0,
          0,
          0,
          0,
          0,
          0,
          0,
          0,
          0,
          0,
          0,
          0,
          0,
          0,
          0,
          0,
          0,
          0,
          0.002437091180042254,
          0,
          0,
          0,
          0.0018080776858170559,
          0,
          0,
          0,
          0,
          0.0003830188412840442,
          0.011238319223814576,
          0.012142580583008189,
          0.006470224157660389,
          0.013836122499873895,
          0.014269154784975318,
          0.004078552218124483,
          0.004116168987613823,
          0.007197300659608593,
          0.005282133891019314,
          0.0049588714016390424,
          0.011279940135611042,
          0.004324903192489612,
          0.010448883874307261,
          0.009338259101124631,
          0.013397480976244642
         ],
         "yaxis": "y"
        }
       ],
       "layout": {
        "barmode": "relative",
        "legend": {
         "title": {
          "text": "gloss"
         },
         "tracegroupgap": 0
        },
        "margin": {
         "t": 60
        },
        "template": {
         "data": {
          "bar": [
           {
            "error_x": {
             "color": "#2a3f5f"
            },
            "error_y": {
             "color": "#2a3f5f"
            },
            "marker": {
             "line": {
              "color": "#E5ECF6",
              "width": 0.5
             }
            },
            "type": "bar"
           }
          ],
          "barpolar": [
           {
            "marker": {
             "line": {
              "color": "#E5ECF6",
              "width": 0.5
             }
            },
            "type": "barpolar"
           }
          ],
          "carpet": [
           {
            "aaxis": {
             "endlinecolor": "#2a3f5f",
             "gridcolor": "white",
             "linecolor": "white",
             "minorgridcolor": "white",
             "startlinecolor": "#2a3f5f"
            },
            "baxis": {
             "endlinecolor": "#2a3f5f",
             "gridcolor": "white",
             "linecolor": "white",
             "minorgridcolor": "white",
             "startlinecolor": "#2a3f5f"
            },
            "type": "carpet"
           }
          ],
          "choropleth": [
           {
            "colorbar": {
             "outlinewidth": 0,
             "ticks": ""
            },
            "type": "choropleth"
           }
          ],
          "contour": [
           {
            "colorbar": {
             "outlinewidth": 0,
             "ticks": ""
            },
            "colorscale": [
             [
              0,
              "#0d0887"
             ],
             [
              0.1111111111111111,
              "#46039f"
             ],
             [
              0.2222222222222222,
              "#7201a8"
             ],
             [
              0.3333333333333333,
              "#9c179e"
             ],
             [
              0.4444444444444444,
              "#bd3786"
             ],
             [
              0.5555555555555556,
              "#d8576b"
             ],
             [
              0.6666666666666666,
              "#ed7953"
             ],
             [
              0.7777777777777778,
              "#fb9f3a"
             ],
             [
              0.8888888888888888,
              "#fdca26"
             ],
             [
              1,
              "#f0f921"
             ]
            ],
            "type": "contour"
           }
          ],
          "contourcarpet": [
           {
            "colorbar": {
             "outlinewidth": 0,
             "ticks": ""
            },
            "type": "contourcarpet"
           }
          ],
          "heatmap": [
           {
            "colorbar": {
             "outlinewidth": 0,
             "ticks": ""
            },
            "colorscale": [
             [
              0,
              "#0d0887"
             ],
             [
              0.1111111111111111,
              "#46039f"
             ],
             [
              0.2222222222222222,
              "#7201a8"
             ],
             [
              0.3333333333333333,
              "#9c179e"
             ],
             [
              0.4444444444444444,
              "#bd3786"
             ],
             [
              0.5555555555555556,
              "#d8576b"
             ],
             [
              0.6666666666666666,
              "#ed7953"
             ],
             [
              0.7777777777777778,
              "#fb9f3a"
             ],
             [
              0.8888888888888888,
              "#fdca26"
             ],
             [
              1,
              "#f0f921"
             ]
            ],
            "type": "heatmap"
           }
          ],
          "heatmapgl": [
           {
            "colorbar": {
             "outlinewidth": 0,
             "ticks": ""
            },
            "colorscale": [
             [
              0,
              "#0d0887"
             ],
             [
              0.1111111111111111,
              "#46039f"
             ],
             [
              0.2222222222222222,
              "#7201a8"
             ],
             [
              0.3333333333333333,
              "#9c179e"
             ],
             [
              0.4444444444444444,
              "#bd3786"
             ],
             [
              0.5555555555555556,
              "#d8576b"
             ],
             [
              0.6666666666666666,
              "#ed7953"
             ],
             [
              0.7777777777777778,
              "#fb9f3a"
             ],
             [
              0.8888888888888888,
              "#fdca26"
             ],
             [
              1,
              "#f0f921"
             ]
            ],
            "type": "heatmapgl"
           }
          ],
          "histogram": [
           {
            "marker": {
             "colorbar": {
              "outlinewidth": 0,
              "ticks": ""
             }
            },
            "type": "histogram"
           }
          ],
          "histogram2d": [
           {
            "colorbar": {
             "outlinewidth": 0,
             "ticks": ""
            },
            "colorscale": [
             [
              0,
              "#0d0887"
             ],
             [
              0.1111111111111111,
              "#46039f"
             ],
             [
              0.2222222222222222,
              "#7201a8"
             ],
             [
              0.3333333333333333,
              "#9c179e"
             ],
             [
              0.4444444444444444,
              "#bd3786"
             ],
             [
              0.5555555555555556,
              "#d8576b"
             ],
             [
              0.6666666666666666,
              "#ed7953"
             ],
             [
              0.7777777777777778,
              "#fb9f3a"
             ],
             [
              0.8888888888888888,
              "#fdca26"
             ],
             [
              1,
              "#f0f921"
             ]
            ],
            "type": "histogram2d"
           }
          ],
          "histogram2dcontour": [
           {
            "colorbar": {
             "outlinewidth": 0,
             "ticks": ""
            },
            "colorscale": [
             [
              0,
              "#0d0887"
             ],
             [
              0.1111111111111111,
              "#46039f"
             ],
             [
              0.2222222222222222,
              "#7201a8"
             ],
             [
              0.3333333333333333,
              "#9c179e"
             ],
             [
              0.4444444444444444,
              "#bd3786"
             ],
             [
              0.5555555555555556,
              "#d8576b"
             ],
             [
              0.6666666666666666,
              "#ed7953"
             ],
             [
              0.7777777777777778,
              "#fb9f3a"
             ],
             [
              0.8888888888888888,
              "#fdca26"
             ],
             [
              1,
              "#f0f921"
             ]
            ],
            "type": "histogram2dcontour"
           }
          ],
          "mesh3d": [
           {
            "colorbar": {
             "outlinewidth": 0,
             "ticks": ""
            },
            "type": "mesh3d"
           }
          ],
          "parcoords": [
           {
            "line": {
             "colorbar": {
              "outlinewidth": 0,
              "ticks": ""
             }
            },
            "type": "parcoords"
           }
          ],
          "pie": [
           {
            "automargin": true,
            "type": "pie"
           }
          ],
          "scatter": [
           {
            "marker": {
             "colorbar": {
              "outlinewidth": 0,
              "ticks": ""
             }
            },
            "type": "scatter"
           }
          ],
          "scatter3d": [
           {
            "line": {
             "colorbar": {
              "outlinewidth": 0,
              "ticks": ""
             }
            },
            "marker": {
             "colorbar": {
              "outlinewidth": 0,
              "ticks": ""
             }
            },
            "type": "scatter3d"
           }
          ],
          "scattercarpet": [
           {
            "marker": {
             "colorbar": {
              "outlinewidth": 0,
              "ticks": ""
             }
            },
            "type": "scattercarpet"
           }
          ],
          "scattergeo": [
           {
            "marker": {
             "colorbar": {
              "outlinewidth": 0,
              "ticks": ""
             }
            },
            "type": "scattergeo"
           }
          ],
          "scattergl": [
           {
            "marker": {
             "colorbar": {
              "outlinewidth": 0,
              "ticks": ""
             }
            },
            "type": "scattergl"
           }
          ],
          "scattermapbox": [
           {
            "marker": {
             "colorbar": {
              "outlinewidth": 0,
              "ticks": ""
             }
            },
            "type": "scattermapbox"
           }
          ],
          "scatterpolar": [
           {
            "marker": {
             "colorbar": {
              "outlinewidth": 0,
              "ticks": ""
             }
            },
            "type": "scatterpolar"
           }
          ],
          "scatterpolargl": [
           {
            "marker": {
             "colorbar": {
              "outlinewidth": 0,
              "ticks": ""
             }
            },
            "type": "scatterpolargl"
           }
          ],
          "scatterternary": [
           {
            "marker": {
             "colorbar": {
              "outlinewidth": 0,
              "ticks": ""
             }
            },
            "type": "scatterternary"
           }
          ],
          "surface": [
           {
            "colorbar": {
             "outlinewidth": 0,
             "ticks": ""
            },
            "colorscale": [
             [
              0,
              "#0d0887"
             ],
             [
              0.1111111111111111,
              "#46039f"
             ],
             [
              0.2222222222222222,
              "#7201a8"
             ],
             [
              0.3333333333333333,
              "#9c179e"
             ],
             [
              0.4444444444444444,
              "#bd3786"
             ],
             [
              0.5555555555555556,
              "#d8576b"
             ],
             [
              0.6666666666666666,
              "#ed7953"
             ],
             [
              0.7777777777777778,
              "#fb9f3a"
             ],
             [
              0.8888888888888888,
              "#fdca26"
             ],
             [
              1,
              "#f0f921"
             ]
            ],
            "type": "surface"
           }
          ],
          "table": [
           {
            "cells": {
             "fill": {
              "color": "#EBF0F8"
             },
             "line": {
              "color": "white"
             }
            },
            "header": {
             "fill": {
              "color": "#C8D4E3"
             },
             "line": {
              "color": "white"
             }
            },
            "type": "table"
           }
          ]
         },
         "layout": {
          "annotationdefaults": {
           "arrowcolor": "#2a3f5f",
           "arrowhead": 0,
           "arrowwidth": 1
          },
          "autotypenumbers": "strict",
          "coloraxis": {
           "colorbar": {
            "outlinewidth": 0,
            "ticks": ""
           }
          },
          "colorscale": {
           "diverging": [
            [
             0,
             "#8e0152"
            ],
            [
             0.1,
             "#c51b7d"
            ],
            [
             0.2,
             "#de77ae"
            ],
            [
             0.3,
             "#f1b6da"
            ],
            [
             0.4,
             "#fde0ef"
            ],
            [
             0.5,
             "#f7f7f7"
            ],
            [
             0.6,
             "#e6f5d0"
            ],
            [
             0.7,
             "#b8e186"
            ],
            [
             0.8,
             "#7fbc41"
            ],
            [
             0.9,
             "#4d9221"
            ],
            [
             1,
             "#276419"
            ]
           ],
           "sequential": [
            [
             0,
             "#0d0887"
            ],
            [
             0.1111111111111111,
             "#46039f"
            ],
            [
             0.2222222222222222,
             "#7201a8"
            ],
            [
             0.3333333333333333,
             "#9c179e"
            ],
            [
             0.4444444444444444,
             "#bd3786"
            ],
            [
             0.5555555555555556,
             "#d8576b"
            ],
            [
             0.6666666666666666,
             "#ed7953"
            ],
            [
             0.7777777777777778,
             "#fb9f3a"
            ],
            [
             0.8888888888888888,
             "#fdca26"
            ],
            [
             1,
             "#f0f921"
            ]
           ],
           "sequentialminus": [
            [
             0,
             "#0d0887"
            ],
            [
             0.1111111111111111,
             "#46039f"
            ],
            [
             0.2222222222222222,
             "#7201a8"
            ],
            [
             0.3333333333333333,
             "#9c179e"
            ],
            [
             0.4444444444444444,
             "#bd3786"
            ],
            [
             0.5555555555555556,
             "#d8576b"
            ],
            [
             0.6666666666666666,
             "#ed7953"
            ],
            [
             0.7777777777777778,
             "#fb9f3a"
            ],
            [
             0.8888888888888888,
             "#fdca26"
            ],
            [
             1,
             "#f0f921"
            ]
           ]
          },
          "colorway": [
           "#636efa",
           "#EF553B",
           "#00cc96",
           "#ab63fa",
           "#FFA15A",
           "#19d3f3",
           "#FF6692",
           "#B6E880",
           "#FF97FF",
           "#FECB52"
          ],
          "font": {
           "color": "#2a3f5f"
          },
          "geo": {
           "bgcolor": "white",
           "lakecolor": "white",
           "landcolor": "#E5ECF6",
           "showlakes": true,
           "showland": true,
           "subunitcolor": "white"
          },
          "hoverlabel": {
           "align": "left"
          },
          "hovermode": "closest",
          "mapbox": {
           "style": "light"
          },
          "paper_bgcolor": "white",
          "plot_bgcolor": "#E5ECF6",
          "polar": {
           "angularaxis": {
            "gridcolor": "white",
            "linecolor": "white",
            "ticks": ""
           },
           "bgcolor": "#E5ECF6",
           "radialaxis": {
            "gridcolor": "white",
            "linecolor": "white",
            "ticks": ""
           }
          },
          "scene": {
           "xaxis": {
            "backgroundcolor": "#E5ECF6",
            "gridcolor": "white",
            "gridwidth": 2,
            "linecolor": "white",
            "showbackground": true,
            "ticks": "",
            "zerolinecolor": "white"
           },
           "yaxis": {
            "backgroundcolor": "#E5ECF6",
            "gridcolor": "white",
            "gridwidth": 2,
            "linecolor": "white",
            "showbackground": true,
            "ticks": "",
            "zerolinecolor": "white"
           },
           "zaxis": {
            "backgroundcolor": "#E5ECF6",
            "gridcolor": "white",
            "gridwidth": 2,
            "linecolor": "white",
            "showbackground": true,
            "ticks": "",
            "zerolinecolor": "white"
           }
          },
          "shapedefaults": {
           "line": {
            "color": "#2a3f5f"
           }
          },
          "ternary": {
           "aaxis": {
            "gridcolor": "white",
            "linecolor": "white",
            "ticks": ""
           },
           "baxis": {
            "gridcolor": "white",
            "linecolor": "white",
            "ticks": ""
           },
           "bgcolor": "#E5ECF6",
           "caxis": {
            "gridcolor": "white",
            "linecolor": "white",
            "ticks": ""
           }
          },
          "title": {
           "x": 0.05
          },
          "xaxis": {
           "automargin": true,
           "gridcolor": "white",
           "linecolor": "white",
           "ticks": "",
           "title": {
            "standoff": 15
           },
           "zerolinecolor": "white",
           "zerolinewidth": 2
          },
          "yaxis": {
           "automargin": true,
           "gridcolor": "white",
           "linecolor": "white",
           "ticks": "",
           "title": {
            "standoff": 15
           },
           "zerolinecolor": "white",
           "zerolinewidth": 2
          }
         }
        },
        "xaxis": {
         "anchor": "y",
         "domain": [
          0,
          1
         ],
         "title": {
          "text": "label"
         }
        },
        "yaxis": {
         "anchor": "x",
         "domain": [
          0,
          1
         ],
         "title": {
          "text": "value"
         }
        }
       }
      },
      "text/html": [
       "<div>                            <div id=\"5c86b13e-db74-4178-bf3a-4668f8abf282\" class=\"plotly-graph-div\" style=\"height:525px; width:100%;\"></div>            <script type=\"text/javascript\">                require([\"plotly\"], function(Plotly) {                    window.PLOTLYENV=window.PLOTLYENV || {};                                    if (document.getElementById(\"5c86b13e-db74-4178-bf3a-4668f8abf282\")) {                    Plotly.newPlot(                        \"5c86b13e-db74-4178-bf3a-4668f8abf282\",                        [{\"alignmentgroup\": \"True\", \"hovertemplate\": \"gloss=Bayesian models<br>label=%{x}<br>value=%{y}<extra></extra>\", \"legendgroup\": \"Bayesian models\", \"marker\": {\"color\": \"#636efa\"}, \"name\": \"Bayesian models\", \"offsetgroup\": \"Bayesian models\", \"orientation\": \"v\", \"showlegend\": true, \"textposition\": \"auto\", \"type\": \"bar\", \"x\": [1969, 1972, 1973, 1974, 1976, 1977, 1978, 1979, 1980, 1981, 1982, 1983, 1984, 1985, 1986, 1987, 1988, 1989, 1990, 1991, 1992, 1993, 1994, 1995, 1996, 1997, 1998, 1999, 2000, 2001, 2002, 2003, 2004, 2005, 2006, 2007, 2008, 2009, 2010, 2011, 2012, 2013, 2014, 2015, 2016], \"xaxis\": \"x\", \"y\": [0.0140730303483394, 0.0594070595878307, 0.027741908899869, 0.0387748552273331, 0.025872191851589333, 0.04207475805701, 0.03679310353733225, 0.03618382023751425, 0.03512010534011031, 0.04926551328633378, 0.057976412958682555, 0.03574802167992206, 0.05368553103008315, 0.0495661784188466, 0.02076617508652584, 0.03744814023477221, 0.04314060143102479, 0.04087234752225017, 0.04311553006718342, 0.04621644976658937, 0.05432673804108496, 0.04745080812947397, 0.044128241194967104, 0.05084464668630282, 0.05079648772405521, 0.04509957638489939, 0.04567411493576546, 0.054678039443055604, 0.05869727381249302, 0.05205256933755716, 0.057362047260527335, 0.05372778759349982, 0.053283619331716534, 0.051432642822233365, 0.05393680812514259, 0.054105156566952466, 0.045665862580164696, 0.051175821283847185, 0.05375013225171865, 0.05394964858143147, 0.0518739557308894, 0.056612249287812194, 0.056720301527206175, 0.05042810921826303, 0.046029349426333604], \"yaxis\": \"y\"}, {\"alignmentgroup\": \"True\", \"hovertemplate\": \"gloss=French<br>label=%{x}<br>value=%{y}<extra></extra>\", \"legendgroup\": \"French\", \"marker\": {\"color\": \"#EF553B\"}, \"name\": \"French\", \"offsetgroup\": \"French\", \"orientation\": \"v\", \"showlegend\": true, \"textposition\": \"auto\", \"type\": \"bar\", \"x\": [1969, 1972, 1973, 1974, 1976, 1977, 1978, 1979, 1980, 1981, 1982, 1983, 1984, 1985, 1986, 1987, 1988, 1989, 1990, 1991, 1992, 1993, 1994, 1995, 1996, 1997, 1998, 1999, 2000, 2001, 2002, 2003, 2004, 2005, 2006, 2007, 2008, 2009, 2010, 2011, 2012, 2013, 2014, 2015, 2016], \"xaxis\": \"x\", \"y\": [0.0, 0.0, 0.0, 0.0, 0.0, 0.0, 0.0, 0.0, 0.0, 0.0, 0.0, 0.0, 0.0, 0.0, 0.029421313629685357, 0.11509911607749311, 0.03347355289925739, 0.03417633795977131, 0.0, 0.027900643542825978, 0.020479359409181854, 0.0, 0.011795144770329476, 0.0, 0.019689445859254886, 0.03929123074900257, 0.007309585920479554, 0.008942509074418382, 0.011217303741386509, 0.027489231970261478, 0.018937864762076855, 0.005630511770679102, 0.006815783347924798, 0.00640378656793428, 0.007312798662996534, 0.030185143965275534, 0.029433006833090306, 0.006686283884480871, 0.005875554558755058, 0.0, 2.4011294960147057e-05, 0.003464421790700612, 0.003374991872579066, 0.0, 0.009255405454612137], \"yaxis\": \"y\"}, {\"alignmentgroup\": \"True\", \"hovertemplate\": \"gloss=MCMC<br>label=%{x}<br>value=%{y}<extra></extra>\", \"legendgroup\": \"MCMC\", \"marker\": {\"color\": \"#00cc96\"}, \"name\": \"MCMC\", \"offsetgroup\": \"MCMC\", \"orientation\": \"v\", \"showlegend\": true, \"textposition\": \"auto\", \"type\": \"bar\", \"x\": [1969, 1972, 1973, 1974, 1976, 1977, 1978, 1979, 1980, 1981, 1982, 1983, 1984, 1985, 1986, 1987, 1988, 1989, 1990, 1991, 1992, 1993, 1994, 1995, 1996, 1997, 1998, 1999, 2000, 2001, 2002, 2003, 2004, 2005, 2006, 2007, 2008, 2009, 2010, 2011, 2012, 2013, 2014, 2015, 2016], \"xaxis\": \"x\", \"y\": [0.0, 0.0, 0.0, 0.0, 0.0, 0.000585519268307725, 0.0, 0.0048257170868196, 0.0, 0.0, 0.0, 0.0, 0.0, 0.0, 0.00341737101017186, 0.005666543273842556, 0.0, 0.0, 0.0011200728402062374, 0.00550209741853232, 0.0026685132011313004, 0.009228109336316561, 0.006807887079151874, 0.028138366396598658, 0.008415597809142254, 0.01979367195131869, 0.031888758544292385, 0.016589308648917625, 0.02563634730904212, 0.01185364198449293, 0.021949072547348205, 0.019462240076052663, 0.022244920037153924, 0.022782244028377058, 0.014385536132965214, 0.016496865724477606, 0.017215324529935672, 0.013544290107894933, 0.00820143101238527, 0.014242218318347342, 0.01195826653281728, 0.010790240786267445, 0.00834550191078593, 0.006943753646620449, 0.007663999571112064], \"yaxis\": \"y\"}, {\"alignmentgroup\": \"True\", \"hovertemplate\": \"gloss=priors<br>label=%{x}<br>value=%{y}<extra></extra>\", \"legendgroup\": \"priors\", \"marker\": {\"color\": \"#ab63fa\"}, \"name\": \"priors\", \"offsetgroup\": \"priors\", \"orientation\": \"v\", \"showlegend\": true, \"textposition\": \"auto\", \"type\": \"bar\", \"x\": [1969, 1972, 1973, 1974, 1976, 1977, 1978, 1979, 1980, 1981, 1982, 1983, 1984, 1985, 1986, 1987, 1988, 1989, 1990, 1991, 1992, 1993, 1994, 1995, 1996, 1997, 1998, 1999, 2000, 2001, 2002, 2003, 2004, 2005, 2006, 2007, 2008, 2009, 2010, 2011, 2012, 2013, 2014, 2015, 2016], \"xaxis\": \"x\", \"y\": [0.0, 0.0, 0.0882973848812008, 0.0037886468502679, 0.06034026979705209, 0.026707918813455453, 0.07452123092859855, 0.07879843719733318, 0.0022952927959337334, 0.03928618855633142, 0.00268719771532575, 0.0508371344600602, 0.0002123403172397, 0.0, 0.01360470294971092, 0.013062093847035612, 0.026771612462976355, 0.030286141252028356, 0.03190438517909361, 0.011980220557532607, 0.014247837160802669, 0.03260797899857486, 0.02856449332377564, 0.011513059867471715, 0.02069684249315272, 0.017177423740092897, 0.034098153790517886, 0.010854788509733357, 0.0216196592658584, 0.015206912994196508, 0.015084378153407796, 0.012870909376012913, 0.004802232976317139, 0.012571122888206731, 0.009722011852531376, 0.009223394306955846, 0.013383279177703844, 0.006685655352161796, 0.005595912133210633, 0.009654265715715624, 0.010711480353445862, 0.007634235301562601, 0.009570522231739867, 0.006465819390174535, 0.0032554695333967616], \"yaxis\": \"y\"}, {\"alignmentgroup\": \"True\", \"hovertemplate\": \"gloss=economics<br>label=%{x}<br>value=%{y}<extra></extra>\", \"legendgroup\": \"economics\", \"marker\": {\"color\": \"#FFA15A\"}, \"name\": \"economics\", \"offsetgroup\": \"economics\", \"orientation\": \"v\", \"showlegend\": true, \"textposition\": \"auto\", \"type\": \"bar\", \"x\": [1969, 1972, 1973, 1974, 1976, 1977, 1978, 1979, 1980, 1981, 1982, 1983, 1984, 1985, 1986, 1987, 1988, 1989, 1990, 1991, 1992, 1993, 1994, 1995, 1996, 1997, 1998, 1999, 2000, 2001, 2002, 2003, 2004, 2005, 2006, 2007, 2008, 2009, 2010, 2011, 2012, 2013, 2014, 2015, 2016], \"xaxis\": \"x\", \"y\": [0.0, 0.0, 0.0, 0.0, 0.0, 0.0, 0.0, 0.0, 0.0, 0.0, 0.0, 0.0010234445803589374, 0.0, 0.0, 0.01573637618466886, 0.019122076949199523, 0.0, 0.0, 0.0009742187075654625, 0.011422274721381893, 0.0023985676216840618, 0.00024270628828468888, 3.6200242255834614e-05, 0.00709792409377194, 0.001525324104346353, 0.0016994323800707792, 0.006071027816743357, 0.0025967749370619324, 0.00014068178404122274, 0.009215197628734427, 0.0005691385718387553, 0.0, 0.0007398556172909283, 0.007761375109993369, 0.006562526286824248, 0.004887384862342802, 0.014127409776336242, 0.014903934090708454, 0.003665072619888766, 0.0095915784940785, 0.013301507260917935, 0.012674894088753146, 0.006236246426339947, 0.0022688981784045508, 0.0], \"yaxis\": \"y\"}, {\"alignmentgroup\": \"True\", \"hovertemplate\": \"gloss=random effects<br>label=%{x}<br>value=%{y}<extra></extra>\", \"legendgroup\": \"random effects\", \"marker\": {\"color\": \"#19d3f3\"}, \"name\": \"random effects\", \"offsetgroup\": \"random effects\", \"orientation\": \"v\", \"showlegend\": true, \"textposition\": \"auto\", \"type\": \"bar\", \"x\": [1969, 1972, 1973, 1974, 1976, 1977, 1978, 1979, 1980, 1981, 1982, 1983, 1984, 1985, 1986, 1987, 1988, 1989, 1990, 1991, 1992, 1993, 1994, 1995, 1996, 1997, 1998, 1999, 2000, 2001, 2002, 2003, 2004, 2005, 2006, 2007, 2008, 2009, 2010, 2011, 2012, 2013, 2014, 2015, 2016], \"xaxis\": \"x\", \"y\": [0.0, 0.0, 0.0, 0.0, 0.0, 0.0, 0.0, 0.0050513750224828, 0.0, 0.00347724520858666, 0.0, 0.000550046352249475, 0.0, 0.0, 0.0, 0.004804847578181078, 0.017924255381261286, 0.0, 0.0013933986142619626, 0.019195492073974273, 0.018021399531183046, 5.7944417493605564e-05, 0.00426749337488702, 0.014088771341576461, 0.0038929325294129262, 0.013142900989729612, 0.012075033915494544, 0.008279043072600793, 0.00943796393198411, 0.009426610761377224, 0.009577134153752944, 0.013277944392319491, 0.003665049130562714, 0.007252113010635465, 0.015369651497063498, 0.007259946984083866, 0.00913203255589079, 0.005270737917642383, 0.0032411528842538674, 0.00941433791151279, 0.0063067964735413614, 0.006486604310600394, 0.0036306273719876802, 0.005746131948806644, 5.219645642411177e-05], \"yaxis\": \"y\"}, {\"alignmentgroup\": \"True\", \"hovertemplate\": \"gloss=variable selection<br>label=%{x}<br>value=%{y}<extra></extra>\", \"legendgroup\": \"variable selection\", \"marker\": {\"color\": \"#FF6692\"}, \"name\": \"variable selection\", \"offsetgroup\": \"variable selection\", \"orientation\": \"v\", \"showlegend\": true, \"textposition\": \"auto\", \"type\": \"bar\", \"x\": [1969, 1972, 1973, 1974, 1976, 1977, 1978, 1979, 1980, 1981, 1982, 1983, 1984, 1985, 1986, 1987, 1988, 1989, 1990, 1991, 1992, 1993, 1994, 1995, 1996, 1997, 1998, 1999, 2000, 2001, 2002, 2003, 2004, 2005, 2006, 2007, 2008, 2009, 2010, 2011, 2012, 2013, 2014, 2015, 2016], \"xaxis\": \"x\", \"y\": [0.0, 0.0052107908550319, 0.0, 0.0, 0.0022034144472361334, 0.000239967855496525, 0.04441575308315353, 0.01972607215618625, 0.0, 0.0, 0.0, 0.0025029800924480376, 0.0, 0.0026590668376931, 0.00307055851339968, 0.0, 0.0016430909664495001, 0.0, 0.0, 0.0006177363882141199, 0.005308359888529823, 0.0002949093243174445, 0.002960723917772277, 0.003081519783885513, 0.0042036124766507525, 0.007389887027878108, 0.0011097043018261784, 0.00180856779473535, 0.006526762969015218, 0.012081841093852378, 0.002219356016434604, 0.006409670561774089, 0.0036305086281339946, 0.015491885450529713, 0.017593865356358696, 0.008239920715782842, 0.010165849419028794, 0.0071282630360367995, 0.00864848505671464, 0.0048924743151441364, 0.0085280166511281, 0.010879557042652028, 0.007993794851592066, 0.007635711756259397, 0.02081409438184237], \"yaxis\": \"y\"}, {\"alignmentgroup\": \"True\", \"hovertemplate\": \"gloss=empirical Bayes<br>label=%{x}<br>value=%{y}<extra></extra>\", \"legendgroup\": \"empirical Bayes\", \"marker\": {\"color\": \"#B6E880\"}, \"name\": \"empirical Bayes\", \"offsetgroup\": \"empirical Bayes\", \"orientation\": \"v\", \"showlegend\": true, \"textposition\": \"auto\", \"type\": \"bar\", \"x\": [1969, 1972, 1973, 1974, 1976, 1977, 1978, 1979, 1980, 1981, 1982, 1983, 1984, 1985, 1986, 1987, 1988, 1989, 1990, 1991, 1992, 1993, 1994, 1995, 1996, 1997, 1998, 1999, 2000, 2001, 2002, 2003, 2004, 2005, 2006, 2007, 2008, 2009, 2010, 2011, 2012, 2013, 2014, 2015, 2016], \"xaxis\": \"x\", \"y\": [0.2234193614279548, 0.0, 0.00835205755513205, 0.019652277389923, 0.0286969039866648, 0.0, 0.0007799825578013, 0.0, 0.030019824590677733, 0.01024725607864256, 0.0, 0.007359285892496113, 0.0, 0.0239528082332438, 0.05841292661175558, 0.0015513992705500888, 0.039529112040825175, 0.0067921582124343145, 0.026921629714289227, 0.02707400851506114, 0.030932352432565983, 0.00600475549620005, 0.004288389165804281, 0.003930246837105306, 0.016806683647471753, 0.034914981338220547, 0.009253215743145663, 0.01007250198701468, 0.008053734726082938, 0.0016428191662694047, 0.004963574617724528, 0.00289053966657994, 0.006433843152018506, 0.007511240918436258, 0.007604581048092302, 0.0049904468947688544, 0.0075683446261249196, 0.005915594015313371, 0.006055591573330039, 0.004045690494828649, 0.0032702601911574975, 0.005224995041267269, 0.004111697570349771, 0.006210555121870866, 0.006585351839159455], \"yaxis\": \"y\"}, {\"alignmentgroup\": \"True\", \"hovertemplate\": \"gloss=env biology<br>label=%{x}<br>value=%{y}<extra></extra>\", \"legendgroup\": \"env biology\", \"marker\": {\"color\": \"#FF97FF\"}, \"name\": \"env biology\", \"offsetgroup\": \"env biology\", \"orientation\": \"v\", \"showlegend\": true, \"textposition\": \"auto\", \"type\": \"bar\", \"x\": [1969, 1972, 1973, 1974, 1976, 1977, 1978, 1979, 1980, 1981, 1982, 1983, 1984, 1985, 1986, 1987, 1988, 1989, 1990, 1991, 1992, 1993, 1994, 1995, 1996, 1997, 1998, 1999, 2000, 2001, 2002, 2003, 2004, 2005, 2006, 2007, 2008, 2009, 2010, 2011, 2012, 2013, 2014, 2015, 2016], \"xaxis\": \"x\", \"y\": [0.0, 0.0, 0.0, 0.0, 0.0, 0.0, 0.0, 0.0, 0.0, 0.00175251065136064, 0.0, 0.003725336045278725, 0.0, 0.0, 0.0, 0.0, 0.0, 0.0026501417575087575, 0.0, 0.0, 0.0, 0.0, 0.0, 0.00017272452108278, 0.0021813134064488145, 0.0006825665099010792, 0.0, 0.0018140620498359177, 0.0016539966580642342, 7.510642796547441e-05, 0.008068268733834788, 0.005350811709895934, 0.0031059268982471383, 0.003988799353916818, 0.0008066063534948946, 0.00849181679922997, 0.007095778475019174, 0.008386978142249446, 0.004443719824441401, 0.013951057894831746, 0.013335142442279102, 0.009884691712608107, 0.008405635853320735, 0.010902522778242076, 0.042591711809117194], \"yaxis\": \"y\"}, {\"alignmentgroup\": \"True\", \"hovertemplate\": \"gloss=genetics<br>label=%{x}<br>value=%{y}<extra></extra>\", \"legendgroup\": \"genetics\", \"marker\": {\"color\": \"#FECB52\"}, \"name\": \"genetics\", \"offsetgroup\": \"genetics\", \"orientation\": \"v\", \"showlegend\": true, \"textposition\": \"auto\", \"type\": \"bar\", \"x\": [1969, 1972, 1973, 1974, 1976, 1977, 1978, 1979, 1980, 1981, 1982, 1983, 1984, 1985, 1986, 1987, 1988, 1989, 1990, 1991, 1992, 1993, 1994, 1995, 1996, 1997, 1998, 1999, 2000, 2001, 2002, 2003, 2004, 2005, 2006, 2007, 2008, 2009, 2010, 2011, 2012, 2013, 2014, 2015, 2016], \"xaxis\": \"x\", \"y\": [0.0, 0.0, 0.0, 0.0, 0.0, 0.0, 0.0, 0.0, 0.0, 0.0, 0.0, 0.0, 0.0, 0.0, 0.0, 0.0, 0.0, 0.0, 0.0, 0.0, 0.002437091180042254, 0.0, 0.0, 0.0, 0.0018080776858170559, 0.0, 0.0, 0.0, 0.0, 0.0003830188412840442, 0.011238319223814576, 0.012142580583008189, 0.006470224157660389, 0.013836122499873895, 0.014269154784975318, 0.004078552218124483, 0.004116168987613823, 0.007197300659608593, 0.005282133891019314, 0.0049588714016390424, 0.011279940135611042, 0.004324903192489612, 0.010448883874307261, 0.009338259101124631, 0.013397480976244642], \"yaxis\": \"y\"}],                        {\"barmode\": \"relative\", \"legend\": {\"title\": {\"text\": \"gloss\"}, \"tracegroupgap\": 0}, \"margin\": {\"t\": 60}, \"template\": {\"data\": {\"bar\": [{\"error_x\": {\"color\": \"#2a3f5f\"}, \"error_y\": {\"color\": \"#2a3f5f\"}, \"marker\": {\"line\": {\"color\": \"#E5ECF6\", \"width\": 0.5}}, \"type\": \"bar\"}], \"barpolar\": [{\"marker\": {\"line\": {\"color\": \"#E5ECF6\", \"width\": 0.5}}, \"type\": \"barpolar\"}], \"carpet\": [{\"aaxis\": {\"endlinecolor\": \"#2a3f5f\", \"gridcolor\": \"white\", \"linecolor\": \"white\", \"minorgridcolor\": \"white\", \"startlinecolor\": \"#2a3f5f\"}, \"baxis\": {\"endlinecolor\": \"#2a3f5f\", \"gridcolor\": \"white\", \"linecolor\": \"white\", \"minorgridcolor\": \"white\", \"startlinecolor\": \"#2a3f5f\"}, \"type\": \"carpet\"}], \"choropleth\": [{\"colorbar\": {\"outlinewidth\": 0, \"ticks\": \"\"}, \"type\": \"choropleth\"}], \"contour\": [{\"colorbar\": {\"outlinewidth\": 0, \"ticks\": \"\"}, \"colorscale\": [[0.0, \"#0d0887\"], [0.1111111111111111, \"#46039f\"], [0.2222222222222222, \"#7201a8\"], [0.3333333333333333, \"#9c179e\"], [0.4444444444444444, \"#bd3786\"], [0.5555555555555556, \"#d8576b\"], [0.6666666666666666, \"#ed7953\"], [0.7777777777777778, \"#fb9f3a\"], [0.8888888888888888, \"#fdca26\"], [1.0, \"#f0f921\"]], \"type\": \"contour\"}], \"contourcarpet\": [{\"colorbar\": {\"outlinewidth\": 0, \"ticks\": \"\"}, \"type\": \"contourcarpet\"}], \"heatmap\": [{\"colorbar\": {\"outlinewidth\": 0, \"ticks\": \"\"}, \"colorscale\": [[0.0, \"#0d0887\"], [0.1111111111111111, \"#46039f\"], [0.2222222222222222, \"#7201a8\"], [0.3333333333333333, \"#9c179e\"], [0.4444444444444444, \"#bd3786\"], [0.5555555555555556, \"#d8576b\"], [0.6666666666666666, \"#ed7953\"], [0.7777777777777778, \"#fb9f3a\"], [0.8888888888888888, \"#fdca26\"], [1.0, \"#f0f921\"]], \"type\": \"heatmap\"}], \"heatmapgl\": [{\"colorbar\": {\"outlinewidth\": 0, \"ticks\": \"\"}, \"colorscale\": [[0.0, \"#0d0887\"], [0.1111111111111111, \"#46039f\"], [0.2222222222222222, \"#7201a8\"], [0.3333333333333333, \"#9c179e\"], [0.4444444444444444, \"#bd3786\"], [0.5555555555555556, \"#d8576b\"], [0.6666666666666666, \"#ed7953\"], [0.7777777777777778, \"#fb9f3a\"], [0.8888888888888888, \"#fdca26\"], [1.0, \"#f0f921\"]], \"type\": \"heatmapgl\"}], \"histogram\": [{\"marker\": {\"colorbar\": {\"outlinewidth\": 0, \"ticks\": \"\"}}, \"type\": \"histogram\"}], \"histogram2d\": [{\"colorbar\": {\"outlinewidth\": 0, \"ticks\": \"\"}, \"colorscale\": [[0.0, \"#0d0887\"], [0.1111111111111111, \"#46039f\"], [0.2222222222222222, \"#7201a8\"], [0.3333333333333333, \"#9c179e\"], [0.4444444444444444, \"#bd3786\"], [0.5555555555555556, \"#d8576b\"], [0.6666666666666666, \"#ed7953\"], [0.7777777777777778, \"#fb9f3a\"], [0.8888888888888888, \"#fdca26\"], [1.0, \"#f0f921\"]], \"type\": \"histogram2d\"}], \"histogram2dcontour\": [{\"colorbar\": {\"outlinewidth\": 0, \"ticks\": \"\"}, \"colorscale\": [[0.0, \"#0d0887\"], [0.1111111111111111, \"#46039f\"], [0.2222222222222222, \"#7201a8\"], [0.3333333333333333, \"#9c179e\"], [0.4444444444444444, \"#bd3786\"], [0.5555555555555556, \"#d8576b\"], [0.6666666666666666, \"#ed7953\"], [0.7777777777777778, \"#fb9f3a\"], [0.8888888888888888, \"#fdca26\"], [1.0, \"#f0f921\"]], \"type\": \"histogram2dcontour\"}], \"mesh3d\": [{\"colorbar\": {\"outlinewidth\": 0, \"ticks\": \"\"}, \"type\": \"mesh3d\"}], \"parcoords\": [{\"line\": {\"colorbar\": {\"outlinewidth\": 0, \"ticks\": \"\"}}, \"type\": \"parcoords\"}], \"pie\": [{\"automargin\": true, \"type\": \"pie\"}], \"scatter\": [{\"marker\": {\"colorbar\": {\"outlinewidth\": 0, \"ticks\": \"\"}}, \"type\": \"scatter\"}], \"scatter3d\": [{\"line\": {\"colorbar\": {\"outlinewidth\": 0, \"ticks\": \"\"}}, \"marker\": {\"colorbar\": {\"outlinewidth\": 0, \"ticks\": \"\"}}, \"type\": \"scatter3d\"}], \"scattercarpet\": [{\"marker\": {\"colorbar\": {\"outlinewidth\": 0, \"ticks\": \"\"}}, \"type\": \"scattercarpet\"}], \"scattergeo\": [{\"marker\": {\"colorbar\": {\"outlinewidth\": 0, \"ticks\": \"\"}}, \"type\": \"scattergeo\"}], \"scattergl\": [{\"marker\": {\"colorbar\": {\"outlinewidth\": 0, \"ticks\": \"\"}}, \"type\": \"scattergl\"}], \"scattermapbox\": [{\"marker\": {\"colorbar\": {\"outlinewidth\": 0, \"ticks\": \"\"}}, \"type\": \"scattermapbox\"}], \"scatterpolar\": [{\"marker\": {\"colorbar\": {\"outlinewidth\": 0, \"ticks\": \"\"}}, \"type\": \"scatterpolar\"}], \"scatterpolargl\": [{\"marker\": {\"colorbar\": {\"outlinewidth\": 0, \"ticks\": \"\"}}, \"type\": \"scatterpolargl\"}], \"scatterternary\": [{\"marker\": {\"colorbar\": {\"outlinewidth\": 0, \"ticks\": \"\"}}, \"type\": \"scatterternary\"}], \"surface\": [{\"colorbar\": {\"outlinewidth\": 0, \"ticks\": \"\"}, \"colorscale\": [[0.0, \"#0d0887\"], [0.1111111111111111, \"#46039f\"], [0.2222222222222222, \"#7201a8\"], [0.3333333333333333, \"#9c179e\"], [0.4444444444444444, \"#bd3786\"], [0.5555555555555556, \"#d8576b\"], [0.6666666666666666, \"#ed7953\"], [0.7777777777777778, \"#fb9f3a\"], [0.8888888888888888, \"#fdca26\"], [1.0, \"#f0f921\"]], \"type\": \"surface\"}], \"table\": [{\"cells\": {\"fill\": {\"color\": \"#EBF0F8\"}, \"line\": {\"color\": \"white\"}}, \"header\": {\"fill\": {\"color\": \"#C8D4E3\"}, \"line\": {\"color\": \"white\"}}, \"type\": \"table\"}]}, \"layout\": {\"annotationdefaults\": {\"arrowcolor\": \"#2a3f5f\", \"arrowhead\": 0, \"arrowwidth\": 1}, \"autotypenumbers\": \"strict\", \"coloraxis\": {\"colorbar\": {\"outlinewidth\": 0, \"ticks\": \"\"}}, \"colorscale\": {\"diverging\": [[0, \"#8e0152\"], [0.1, \"#c51b7d\"], [0.2, \"#de77ae\"], [0.3, \"#f1b6da\"], [0.4, \"#fde0ef\"], [0.5, \"#f7f7f7\"], [0.6, \"#e6f5d0\"], [0.7, \"#b8e186\"], [0.8, \"#7fbc41\"], [0.9, \"#4d9221\"], [1, \"#276419\"]], \"sequential\": [[0.0, \"#0d0887\"], [0.1111111111111111, \"#46039f\"], [0.2222222222222222, \"#7201a8\"], [0.3333333333333333, \"#9c179e\"], [0.4444444444444444, \"#bd3786\"], [0.5555555555555556, \"#d8576b\"], [0.6666666666666666, \"#ed7953\"], [0.7777777777777778, \"#fb9f3a\"], [0.8888888888888888, \"#fdca26\"], [1.0, \"#f0f921\"]], \"sequentialminus\": [[0.0, \"#0d0887\"], [0.1111111111111111, \"#46039f\"], [0.2222222222222222, \"#7201a8\"], [0.3333333333333333, \"#9c179e\"], [0.4444444444444444, \"#bd3786\"], [0.5555555555555556, \"#d8576b\"], [0.6666666666666666, \"#ed7953\"], [0.7777777777777778, \"#fb9f3a\"], [0.8888888888888888, \"#fdca26\"], [1.0, \"#f0f921\"]]}, \"colorway\": [\"#636efa\", \"#EF553B\", \"#00cc96\", \"#ab63fa\", \"#FFA15A\", \"#19d3f3\", \"#FF6692\", \"#B6E880\", \"#FF97FF\", \"#FECB52\"], \"font\": {\"color\": \"#2a3f5f\"}, \"geo\": {\"bgcolor\": \"white\", \"lakecolor\": \"white\", \"landcolor\": \"#E5ECF6\", \"showlakes\": true, \"showland\": true, \"subunitcolor\": \"white\"}, \"hoverlabel\": {\"align\": \"left\"}, \"hovermode\": \"closest\", \"mapbox\": {\"style\": \"light\"}, \"paper_bgcolor\": \"white\", \"plot_bgcolor\": \"#E5ECF6\", \"polar\": {\"angularaxis\": {\"gridcolor\": \"white\", \"linecolor\": \"white\", \"ticks\": \"\"}, \"bgcolor\": \"#E5ECF6\", \"radialaxis\": {\"gridcolor\": \"white\", \"linecolor\": \"white\", \"ticks\": \"\"}}, \"scene\": {\"xaxis\": {\"backgroundcolor\": \"#E5ECF6\", \"gridcolor\": \"white\", \"gridwidth\": 2, \"linecolor\": \"white\", \"showbackground\": true, \"ticks\": \"\", \"zerolinecolor\": \"white\"}, \"yaxis\": {\"backgroundcolor\": \"#E5ECF6\", \"gridcolor\": \"white\", \"gridwidth\": 2, \"linecolor\": \"white\", \"showbackground\": true, \"ticks\": \"\", \"zerolinecolor\": \"white\"}, \"zaxis\": {\"backgroundcolor\": \"#E5ECF6\", \"gridcolor\": \"white\", \"gridwidth\": 2, \"linecolor\": \"white\", \"showbackground\": true, \"ticks\": \"\", \"zerolinecolor\": \"white\"}}, \"shapedefaults\": {\"line\": {\"color\": \"#2a3f5f\"}}, \"ternary\": {\"aaxis\": {\"gridcolor\": \"white\", \"linecolor\": \"white\", \"ticks\": \"\"}, \"baxis\": {\"gridcolor\": \"white\", \"linecolor\": \"white\", \"ticks\": \"\"}, \"bgcolor\": \"#E5ECF6\", \"caxis\": {\"gridcolor\": \"white\", \"linecolor\": \"white\", \"ticks\": \"\"}}, \"title\": {\"x\": 0.05}, \"xaxis\": {\"automargin\": true, \"gridcolor\": \"white\", \"linecolor\": \"white\", \"ticks\": \"\", \"title\": {\"standoff\": 15}, \"zerolinecolor\": \"white\", \"zerolinewidth\": 2}, \"yaxis\": {\"automargin\": true, \"gridcolor\": \"white\", \"linecolor\": \"white\", \"ticks\": \"\", \"title\": {\"standoff\": 15}, \"zerolinecolor\": \"white\", \"zerolinewidth\": 2}}}, \"xaxis\": {\"anchor\": \"y\", \"domain\": [0.0, 1.0], \"title\": {\"text\": \"label\"}}, \"yaxis\": {\"anchor\": \"x\", \"domain\": [0.0, 1.0], \"title\": {\"text\": \"value\"}}},                        {\"responsive\": true}                    ).then(function(){\n",
       "                            \n",
       "var gd = document.getElementById('5c86b13e-db74-4178-bf3a-4668f8abf282');\n",
       "var x = new MutationObserver(function (mutations, observer) {{\n",
       "        var display = window.getComputedStyle(gd).display;\n",
       "        if (!display || display === 'none') {{\n",
       "            console.log([gd, 'removed!']);\n",
       "            Plotly.purge(gd);\n",
       "            observer.disconnect();\n",
       "        }}\n",
       "}});\n",
       "\n",
       "// Listen for the removal of the full notebook cells\n",
       "var notebookContainer = gd.closest('#notebook-container');\n",
       "if (notebookContainer) {{\n",
       "    x.observe(notebookContainer, {childList: true});\n",
       "}}\n",
       "\n",
       "// Listen for the clearing of the current output cell\n",
       "var outputEl = gd.closest('.output');\n",
       "if (outputEl) {{\n",
       "    x.observe(outputEl, {childList: true});\n",
       "}}\n",
       "\n",
       "                        })                };                });            </script>        </div>"
      ]
     },
     "metadata": {},
     "output_type": "display_data"
    }
   ],
   "source": [
    "px.bar(TRENDS)"
   ]
  },
  {
   "cell_type": "code",
   "execution_count": null,
   "metadata": {},
   "outputs": [],
   "source": []
  }
 ],
 "metadata": {
  "kernelspec": {
   "display_name": "Python 3",
   "language": "python",
   "name": "python3"
  },
  "language_info": {
   "codemirror_mode": {
    "name": "ipython",
    "version": 3
   },
   "file_extension": ".py",
   "mimetype": "text/x-python",
   "name": "python",
   "nbconvert_exporter": "python",
   "pygments_lexer": "ipython3",
   "version": "3.8.8"
  },
  "latex_envs": {
   "LaTeX_envs_menu_present": true,
   "autoclose": false,
   "autocomplete": true,
   "bibliofile": "biblio.bib",
   "cite_by": "apalike",
   "current_citInitial": 1,
   "eqLabelWithNumbers": true,
   "eqNumInitial": 1,
   "hotkeys": {
    "equation": "Ctrl-E",
    "itemize": "Ctrl-I"
   },
   "labels_anchors": false,
   "latex_user_defs": false,
   "report_style_numbering": false,
   "user_envs_cfg": false
  },
  "toc": {
   "base_numbering": 1,
   "nav_menu": {},
   "number_sections": true,
   "sideBar": true,
   "skip_h1_title": false,
   "title_cell": "Table of Contents",
   "title_sidebar": "Contents",
   "toc_cell": false,
   "toc_position": {},
   "toc_section_display": true,
   "toc_window_display": false
  },
  "varInspector": {
   "cols": {
    "lenName": 16,
    "lenType": 16,
    "lenVar": 40
   },
   "kernels_config": {
    "python": {
     "delete_cmd_postfix": "",
     "delete_cmd_prefix": "del ",
     "library": "var_list.py",
     "varRefreshCmd": "print(var_dic_list())"
    },
    "r": {
     "delete_cmd_postfix": ") ",
     "delete_cmd_prefix": "rm(",
     "library": "var_list.r",
     "varRefreshCmd": "cat(var_dic_list()) "
    }
   },
   "types_to_exclude": [
    "module",
    "function",
    "builtin_function_or_method",
    "instance",
    "_Feature"
   ],
   "window_display": false
  },
  "widgets": {
   "application/vnd.jupyter.widget-state+json": {
    "state": {},
    "version_major": 2,
    "version_minor": 0
   }
  }
 },
 "nbformat": 4,
 "nbformat_minor": 4
}
