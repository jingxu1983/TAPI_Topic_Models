{
 "cells": [
  {
   "cell_type": "markdown",
   "id": "e5882249-7cc3-443d-9354-ba9ff6e96983",
   "metadata": {},
   "source": [
    "# Make a directory to story your data"
   ]
  },
  {
   "cell_type": "code",
   "execution_count": 49,
   "id": "4682bcef-bef5-4a00-a0de-30c2ee093ee7",
   "metadata": {},
   "outputs": [
    {
     "name": "stdout",
     "output_type": "stream",
     "text": [
      "mkdir: db: File exists\n"
     ]
    }
   ],
   "source": [
    "!mkdir db"
   ]
  },
  {
   "cell_type": "code",
   "execution_count": 50,
   "id": "7de05362-850d-4f0d-b201-023206c4b67d",
   "metadata": {},
   "outputs": [
    {
     "name": "stdout",
     "output_type": "stream",
     "text": [
      "00-SetUp.ipynb             \u001b[34mdb\u001b[m\u001b[m\n",
      "01-SciKitLearn.ipynb       \u001b[34mexhibits\u001b[m\u001b[m\n",
      "airbnb-10K-sample.csv      okcupid-10K-sample.csv\n",
      "anphoblacht-10K-sample.csv \u001b[34mold\u001b[m\u001b[m\n",
      "arxiv-10K-sample.csv       \u001b[34msrc\u001b[m\u001b[m\n",
      "\u001b[34mbiz\u001b[m\u001b[m                        utility.ipynb\n",
      "config.ini                 winereviews-10K-sample.csv\n",
      "\u001b[34mcorpora\u001b[m\u001b[m                    yelp-10K-sample.csv\n",
      "covid19-10K-sample.csv\n"
     ]
    }
   ],
   "source": [
    "!ls"
   ]
  },
  {
   "cell_type": "markdown",
   "id": "4212641a-3af2-4a70-8c4d-b72b636f3806",
   "metadata": {},
   "source": [
    "# Create sampled corpora"
   ]
  },
  {
   "cell_type": "code",
   "execution_count": 7,
   "id": "feb5d7e8-9007-4992-a319-c03f7aaa9ab6",
   "metadata": {},
   "outputs": [],
   "source": [
    "import pandas as pd"
   ]
  },
  {
   "cell_type": "code",
   "execution_count": 69,
   "id": "bacefff5-10e5-4046-8de6-a1d7576964c7",
   "metadata": {},
   "outputs": [],
   "source": [
    "src_root = 'corpora'\n",
    "corpora = !ls {src_root}/*.csv"
   ]
  },
  {
   "cell_type": "code",
   "execution_count": 70,
   "id": "27d5e82e-1028-4f89-9d8d-65c574cf70dd",
   "metadata": {},
   "outputs": [
    {
     "data": {
      "text/plain": [
       "['corpora/airbnb-corpus.csv',\n",
       " 'corpora/anphoblacht-corpus.csv',\n",
       " 'corpora/arxiv-corpus.csv',\n",
       " 'corpora/covid19-corpus.csv',\n",
       " 'corpora/novels-corpus.csv',\n",
       " 'corpora/okcupid-corpus.csv',\n",
       " 'corpora/tamilnet-corpus.csv',\n",
       " 'corpora/winereviews-corpus.csv',\n",
       " 'corpora/yelp-corpus.csv',\n",
       " 'corpora/zuboff-corpus.csv']"
      ]
     },
     "execution_count": 70,
     "metadata": {},
     "output_type": "execute_result"
    }
   ],
   "source": [
    "corpora"
   ]
  },
  {
   "cell_type": "code",
   "execution_count": 80,
   "id": "08e65bec-5fa3-4f18-823c-db76db2b78a7",
   "metadata": {},
   "outputs": [],
   "source": [
    "sample_size = 10000\n",
    "cols = []\n",
    "for corpus in corpora:\n",
    "    prefix = corpus.split('/')[1].split('-')[0]\n",
    "    if prefix == 'novels':\n",
    "        sep = ','\n",
    "    else:\n",
    "        sep = '|'\n",
    "    df = pd.read_csv(corpus, sep=sep, error_bad_lines=False, header=0)\n",
    "    if df.shape[0] > sample_size:\n",
    "        df = df.sample(sample_size).copy()\n",
    "        prefix += '-sampled'\n",
    "    cols += df.columns.to_list()\n",
    "    df.to_csv(f\"corpora/{prefix}-tapi.csv\", sep='|', index=False)"
   ]
  },
  {
   "cell_type": "markdown",
   "id": "586361fc-f6a7-41f6-9ae0-de18bd67b26f",
   "metadata": {},
   "source": [
    "# For Students"
   ]
  },
  {
   "cell_type": "markdown",
   "id": "d68ae4a1-5383-4484-9cd3-38eaab0cd968",
   "metadata": {},
   "source": [
    "* Use git to clone the site at https://github.com/ontoligent/TAPI_Topic_Models.git\n",
    "* Download files from https://virginia.box.com/s/0d7zpoenx6v4p5vsquo4a6ryuw6cxxiu into your 'corpora' directory"
   ]
  }
 ],
 "metadata": {
  "kernelspec": {
   "display_name": "Python 3",
   "language": "python",
   "name": "python3"
  },
  "language_info": {
   "codemirror_mode": {
    "name": "ipython",
    "version": 3
   },
   "file_extension": ".py",
   "mimetype": "text/x-python",
   "name": "python",
   "nbconvert_exporter": "python",
   "pygments_lexer": "ipython3",
   "version": "3.8.8"
  },
  "widgets": {
   "application/vnd.jupyter.widget-state+json": {
    "state": {},
    "version_major": 2,
    "version_minor": 0
   }
  }
 },
 "nbformat": 4,
 "nbformat_minor": 5
}
