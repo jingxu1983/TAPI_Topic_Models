{
 "cells": [
  {
   "cell_type": "markdown",
   "id": "f06d490a-5398-4f25-8113-4786b1966720",
   "metadata": {},
   "source": [
    "# Set Up Scripts\n",
    "\n",
    "These are various scripts used to prepare data, etc. This is not intended for student use."
   ]
  },
  {
   "cell_type": "code",
   "execution_count": 1,
   "id": "feb5d7e8-9007-4992-a319-c03f7aaa9ab6",
   "metadata": {},
   "outputs": [],
   "source": [
    "import pandas as pdz"
   ]
  },
  {
   "cell_type": "markdown",
   "id": "ec0614ad-9edb-4502-aab6-400bc6d53d0d",
   "metadata": {},
   "source": [
    "# Create smaller corpora"
   ]
  },
  {
   "cell_type": "code",
   "execution_count": 204,
   "id": "4debb693-b83a-484f-9617-62a0496a85be",
   "metadata": {},
   "outputs": [],
   "source": [
    "def reduce_corpora(corpora, sample_size = 10000):\n",
    "\n",
    "    for corpus in corpora:\n",
    "\n",
    "        prefix = corpus.split('/')[1].split('-')[0]\n",
    "        if prefix == 'novels':\n",
    "            sep = ','\n",
    "        else:\n",
    "            sep = '|'\n",
    "        df = pd.read_csv(corpus, sep=sep, error_bad_lines=False, header=0)\n",
    "        if df.shape[0] > sample_size:\n",
    "            df = df.sample(sample_size).copy()\n",
    "            \n",
    "        df.to_csv(f\"corpora/{prefix}-tapi.csv\", sep='|', index=False)"
   ]
  },
  {
   "cell_type": "code",
   "execution_count": 206,
   "id": "693af4c0-ae4e-4f40-8e18-f235f46246ad",
   "metadata": {},
   "outputs": [],
   "source": [
    "src_root = 'corpora'\n",
    "corpora = !ls {src_root}/*.csv    \n",
    "\n",
    "reduce_corpora(corpora)"
   ]
  },
  {
   "cell_type": "markdown",
   "id": "3fbffd9a-7aff-4057-ab1f-71cb76784794",
   "metadata": {},
   "source": [
    "# Import Constellate collection"
   ]
  },
  {
   "cell_type": "code",
   "execution_count": 62,
   "id": "d81608b9-c660-43cd-85de-885a078bf9b5",
   "metadata": {},
   "outputs": [],
   "source": [
    "import json"
   ]
  },
  {
   "cell_type": "code",
   "execution_count": 208,
   "id": "75e82a2c-8685-4ef1-913d-61f7205e20d7",
   "metadata": {},
   "outputs": [],
   "source": [
    "def constellate_to_polo(in_jsonl_file, out_csv_file):\n",
    "\n",
    "    coll = pd.DataFrame(open(in_jsonl_file, 'r').readlines())\n",
    "    coll.columns = ['raw']\n",
    "\n",
    "    def get_element(doc, key):\n",
    "        rec = json.loads(doc)\n",
    "        val = None\n",
    "        try:\n",
    "            val = rec[key]\n",
    "        except:\n",
    "            pass\n",
    "        return val\n",
    "\n",
    "    coll['doc_content'] = coll.raw.apply(lambda x: get_element(x, 'abstract')).dropna()\n",
    "    coll['doc_title'] = coll.raw.apply(lambda x: get_element(x, 'title'))\n",
    "    coll['doc_url'] = coll.raw.apply(lambda x: get_element(x, 'id'))\n",
    "    coll['doc_key'] = coll.doc_url.str.replace(r'http://www.jstor.org/stable/', '', regex=False)\n",
    "    coll['doc_date'] = coll.raw.apply(lambda x: get_element(x, 'datePublished'))\n",
    "    coll['doc_year'] = coll.doc_date.apply(lambda x: int(x.split('-')[0]))\n",
    "    coll['doc_lang'] = coll.raw.apply(lambda x: get_element(x, 'language'))\n",
    "    coll['doc_tdmcat'] = coll.raw.apply(lambda x: get_element(x, 'tdmCategory'))\n",
    "    coll['doc_srccat'] = coll.raw.apply(lambda x: get_element(x, 'sourceCategory'))\n",
    "\n",
    "    coll = coll[~coll.doc_content.isna()]    \n",
    "    \n",
    "    coll.iloc[:,1:].to_csv(out_csv_file, sep='|', index=False)"
   ]
  },
  {
   "cell_type": "code",
   "execution_count": 209,
   "id": "5924287a-b42b-4e34-ae3f-265af49637ac",
   "metadata": {},
   "outputs": [],
   "source": [
    "in_file = './corpora/4c5cb65a-f26b-d753-a419-ca63e1df90f3-sampled-jsonl'\n",
    "out_file = 'corpora/jstor_hyperparameter-corpus.csv'"
   ]
  },
  {
   "cell_type": "code",
   "execution_count": null,
   "id": "8f64c13b-bd57-46c8-8fc1-84eb5223cfc9",
   "metadata": {},
   "outputs": [],
   "source": [
    "constellate_to_polo(in_file, out_file)"
   ]
  }
 ],
 "metadata": {
  "kernelspec": {
   "display_name": "Python 3",
   "language": "python",
   "name": "python3"
  },
  "language_info": {
   "codemirror_mode": {
    "name": "ipython",
    "version": 3
   },
   "file_extension": ".py",
   "mimetype": "text/x-python",
   "name": "python",
   "nbconvert_exporter": "python",
   "pygments_lexer": "ipython3",
   "version": "3.8.8"
  },
  "widgets": {
   "application/vnd.jupyter.widget-state+json": {
    "state": {},
    "version_major": 2,
    "version_minor": 0
   }
  }
 },
 "nbformat": 4,
 "nbformat_minor": 5
}
